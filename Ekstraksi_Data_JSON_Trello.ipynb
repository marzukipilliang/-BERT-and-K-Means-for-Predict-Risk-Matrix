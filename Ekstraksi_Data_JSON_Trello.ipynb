{
  "nbformat": 4,
  "nbformat_minor": 0,
  "metadata": {
    "colab": {
      "provenance": [],
      "authorship_tag": "ABX9TyOCkPRwolAIvBbdb+SdpWDp",
      "include_colab_link": true
    },
    "kernelspec": {
      "name": "python3",
      "display_name": "Python 3"
    },
    "language_info": {
      "name": "python"
    }
  },
  "cells": [
    {
      "cell_type": "markdown",
      "metadata": {
        "id": "view-in-github",
        "colab_type": "text"
      },
      "source": [
        "<a href=\"https://colab.research.google.com/github/marzukipilliang/BERT-and-K-Means-for-Predict-Risk-Matrix/blob/main/Ekstraksi_Data_JSON_Trello.ipynb\" target=\"_parent\"><img src=\"https://colab.research.google.com/assets/colab-badge.svg\" alt=\"Open In Colab\"/></a>"
      ]
    },
    {
      "cell_type": "code",
      "source": [
        "from google.colab import drive\n",
        "drive.mount('/content/drive')"
      ],
      "metadata": {
        "colab": {
          "base_uri": "https://localhost:8080/",
          "height": 0
        },
        "id": "PICJ6bx84k5k",
        "outputId": "7b76093d-46ba-499b-c6dc-f88112a8516a"
      },
      "execution_count": 1,
      "outputs": [
        {
          "output_type": "stream",
          "name": "stdout",
          "text": [
            "Mounted at /content/drive\n"
          ]
        }
      ]
    },
    {
      "cell_type": "code",
      "source": [
        "import pandas as pd\n",
        "import os\n",
        "import json\n",
        "import numpy as np"
      ],
      "metadata": {
        "id": "DnLJ9OWB5ogV"
      },
      "execution_count": 2,
      "outputs": []
    },
    {
      "cell_type": "markdown",
      "source": [
        "# Connect to Kaggle"
      ],
      "metadata": {
        "id": "_w_CR6W-M0PC"
      }
    },
    {
      "cell_type": "code",
      "source": [
        "from google.colab import files\n",
        "\n",
        "uploaded = files.upload()\n",
        "\n",
        "for fn in uploaded.keys():\n",
        "  print('User uploaded file \"{name}\" with length {length} bytes'.format(\n",
        "      name=fn, length=len(uploaded[fn])))\n",
        "\n",
        "# Then move kaggle.json into the folder where the API expects to find it.\n",
        "!mkdir -p ~/.kaggle/ && mv kaggle.json ~/.kaggle/ && chmod 600 ~/.kaggle/kaggle.json"
      ],
      "metadata": {
        "colab": {
          "base_uri": "https://localhost:8080/",
          "height": 90
        },
        "id": "_8NB9IzwJ2i4",
        "outputId": "15628ce5-1f3f-4564-9d3e-e6e15eb60a4c"
      },
      "execution_count": 3,
      "outputs": [
        {
          "output_type": "display_data",
          "data": {
            "text/plain": [
              "<IPython.core.display.HTML object>"
            ],
            "text/html": [
              "\n",
              "     <input type=\"file\" id=\"files-cf8afa3a-10eb-4e62-aa64-c67e59855841\" name=\"files[]\" multiple disabled\n",
              "        style=\"border:none\" />\n",
              "     <output id=\"result-cf8afa3a-10eb-4e62-aa64-c67e59855841\">\n",
              "      Upload widget is only available when the cell has been executed in the\n",
              "      current browser session. Please rerun this cell to enable.\n",
              "      </output>\n",
              "      <script>// Copyright 2017 Google LLC\n",
              "//\n",
              "// Licensed under the Apache License, Version 2.0 (the \"License\");\n",
              "// you may not use this file except in compliance with the License.\n",
              "// You may obtain a copy of the License at\n",
              "//\n",
              "//      http://www.apache.org/licenses/LICENSE-2.0\n",
              "//\n",
              "// Unless required by applicable law or agreed to in writing, software\n",
              "// distributed under the License is distributed on an \"AS IS\" BASIS,\n",
              "// WITHOUT WARRANTIES OR CONDITIONS OF ANY KIND, either express or implied.\n",
              "// See the License for the specific language governing permissions and\n",
              "// limitations under the License.\n",
              "\n",
              "/**\n",
              " * @fileoverview Helpers for google.colab Python module.\n",
              " */\n",
              "(function(scope) {\n",
              "function span(text, styleAttributes = {}) {\n",
              "  const element = document.createElement('span');\n",
              "  element.textContent = text;\n",
              "  for (const key of Object.keys(styleAttributes)) {\n",
              "    element.style[key] = styleAttributes[key];\n",
              "  }\n",
              "  return element;\n",
              "}\n",
              "\n",
              "// Max number of bytes which will be uploaded at a time.\n",
              "const MAX_PAYLOAD_SIZE = 100 * 1024;\n",
              "\n",
              "function _uploadFiles(inputId, outputId) {\n",
              "  const steps = uploadFilesStep(inputId, outputId);\n",
              "  const outputElement = document.getElementById(outputId);\n",
              "  // Cache steps on the outputElement to make it available for the next call\n",
              "  // to uploadFilesContinue from Python.\n",
              "  outputElement.steps = steps;\n",
              "\n",
              "  return _uploadFilesContinue(outputId);\n",
              "}\n",
              "\n",
              "// This is roughly an async generator (not supported in the browser yet),\n",
              "// where there are multiple asynchronous steps and the Python side is going\n",
              "// to poll for completion of each step.\n",
              "// This uses a Promise to block the python side on completion of each step,\n",
              "// then passes the result of the previous step as the input to the next step.\n",
              "function _uploadFilesContinue(outputId) {\n",
              "  const outputElement = document.getElementById(outputId);\n",
              "  const steps = outputElement.steps;\n",
              "\n",
              "  const next = steps.next(outputElement.lastPromiseValue);\n",
              "  return Promise.resolve(next.value.promise).then((value) => {\n",
              "    // Cache the last promise value to make it available to the next\n",
              "    // step of the generator.\n",
              "    outputElement.lastPromiseValue = value;\n",
              "    return next.value.response;\n",
              "  });\n",
              "}\n",
              "\n",
              "/**\n",
              " * Generator function which is called between each async step of the upload\n",
              " * process.\n",
              " * @param {string} inputId Element ID of the input file picker element.\n",
              " * @param {string} outputId Element ID of the output display.\n",
              " * @return {!Iterable<!Object>} Iterable of next steps.\n",
              " */\n",
              "function* uploadFilesStep(inputId, outputId) {\n",
              "  const inputElement = document.getElementById(inputId);\n",
              "  inputElement.disabled = false;\n",
              "\n",
              "  const outputElement = document.getElementById(outputId);\n",
              "  outputElement.innerHTML = '';\n",
              "\n",
              "  const pickedPromise = new Promise((resolve) => {\n",
              "    inputElement.addEventListener('change', (e) => {\n",
              "      resolve(e.target.files);\n",
              "    });\n",
              "  });\n",
              "\n",
              "  const cancel = document.createElement('button');\n",
              "  inputElement.parentElement.appendChild(cancel);\n",
              "  cancel.textContent = 'Cancel upload';\n",
              "  const cancelPromise = new Promise((resolve) => {\n",
              "    cancel.onclick = () => {\n",
              "      resolve(null);\n",
              "    };\n",
              "  });\n",
              "\n",
              "  // Wait for the user to pick the files.\n",
              "  const files = yield {\n",
              "    promise: Promise.race([pickedPromise, cancelPromise]),\n",
              "    response: {\n",
              "      action: 'starting',\n",
              "    }\n",
              "  };\n",
              "\n",
              "  cancel.remove();\n",
              "\n",
              "  // Disable the input element since further picks are not allowed.\n",
              "  inputElement.disabled = true;\n",
              "\n",
              "  if (!files) {\n",
              "    return {\n",
              "      response: {\n",
              "        action: 'complete',\n",
              "      }\n",
              "    };\n",
              "  }\n",
              "\n",
              "  for (const file of files) {\n",
              "    const li = document.createElement('li');\n",
              "    li.append(span(file.name, {fontWeight: 'bold'}));\n",
              "    li.append(span(\n",
              "        `(${file.type || 'n/a'}) - ${file.size} bytes, ` +\n",
              "        `last modified: ${\n",
              "            file.lastModifiedDate ? file.lastModifiedDate.toLocaleDateString() :\n",
              "                                    'n/a'} - `));\n",
              "    const percent = span('0% done');\n",
              "    li.appendChild(percent);\n",
              "\n",
              "    outputElement.appendChild(li);\n",
              "\n",
              "    const fileDataPromise = new Promise((resolve) => {\n",
              "      const reader = new FileReader();\n",
              "      reader.onload = (e) => {\n",
              "        resolve(e.target.result);\n",
              "      };\n",
              "      reader.readAsArrayBuffer(file);\n",
              "    });\n",
              "    // Wait for the data to be ready.\n",
              "    let fileData = yield {\n",
              "      promise: fileDataPromise,\n",
              "      response: {\n",
              "        action: 'continue',\n",
              "      }\n",
              "    };\n",
              "\n",
              "    // Use a chunked sending to avoid message size limits. See b/62115660.\n",
              "    let position = 0;\n",
              "    do {\n",
              "      const length = Math.min(fileData.byteLength - position, MAX_PAYLOAD_SIZE);\n",
              "      const chunk = new Uint8Array(fileData, position, length);\n",
              "      position += length;\n",
              "\n",
              "      const base64 = btoa(String.fromCharCode.apply(null, chunk));\n",
              "      yield {\n",
              "        response: {\n",
              "          action: 'append',\n",
              "          file: file.name,\n",
              "          data: base64,\n",
              "        },\n",
              "      };\n",
              "\n",
              "      let percentDone = fileData.byteLength === 0 ?\n",
              "          100 :\n",
              "          Math.round((position / fileData.byteLength) * 100);\n",
              "      percent.textContent = `${percentDone}% done`;\n",
              "\n",
              "    } while (position < fileData.byteLength);\n",
              "  }\n",
              "\n",
              "  // All done.\n",
              "  yield {\n",
              "    response: {\n",
              "      action: 'complete',\n",
              "    }\n",
              "  };\n",
              "}\n",
              "\n",
              "scope.google = scope.google || {};\n",
              "scope.google.colab = scope.google.colab || {};\n",
              "scope.google.colab._files = {\n",
              "  _uploadFiles,\n",
              "  _uploadFilesContinue,\n",
              "};\n",
              "})(self);\n",
              "</script> "
            ]
          },
          "metadata": {}
        },
        {
          "output_type": "stream",
          "name": "stdout",
          "text": [
            "Saving kaggle.json to kaggle.json\n",
            "User uploaded file \"kaggle.json\" with length 71 bytes\n"
          ]
        }
      ]
    },
    {
      "cell_type": "code",
      "source": [
        "dir = f'drive/MyDrive/Colab Notebooks'\n",
        "files = os.listdir(dir)"
      ],
      "metadata": {
        "id": "51DsJJIu4twD"
      },
      "execution_count": 4,
      "outputs": []
    },
    {
      "cell_type": "code",
      "source": [
        "!kaggle kernels output marzukipilliang/803k-issues-keras-risk-matrix -p /content/dir"
      ],
      "metadata": {
        "colab": {
          "base_uri": "https://localhost:8080/",
          "height": 0
        },
        "id": "9_KqTCHjCnhI",
        "outputId": "111bb264-a09e-4f71-e124-762f5e9c0e4f"
      },
      "execution_count": 5,
      "outputs": [
        {
          "output_type": "stream",
          "name": "stdout",
          "text": [
            "Output file downloaded to /content/dir/categories_priority.png\n",
            "Output file downloaded to /content/dir/df_keras_risk_matrix.pickle\n",
            "Output file downloaded to /content/dir/keras_cluster.png\n",
            "Output file downloaded to /content/dir/priority_chart.png\n",
            "Output file downloaded to /content/dir/risk_matrix.png\n",
            "Kernel log downloaded to /content/dir/803k-issues-keras-risk-matrix.log \n"
          ]
        }
      ]
    },
    {
      "cell_type": "code",
      "source": [
        "!kaggle kernels output marzukipilliang/803k-issues-keras-classify-risk -p /content/dir"
      ],
      "metadata": {
        "colab": {
          "base_uri": "https://localhost:8080/",
          "height": 0
        },
        "id": "86oELsYwKWBX",
        "outputId": "f8346144-c0b4-49e5-c973-730c9295497b"
      },
      "execution_count": 6,
      "outputs": [
        {
          "output_type": "stream",
          "name": "stdout",
          "text": [
            "Output file downloaded to /content/dir/lstm_classification.h5\n",
            "Output file downloaded to /content/dir/lstm_matrix.png\n",
            "Output file downloaded to /content/dir/model_history.png\n",
            "Output file downloaded to /content/dir/naive_matrix.png\n",
            "Output file downloaded to /content/dir/priority_chart.png\n",
            "Output file downloaded to /content/dir/svm_matrix.png\n",
            "Output file downloaded to /content/dir/train_label.png\n",
            "Output file downloaded to /content/dir/validation_label.png\n",
            "Kernel log downloaded to /content/dir/803k-issues-keras-classify-risk.log \n"
          ]
        }
      ]
    },
    {
      "cell_type": "code",
      "source": [
        "import tensorflow as tf\n",
        "import tensorflow.python.keras\n",
        "import seaborn as sns\n",
        "import pickle\n",
        "from keras.preprocessing.text import Tokenizer\n",
        "from keras.utils import pad_sequences\n",
        "from datetime import datetime\n",
        "from sklearn.metrics import classification_report, confusion_matrix, accuracy_score"
      ],
      "metadata": {
        "id": "DdWR3v5PK-cA"
      },
      "execution_count": 7,
      "outputs": []
    },
    {
      "cell_type": "markdown",
      "source": [
        "# Load LSTM Model"
      ],
      "metadata": {
        "id": "M8XmRrSOMvuK"
      }
    },
    {
      "cell_type": "code",
      "source": [
        "MODELPATH = f'/content/dir/lstm_classification.h5'"
      ],
      "metadata": {
        "id": "P3wrt01lLMD-"
      },
      "execution_count": 8,
      "outputs": []
    },
    {
      "cell_type": "code",
      "source": [
        "lstm_model = tf.keras.models.load_model(MODELPATH)"
      ],
      "metadata": {
        "id": "SbfkMXgPL46t"
      },
      "execution_count": 9,
      "outputs": []
    },
    {
      "cell_type": "code",
      "source": [
        "# Risk Priority\n",
        "##########################\n",
        "# 0 -> Extreme Risk\n",
        "# 1 -> High Risk\n",
        "# 2 -> Medium Risk\n",
        "# 3 -> Small (Low) Risk\n",
        "##########################\n",
        "CLASSES = ['Extreme', 'High', 'Medium', 'Small']"
      ],
      "metadata": {
        "id": "t6rVdoH-MEIp"
      },
      "execution_count": 10,
      "outputs": []
    },
    {
      "cell_type": "code",
      "source": [
        "MAX_LEN = 185"
      ],
      "metadata": {
        "id": "0ysO2WfBMhGt"
      },
      "execution_count": 11,
      "outputs": []
    },
    {
      "cell_type": "code",
      "source": [
        "with open(f'/content/dir/df_keras_risk_matrix.pickle', 'rb') as fp:\n",
        "    df = pickle.load(fp)"
      ],
      "metadata": {
        "id": "VgBWxyhNOMLW"
      },
      "execution_count": 12,
      "outputs": []
    },
    {
      "cell_type": "code",
      "source": [
        "tokenizer = Tokenizer(num_words=50000, oov_token='oov')"
      ],
      "metadata": {
        "id": "upRoTUPAMTSZ"
      },
      "execution_count": 13,
      "outputs": []
    },
    {
      "cell_type": "code",
      "source": [
        "tokenizer.fit_on_texts(df['cleaned'].tolist())"
      ],
      "metadata": {
        "id": "ceNuWxD2OZq7"
      },
      "execution_count": 14,
      "outputs": []
    },
    {
      "cell_type": "code",
      "source": [
        "def lstm_priority(corpus):\n",
        "    tkn = tokenizer.texts_to_sequences(corpus)\n",
        "    tkn_padded = pad_sequences(tkn, padding='post', truncating='post', maxlen=MAX_LEN)\n",
        "    prd = lstm_model.predict(tkn_padded)\n",
        "    return CLASSES[int(np.argmax(prd, axis=1))]"
      ],
      "metadata": {
        "id": "k1oOWnUhL62F"
      },
      "execution_count": 15,
      "outputs": []
    },
    {
      "cell_type": "code",
      "source": [
        "# test model\n",
        "print(lstm_priority(['good performance']))"
      ],
      "metadata": {
        "colab": {
          "base_uri": "https://localhost:8080/",
          "height": 0
        },
        "id": "WZF2AXQ2M7Ci",
        "outputId": "d39c62c7-f5e0-47a1-ee7c-97ea2c780128"
      },
      "execution_count": 16,
      "outputs": [
        {
          "output_type": "stream",
          "name": "stdout",
          "text": [
            "1/1 [==============================] - 1s 1s/step\n",
            "Small\n"
          ]
        }
      ]
    },
    {
      "cell_type": "markdown",
      "source": [
        "# Parsing Trello Data"
      ],
      "metadata": {
        "id": "4BqSJDvQO6lO"
      }
    },
    {
      "cell_type": "code",
      "source": [
        "f = open(os.path.join(dir, 'IsoGsgt8.json'),)\n",
        "data = json.load(f)"
      ],
      "metadata": {
        "id": "Lq333z1R8WdF"
      },
      "execution_count": 17,
      "outputs": []
    },
    {
      "cell_type": "code",
      "source": [
        "lists = {l['id']: l['name'] for l in data['lists']}\n",
        "users = {u['id']: u['fullName'] for u in data['members']}\n",
        "labels = {l['id']: l['name'] for l in data['labels']}\n",
        "\n",
        "parsed_cards = [{\n",
        "    \"name\": c['name'],\n",
        "    \"list\": lists[c['idList']],\n",
        "    \"description\": c['desc'],\n",
        "    \"members\": [u for k, u in users.items() if k in c['idMembers']],\n",
        "    \"labels\": [l for k, l in labels.items() if k in c['idLabels']]\n",
        "} for c in data['cards']]\n",
        "\n",
        "output = {\n",
        "    \"board_data\": {\n",
        "        \"name\": data['name'],\n",
        "        \"url\": data['shortUrl']\n",
        "    },\n",
        "    \"cards\": parsed_cards\n",
        "}"
      ],
      "metadata": {
        "id": "l3vzPk1lbnYV"
      },
      "execution_count": 18,
      "outputs": []
    },
    {
      "cell_type": "code",
      "source": [
        "output['cards']"
      ],
      "metadata": {
        "colab": {
          "base_uri": "https://localhost:8080/",
          "height": 0
        },
        "id": "pY5zBqe_kuZi",
        "outputId": "747e0c51-cd22-4c5a-875b-449d8827cc41"
      },
      "execution_count": 19,
      "outputs": [
        {
          "output_type": "execute_result",
          "data": {
            "text/plain": [
              "[{'name': 'Backlog',\n",
              "  'list': 'Backlog',\n",
              "  'description': 'A list of the things we think we want to do, maybe not quite ready for work, but high likelihood of being worked on.\\n\\nThis is the staging area where specs should get fleshed out.\\n\\nNo limit on the list size, but we should reconsider if it gets long.',\n",
              "  'members': [],\n",
              "  'labels': []},\n",
              " {'name': 'Term of References',\n",
              "  'list': 'Backlog',\n",
              "  'description': 'Pelayanan Terpatu Satu Pintu (PTSP) dilatar belakangi hal berikut:\\n\\n- Pentingnya peningkatan _service level_ Kementerian Agama Kota Bekasi dalam memberikan pelayanan prima kepada masyarakat.\\n- Pentingnya meminimalisir kontak langsung masyarakat dengan petugas dimasa pandemi, layanan Kemenag Kota Bekasi dapat diakses kapan saja dan dimana saja.\\n- Pentingnya penyajian data bagi pimpinan dan stakeholder terkait yang akurat dan riil time untuk menjadi rujukan pengambilan keputusan.\\n- Pentingnya penyajian data bagi pimpinan dan stakeholder terkait yang akurat dan riil time untuk menjadi rujukan pengambilan keputusan.\\n\\n\\u200c',\n",
              "  'members': [],\n",
              "  'labels': []},\n",
              " {'name': 'To Do',\n",
              "  'list': 'Next Sprint',\n",
              "  'description': 'This is a list of things that are good to pull off to work on, prioritized.\\n\\nIf there are too few items here, we should swarm against getting tasks ready for work.',\n",
              "  'members': [],\n",
              "  'labels': []},\n",
              " {'name': 'Goals',\n",
              "  'list': 'Sprint Backlog',\n",
              "  'description': '',\n",
              "  'members': [],\n",
              "  'labels': []},\n",
              " {'name': 'Development',\n",
              "  'list': 'Doing',\n",
              "  'description': 'These are the things that folks are working on.\\n\\nAll our engineers should have at least one item in this state.\\n\\nIf there are too few things here, they should be pulled off Todo.\\n\\nWhen doing is done, cards move to Code Review.',\n",
              "  'members': [],\n",
              "  'labels': []},\n",
              " {'name': 'Risks',\n",
              "  'list': 'Risk Register',\n",
              "  'description': 'This list is for items in code review. \\n\\nWhen a task has gotten approval, it moves off to Testing.\\n\\nIf there are too many cards here, we should break off from other tasks to get code review done.',\n",
              "  'members': [],\n",
              "  'labels': []},\n",
              " {'name': 'Server delivery is expected to be delayed',\n",
              "  'list': 'Risk Register',\n",
              "  'description': 'Server delivery from vendors is expected to be delayed because they are waiting for 8 GB of RAM which will be used for upgrading specs',\n",
              "  'members': [],\n",
              "  'labels': ['Risk Mitigation', 'Scrum Master']},\n",
              " {'name': 'Junior frontend developer is on leave',\n",
              "  'list': 'Risk Register',\n",
              "  'description': 'The developer is on holiday for Christmas and new year',\n",
              "  'members': [],\n",
              "  'labels': ['Scrum Master', 'Risk Tranfer']},\n",
              " {'name': 'Change Minor for Flowchart in Module \"Pendaftaran Haji dan Pembatalan Haji\"',\n",
              "  'list': 'Risk Register',\n",
              "  'description': 'Requests for changes to flow from the Administration section, the flow of outgoing mail and incoming mail must go through the front-desk and the knowledge of the heads of sub-sections',\n",
              "  'members': [],\n",
              "  'labels': ['BA & System Analyst', 'Risk Monitoring']},\n",
              " {'name': 'First Sprint DoD with Minimum Stories',\n",
              "  'list': 'Risk Register',\n",
              "  'description': 'In this first sprint there is a possibility that the number of DoD user stories will be small, some user stories will be included in the next Sprint',\n",
              "  'members': [],\n",
              "  'labels': ['Risk Monitoring']},\n",
              " {'name': 'Waiting for Domain Confirmation',\n",
              "  'list': 'Risk Register',\n",
              "  'description': 'The Product Owner was confirmed that the domain will be ready in two weeks',\n",
              "  'members': [],\n",
              "  'labels': ['Scrum Master', 'Risk Acceptance']},\n",
              " {'name': \"The Main Link Internet wasn't installed yet\",\n",
              "  'list': 'Risk Register',\n",
              "  'description': 'The main link internet was not installed yet, the client still looking for best price',\n",
              "  'members': [],\n",
              "  'labels': ['Risk Acceptance']},\n",
              " {'name': 'Request for email blast was rejected by Provider',\n",
              "  'list': 'Risk Register',\n",
              "  'description': 'The request for the Email Blast service was rejected by the provider because the email DKIM requirements have not been fulfilled',\n",
              "  'members': ['Marzuki Pilliang'],\n",
              "  'labels': ['Risk Mitigation']},\n",
              " {'name': 'Change Request for Flowchart in Sprint #3',\n",
              "  'list': 'Risk Register',\n",
              "  'description': 'The Product Owner requested a change to the Flowchart for the Incoming and Outgoing Mail flows in Sprint #3',\n",
              "  'members': [],\n",
              "  'labels': ['BA & System Analyst', 'Risk Mitigation']},\n",
              " {'name': 'SSL not yet active',\n",
              "  'list': 'Risk Register',\n",
              "  'description': 'SSL security cannot be activated, because the client has not purchased a paid SSL',\n",
              "  'members': ['Marzuki Pilliang'],\n",
              "  'labels': ['Risk Mitigation']},\n",
              " {'name': 'There no captcha yet',\n",
              "  'list': 'Risk Register',\n",
              "  'description': 'There is no captcha validation yet on the new form of proposed Hajj and Umrah services',\n",
              "  'members': ['Marzuki Pilliang'],\n",
              "  'labels': ['Risk Mitigation']},\n",
              " {'name': 'Trials and Pentest Result',\n",
              "  'list': 'Risk Register',\n",
              "  'description': 'The results of the trial and penetration testing by the central Ministry of Religion have the potential to finish the project not on time, if the results obtained are not up to standard',\n",
              "  'members': [],\n",
              "  'labels': ['Risk Avoidance']},\n",
              " {'name': 'Testing',\n",
              "  'list': 'Testing',\n",
              "  'description': \"Cards come here after being code reviewed, and we're in a place for QA and fixing things QA finds. Design review also happens at this stage.\\n\\nIf we have too many cards here, we should throw a flag and figure out whether we're building things that take too many passes of QA, or if we're bottlenecked on QA time.\",\n",
              "  'members': [],\n",
              "  'labels': []},\n",
              " {'name': 'Done',\n",
              "  'list': 'Done 🎉',\n",
              "  'description': 'We shipped it to production! ',\n",
              "  'members': [],\n",
              "  'labels': []},\n",
              " {'name': 'Project Charter',\n",
              "  'list': 'Done 🎉',\n",
              "  'description': 'Project charter here is represented by term of references',\n",
              "  'members': [],\n",
              "  'labels': []},\n",
              " {'name': 'API Development Final Phase',\n",
              "  'list': 'Done 🎉',\n",
              "  'description': '',\n",
              "  'members': ['Marzuki Pilliang'],\n",
              "  'labels': ['Backend Developer']},\n",
              " {'name': 'Database Design',\n",
              "  'list': 'Done 🎉',\n",
              "  'description': 'Database Design for PTSP',\n",
              "  'members': [],\n",
              "  'labels': ['BA & System Analyst']},\n",
              " {'name': 'The specification of Server',\n",
              "  'list': 'Done 🎉',\n",
              "  'description': 'The server used by the Dell PowerEdge R240 costs IDR 21,600,000, with the following specifications:\\n\\n- Processor Intel Xeon E-2224 (3.4GHz 8M cache 4C/4T turbo 71W)\\n- Chassis 4 x 3.5 Hotplug Hard Drives\\n- RAM 16GB (2 x 8GB) 3200MT/s DDR4 ECC UDIMM\\n- 1TB 7.2K RPM SATA 6Gbps 3.5in Hotplug Hard Drive\\n- PERC H330 RAID Controller, DVD+/-RW SATA, Single Cabled Power\\n- Supply 250W, Dual Port 1GB, iDRAC9 Basic\\n- No Operating System\\n\\n\\u200c',\n",
              "  'members': [],\n",
              "  'labels': ['Scrum Master']},\n",
              " {'name': 'Flowchart of offline queue apps',\n",
              "  'list': 'Done 🎉',\n",
              "  'description': 'Todo Business Analyst',\n",
              "  'members': [],\n",
              "  'labels': ['BA & System Analyst']},\n",
              " {'name': 'Flowchart of PTSP Website Frontend',\n",
              "  'list': 'Done 🎉',\n",
              "  'description': 'Flowchart of PTSP Kementerian Agama Kota Bekasi',\n",
              "  'members': [],\n",
              "  'labels': ['BA & System Analyst']},\n",
              " {'name': 'UI/UX Design for Website Frontend',\n",
              "  'list': 'Done 🎉',\n",
              "  'description': 'User Interface and User Experience (UI/UX) Design for Website Frontend',\n",
              "  'members': [],\n",
              "  'labels': ['UI/UX Designer']},\n",
              " {'name': 'API Development Phase 1',\n",
              "  'list': 'Done 🎉',\n",
              "  'description': 'API Development Phase 1 for Website Frontend and Backoffice user.\\n\\nTodo by Backend Developer',\n",
              "  'members': [],\n",
              "  'labels': ['Backend Developer']},\n",
              " {'name': 'Change Request for Flowchart \"Pendaftaran Haji dan Pembatalan Haji\"',\n",
              "  'list': 'Done 🎉',\n",
              "  'description': '',\n",
              "  'members': ['Marzuki Pilliang'],\n",
              "  'labels': ['BA & System Analyst']},\n",
              " {'name': 'UI/UX Design for Offline Queues Apps',\n",
              "  'list': 'Done 🎉',\n",
              "  'description': '',\n",
              "  'members': [],\n",
              "  'labels': ['UI/UX Designer']}]"
            ]
          },
          "metadata": {},
          "execution_count": 19
        }
      ]
    },
    {
      "cell_type": "code",
      "source": [
        "df = pd.DataFrame(output['cards'])"
      ],
      "metadata": {
        "id": "CDacpqLWkF7c"
      },
      "execution_count": 20,
      "outputs": []
    },
    {
      "cell_type": "code",
      "source": [
        "list(df.columns)"
      ],
      "metadata": {
        "id": "SqUjIrsHl0dy",
        "outputId": "0d4f66e3-38a5-4512-cb24-37c30da7ac2a",
        "colab": {
          "base_uri": "https://localhost:8080/",
          "height": 0
        }
      },
      "execution_count": 21,
      "outputs": [
        {
          "output_type": "execute_result",
          "data": {
            "text/plain": [
              "['name', 'list', 'description', 'members', 'labels']"
            ]
          },
          "metadata": {},
          "execution_count": 21
        }
      ]
    },
    {
      "cell_type": "code",
      "source": [
        "risks = df.loc[(df['description'] != '')\n",
        "  & (df['list'] == 'Risk Register')\n",
        "  & (df['name'] != 'Risks')]['description'].tolist()"
      ],
      "metadata": {
        "id": "DoXhaMwWRH7m"
      },
      "execution_count": 22,
      "outputs": []
    },
    {
      "cell_type": "code",
      "source": [
        "df_risk = pd.DataFrame(risks, columns=['risk'])\n",
        "df_risk"
      ],
      "metadata": {
        "colab": {
          "base_uri": "https://localhost:8080/",
          "height": 394
        },
        "id": "Iw9tOu5XY5FT",
        "outputId": "47aa954c-6a1f-4e51-b009-526c6d6cd890"
      },
      "execution_count": 23,
      "outputs": [
        {
          "output_type": "execute_result",
          "data": {
            "text/plain": [
              "                                                 risk\n",
              "0   Server delivery from vendors is expected to be...\n",
              "1   The developer is on holiday for Christmas and ...\n",
              "2   Requests for changes to flow from the Administ...\n",
              "3   In this first sprint there is a possibility th...\n",
              "4   The Product Owner was confirmed that the domai...\n",
              "5   The main link internet was not installed yet, ...\n",
              "6   The request for the Email Blast service was re...\n",
              "7   The Product Owner requested a change to the Fl...\n",
              "8   SSL security cannot be activated, because the ...\n",
              "9   There is no captcha validation yet on the new ...\n",
              "10  The results of the trial and penetration testi..."
            ],
            "text/html": [
              "\n",
              "  <div id=\"df-8dc2742f-ffcd-4eec-9560-cee9e7b5ea3c\">\n",
              "    <div class=\"colab-df-container\">\n",
              "      <div>\n",
              "<style scoped>\n",
              "    .dataframe tbody tr th:only-of-type {\n",
              "        vertical-align: middle;\n",
              "    }\n",
              "\n",
              "    .dataframe tbody tr th {\n",
              "        vertical-align: top;\n",
              "    }\n",
              "\n",
              "    .dataframe thead th {\n",
              "        text-align: right;\n",
              "    }\n",
              "</style>\n",
              "<table border=\"1\" class=\"dataframe\">\n",
              "  <thead>\n",
              "    <tr style=\"text-align: right;\">\n",
              "      <th></th>\n",
              "      <th>risk</th>\n",
              "    </tr>\n",
              "  </thead>\n",
              "  <tbody>\n",
              "    <tr>\n",
              "      <th>0</th>\n",
              "      <td>Server delivery from vendors is expected to be...</td>\n",
              "    </tr>\n",
              "    <tr>\n",
              "      <th>1</th>\n",
              "      <td>The developer is on holiday for Christmas and ...</td>\n",
              "    </tr>\n",
              "    <tr>\n",
              "      <th>2</th>\n",
              "      <td>Requests for changes to flow from the Administ...</td>\n",
              "    </tr>\n",
              "    <tr>\n",
              "      <th>3</th>\n",
              "      <td>In this first sprint there is a possibility th...</td>\n",
              "    </tr>\n",
              "    <tr>\n",
              "      <th>4</th>\n",
              "      <td>The Product Owner was confirmed that the domai...</td>\n",
              "    </tr>\n",
              "    <tr>\n",
              "      <th>5</th>\n",
              "      <td>The main link internet was not installed yet, ...</td>\n",
              "    </tr>\n",
              "    <tr>\n",
              "      <th>6</th>\n",
              "      <td>The request for the Email Blast service was re...</td>\n",
              "    </tr>\n",
              "    <tr>\n",
              "      <th>7</th>\n",
              "      <td>The Product Owner requested a change to the Fl...</td>\n",
              "    </tr>\n",
              "    <tr>\n",
              "      <th>8</th>\n",
              "      <td>SSL security cannot be activated, because the ...</td>\n",
              "    </tr>\n",
              "    <tr>\n",
              "      <th>9</th>\n",
              "      <td>There is no captcha validation yet on the new ...</td>\n",
              "    </tr>\n",
              "    <tr>\n",
              "      <th>10</th>\n",
              "      <td>The results of the trial and penetration testi...</td>\n",
              "    </tr>\n",
              "  </tbody>\n",
              "</table>\n",
              "</div>\n",
              "      <button class=\"colab-df-convert\" onclick=\"convertToInteractive('df-8dc2742f-ffcd-4eec-9560-cee9e7b5ea3c')\"\n",
              "              title=\"Convert this dataframe to an interactive table.\"\n",
              "              style=\"display:none;\">\n",
              "        \n",
              "  <svg xmlns=\"http://www.w3.org/2000/svg\" height=\"24px\"viewBox=\"0 0 24 24\"\n",
              "       width=\"24px\">\n",
              "    <path d=\"M0 0h24v24H0V0z\" fill=\"none\"/>\n",
              "    <path d=\"M18.56 5.44l.94 2.06.94-2.06 2.06-.94-2.06-.94-.94-2.06-.94 2.06-2.06.94zm-11 1L8.5 8.5l.94-2.06 2.06-.94-2.06-.94L8.5 2.5l-.94 2.06-2.06.94zm10 10l.94 2.06.94-2.06 2.06-.94-2.06-.94-.94-2.06-.94 2.06-2.06.94z\"/><path d=\"M17.41 7.96l-1.37-1.37c-.4-.4-.92-.59-1.43-.59-.52 0-1.04.2-1.43.59L10.3 9.45l-7.72 7.72c-.78.78-.78 2.05 0 2.83L4 21.41c.39.39.9.59 1.41.59.51 0 1.02-.2 1.41-.59l7.78-7.78 2.81-2.81c.8-.78.8-2.07 0-2.86zM5.41 20L4 18.59l7.72-7.72 1.47 1.35L5.41 20z\"/>\n",
              "  </svg>\n",
              "      </button>\n",
              "      \n",
              "  <style>\n",
              "    .colab-df-container {\n",
              "      display:flex;\n",
              "      flex-wrap:wrap;\n",
              "      gap: 12px;\n",
              "    }\n",
              "\n",
              "    .colab-df-convert {\n",
              "      background-color: #E8F0FE;\n",
              "      border: none;\n",
              "      border-radius: 50%;\n",
              "      cursor: pointer;\n",
              "      display: none;\n",
              "      fill: #1967D2;\n",
              "      height: 32px;\n",
              "      padding: 0 0 0 0;\n",
              "      width: 32px;\n",
              "    }\n",
              "\n",
              "    .colab-df-convert:hover {\n",
              "      background-color: #E2EBFA;\n",
              "      box-shadow: 0px 1px 2px rgba(60, 64, 67, 0.3), 0px 1px 3px 1px rgba(60, 64, 67, 0.15);\n",
              "      fill: #174EA6;\n",
              "    }\n",
              "\n",
              "    [theme=dark] .colab-df-convert {\n",
              "      background-color: #3B4455;\n",
              "      fill: #D2E3FC;\n",
              "    }\n",
              "\n",
              "    [theme=dark] .colab-df-convert:hover {\n",
              "      background-color: #434B5C;\n",
              "      box-shadow: 0px 1px 3px 1px rgba(0, 0, 0, 0.15);\n",
              "      filter: drop-shadow(0px 1px 2px rgba(0, 0, 0, 0.3));\n",
              "      fill: #FFFFFF;\n",
              "    }\n",
              "  </style>\n",
              "\n",
              "      <script>\n",
              "        const buttonEl =\n",
              "          document.querySelector('#df-8dc2742f-ffcd-4eec-9560-cee9e7b5ea3c button.colab-df-convert');\n",
              "        buttonEl.style.display =\n",
              "          google.colab.kernel.accessAllowed ? 'block' : 'none';\n",
              "\n",
              "        async function convertToInteractive(key) {\n",
              "          const element = document.querySelector('#df-8dc2742f-ffcd-4eec-9560-cee9e7b5ea3c');\n",
              "          const dataTable =\n",
              "            await google.colab.kernel.invokeFunction('convertToInteractive',\n",
              "                                                     [key], {});\n",
              "          if (!dataTable) return;\n",
              "\n",
              "          const docLinkHtml = 'Like what you see? Visit the ' +\n",
              "            '<a target=\"_blank\" href=https://colab.research.google.com/notebooks/data_table.ipynb>data table notebook</a>'\n",
              "            + ' to learn more about interactive tables.';\n",
              "          element.innerHTML = '';\n",
              "          dataTable['output_type'] = 'display_data';\n",
              "          await google.colab.output.renderOutput(dataTable, element);\n",
              "          const docLink = document.createElement('div');\n",
              "          docLink.innerHTML = docLinkHtml;\n",
              "          element.appendChild(docLink);\n",
              "        }\n",
              "      </script>\n",
              "    </div>\n",
              "  </div>\n",
              "  "
            ]
          },
          "metadata": {},
          "execution_count": 23
        }
      ]
    },
    {
      "cell_type": "markdown",
      "source": [
        "# Risk Priority Classification using Model LSTM"
      ],
      "metadata": {
        "id": "z4_OFKBBuexT"
      }
    },
    {
      "cell_type": "code",
      "source": [
        "df_risk['prediction'] = df_risk['risk'].apply(lambda x: lstm_priority([x]))"
      ],
      "metadata": {
        "colab": {
          "base_uri": "https://localhost:8080/",
          "height": 0
        },
        "id": "yYsplt06WkvO",
        "outputId": "b78032fe-3055-4ab9-dafc-07c1def9756b"
      },
      "execution_count": 24,
      "outputs": [
        {
          "output_type": "stream",
          "name": "stdout",
          "text": [
            "1/1 [==============================] - 0s 251ms/step\n",
            "1/1 [==============================] - 0s 40ms/step\n",
            "1/1 [==============================] - 0s 42ms/step\n",
            "1/1 [==============================] - 0s 39ms/step\n",
            "1/1 [==============================] - 0s 42ms/step\n",
            "1/1 [==============================] - 0s 45ms/step\n",
            "1/1 [==============================] - 0s 39ms/step\n",
            "1/1 [==============================] - 0s 54ms/step\n",
            "1/1 [==============================] - 0s 40ms/step\n",
            "1/1 [==============================] - 0s 46ms/step\n",
            "1/1 [==============================] - 0s 45ms/step\n"
          ]
        }
      ]
    },
    {
      "cell_type": "code",
      "source": [
        "df_risk"
      ],
      "metadata": {
        "colab": {
          "base_uri": "https://localhost:8080/",
          "height": 344
        },
        "id": "8VQ5f6Gua7nB",
        "outputId": "50c26bc0-0c86-412a-813b-cb755f8b5591"
      },
      "execution_count": 25,
      "outputs": [
        {
          "output_type": "execute_result",
          "data": {
            "text/plain": [
              "                                                 risk prediction\n",
              "0   Server delivery from vendors is expected to be...      Small\n",
              "1   The developer is on holiday for Christmas and ...     Medium\n",
              "2   Requests for changes to flow from the Administ...      Small\n",
              "3   In this first sprint there is a possibility th...     Medium\n",
              "4   The Product Owner was confirmed that the domai...      Small\n",
              "5   The main link internet was not installed yet, ...      Small\n",
              "6   The request for the Email Blast service was re...      Small\n",
              "7   The Product Owner requested a change to the Fl...     Medium\n",
              "8   SSL security cannot be activated, because the ...      Small\n",
              "9   There is no captcha validation yet on the new ...      Small\n",
              "10  The results of the trial and penetration testi...      Small"
            ],
            "text/html": [
              "\n",
              "  <div id=\"df-a7f97722-4f27-4a2e-b54f-5b62a2999650\">\n",
              "    <div class=\"colab-df-container\">\n",
              "      <div>\n",
              "<style scoped>\n",
              "    .dataframe tbody tr th:only-of-type {\n",
              "        vertical-align: middle;\n",
              "    }\n",
              "\n",
              "    .dataframe tbody tr th {\n",
              "        vertical-align: top;\n",
              "    }\n",
              "\n",
              "    .dataframe thead th {\n",
              "        text-align: right;\n",
              "    }\n",
              "</style>\n",
              "<table border=\"1\" class=\"dataframe\">\n",
              "  <thead>\n",
              "    <tr style=\"text-align: right;\">\n",
              "      <th></th>\n",
              "      <th>risk</th>\n",
              "      <th>prediction</th>\n",
              "    </tr>\n",
              "  </thead>\n",
              "  <tbody>\n",
              "    <tr>\n",
              "      <th>0</th>\n",
              "      <td>Server delivery from vendors is expected to be...</td>\n",
              "      <td>Small</td>\n",
              "    </tr>\n",
              "    <tr>\n",
              "      <th>1</th>\n",
              "      <td>The developer is on holiday for Christmas and ...</td>\n",
              "      <td>Medium</td>\n",
              "    </tr>\n",
              "    <tr>\n",
              "      <th>2</th>\n",
              "      <td>Requests for changes to flow from the Administ...</td>\n",
              "      <td>Small</td>\n",
              "    </tr>\n",
              "    <tr>\n",
              "      <th>3</th>\n",
              "      <td>In this first sprint there is a possibility th...</td>\n",
              "      <td>Medium</td>\n",
              "    </tr>\n",
              "    <tr>\n",
              "      <th>4</th>\n",
              "      <td>The Product Owner was confirmed that the domai...</td>\n",
              "      <td>Small</td>\n",
              "    </tr>\n",
              "    <tr>\n",
              "      <th>5</th>\n",
              "      <td>The main link internet was not installed yet, ...</td>\n",
              "      <td>Small</td>\n",
              "    </tr>\n",
              "    <tr>\n",
              "      <th>6</th>\n",
              "      <td>The request for the Email Blast service was re...</td>\n",
              "      <td>Small</td>\n",
              "    </tr>\n",
              "    <tr>\n",
              "      <th>7</th>\n",
              "      <td>The Product Owner requested a change to the Fl...</td>\n",
              "      <td>Medium</td>\n",
              "    </tr>\n",
              "    <tr>\n",
              "      <th>8</th>\n",
              "      <td>SSL security cannot be activated, because the ...</td>\n",
              "      <td>Small</td>\n",
              "    </tr>\n",
              "    <tr>\n",
              "      <th>9</th>\n",
              "      <td>There is no captcha validation yet on the new ...</td>\n",
              "      <td>Small</td>\n",
              "    </tr>\n",
              "    <tr>\n",
              "      <th>10</th>\n",
              "      <td>The results of the trial and penetration testi...</td>\n",
              "      <td>Small</td>\n",
              "    </tr>\n",
              "  </tbody>\n",
              "</table>\n",
              "</div>\n",
              "      <button class=\"colab-df-convert\" onclick=\"convertToInteractive('df-a7f97722-4f27-4a2e-b54f-5b62a2999650')\"\n",
              "              title=\"Convert this dataframe to an interactive table.\"\n",
              "              style=\"display:none;\">\n",
              "        \n",
              "  <svg xmlns=\"http://www.w3.org/2000/svg\" height=\"24px\"viewBox=\"0 0 24 24\"\n",
              "       width=\"24px\">\n",
              "    <path d=\"M0 0h24v24H0V0z\" fill=\"none\"/>\n",
              "    <path d=\"M18.56 5.44l.94 2.06.94-2.06 2.06-.94-2.06-.94-.94-2.06-.94 2.06-2.06.94zm-11 1L8.5 8.5l.94-2.06 2.06-.94-2.06-.94L8.5 2.5l-.94 2.06-2.06.94zm10 10l.94 2.06.94-2.06 2.06-.94-2.06-.94-.94-2.06-.94 2.06-2.06.94z\"/><path d=\"M17.41 7.96l-1.37-1.37c-.4-.4-.92-.59-1.43-.59-.52 0-1.04.2-1.43.59L10.3 9.45l-7.72 7.72c-.78.78-.78 2.05 0 2.83L4 21.41c.39.39.9.59 1.41.59.51 0 1.02-.2 1.41-.59l7.78-7.78 2.81-2.81c.8-.78.8-2.07 0-2.86zM5.41 20L4 18.59l7.72-7.72 1.47 1.35L5.41 20z\"/>\n",
              "  </svg>\n",
              "      </button>\n",
              "      \n",
              "  <style>\n",
              "    .colab-df-container {\n",
              "      display:flex;\n",
              "      flex-wrap:wrap;\n",
              "      gap: 12px;\n",
              "    }\n",
              "\n",
              "    .colab-df-convert {\n",
              "      background-color: #E8F0FE;\n",
              "      border: none;\n",
              "      border-radius: 50%;\n",
              "      cursor: pointer;\n",
              "      display: none;\n",
              "      fill: #1967D2;\n",
              "      height: 32px;\n",
              "      padding: 0 0 0 0;\n",
              "      width: 32px;\n",
              "    }\n",
              "\n",
              "    .colab-df-convert:hover {\n",
              "      background-color: #E2EBFA;\n",
              "      box-shadow: 0px 1px 2px rgba(60, 64, 67, 0.3), 0px 1px 3px 1px rgba(60, 64, 67, 0.15);\n",
              "      fill: #174EA6;\n",
              "    }\n",
              "\n",
              "    [theme=dark] .colab-df-convert {\n",
              "      background-color: #3B4455;\n",
              "      fill: #D2E3FC;\n",
              "    }\n",
              "\n",
              "    [theme=dark] .colab-df-convert:hover {\n",
              "      background-color: #434B5C;\n",
              "      box-shadow: 0px 1px 3px 1px rgba(0, 0, 0, 0.15);\n",
              "      filter: drop-shadow(0px 1px 2px rgba(0, 0, 0, 0.3));\n",
              "      fill: #FFFFFF;\n",
              "    }\n",
              "  </style>\n",
              "\n",
              "      <script>\n",
              "        const buttonEl =\n",
              "          document.querySelector('#df-a7f97722-4f27-4a2e-b54f-5b62a2999650 button.colab-df-convert');\n",
              "        buttonEl.style.display =\n",
              "          google.colab.kernel.accessAllowed ? 'block' : 'none';\n",
              "\n",
              "        async function convertToInteractive(key) {\n",
              "          const element = document.querySelector('#df-a7f97722-4f27-4a2e-b54f-5b62a2999650');\n",
              "          const dataTable =\n",
              "            await google.colab.kernel.invokeFunction('convertToInteractive',\n",
              "                                                     [key], {});\n",
              "          if (!dataTable) return;\n",
              "\n",
              "          const docLinkHtml = 'Like what you see? Visit the ' +\n",
              "            '<a target=\"_blank\" href=https://colab.research.google.com/notebooks/data_table.ipynb>data table notebook</a>'\n",
              "            + ' to learn more about interactive tables.';\n",
              "          element.innerHTML = '';\n",
              "          dataTable['output_type'] = 'display_data';\n",
              "          await google.colab.output.renderOutput(dataTable, element);\n",
              "          const docLink = document.createElement('div');\n",
              "          docLink.innerHTML = docLinkHtml;\n",
              "          element.appendChild(docLink);\n",
              "        }\n",
              "      </script>\n",
              "    </div>\n",
              "  </div>\n",
              "  "
            ]
          },
          "metadata": {},
          "execution_count": 25
        }
      ]
    }
  ]
}