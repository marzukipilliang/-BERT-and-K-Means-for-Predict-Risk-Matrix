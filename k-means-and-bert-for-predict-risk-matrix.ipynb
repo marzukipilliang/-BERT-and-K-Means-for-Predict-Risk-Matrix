{
 "cells": [
  {
   "cell_type": "code",
   "execution_count": 1,
   "id": "dc0d1f74",
   "metadata": {
    "execution": {
     "iopub.execute_input": "2022-08-06T11:52:14.076634Z",
     "iopub.status.busy": "2022-08-06T11:52:14.076067Z",
     "iopub.status.idle": "2022-08-06T11:52:19.339520Z",
     "shell.execute_reply": "2022-08-06T11:52:19.338565Z"
    },
    "id": "YLXqCSiiTd_L",
    "papermill": {
     "duration": 5.287694,
     "end_time": "2022-08-06T11:52:19.342233",
     "exception": false,
     "start_time": "2022-08-06T11:52:14.054539",
     "status": "completed"
    },
    "tags": []
   },
   "outputs": [],
   "source": [
    "import os\n",
    "import pandas as pd\n",
    "import numpy as np\n",
    "import re\n",
    "from sklearn.cluster import KMeans\n",
    "import matplotlib.pyplot as plt\n",
    "import pickle\n",
    "import tensorflow as tf\n",
    "import tensorflow.python.keras\n",
    "import statistics\n",
    "import seaborn as sns"
   ]
  },
  {
   "cell_type": "code",
   "execution_count": 2,
   "id": "4c90732f",
   "metadata": {
    "execution": {
     "iopub.execute_input": "2022-08-06T11:52:19.375561Z",
     "iopub.status.busy": "2022-08-06T11:52:19.375068Z",
     "iopub.status.idle": "2022-08-06T11:52:19.379562Z",
     "shell.execute_reply": "2022-08-06T11:52:19.378660Z"
    },
    "id": "yzxIJKlM3pyP",
    "papermill": {
     "duration": 0.023911,
     "end_time": "2022-08-06T11:52:19.381631",
     "exception": false,
     "start_time": "2022-08-06T11:52:19.357720",
     "status": "completed"
    },
    "tags": []
   },
   "outputs": [],
   "source": [
    "dir = '../input/60k-stack-overflow-questions-with-quality-rate'"
   ]
  },
  {
   "cell_type": "code",
   "execution_count": 3,
   "id": "7feb6ce3",
   "metadata": {
    "execution": {
     "iopub.execute_input": "2022-08-06T11:52:19.412254Z",
     "iopub.status.busy": "2022-08-06T11:52:19.411409Z",
     "iopub.status.idle": "2022-08-06T11:52:21.000176Z",
     "shell.execute_reply": "2022-08-06T11:52:20.999114Z"
    },
    "id": "p5WG1CSGTZad",
    "papermill": {
     "duration": 1.606573,
     "end_time": "2022-08-06T11:52:21.002684",
     "exception": false,
     "start_time": "2022-08-06T11:52:19.396111",
     "status": "completed"
    },
    "tags": []
   },
   "outputs": [],
   "source": [
    "# join train and valid dataset\n",
    "data = pd.concat(\n",
    "    [\n",
    "        pd.read_csv(f'{dir}/train.csv', index_col='Id'),\n",
    "        pd.read_csv(f'{dir}/valid.csv', index_col='Id')\n",
    "    ],\n",
    "    axis=0\n",
    ")"
   ]
  },
  {
   "cell_type": "code",
   "execution_count": 4,
   "id": "6de9e01e",
   "metadata": {
    "execution": {
     "iopub.execute_input": "2022-08-06T11:52:21.038129Z",
     "iopub.status.busy": "2022-08-06T11:52:21.037006Z",
     "iopub.status.idle": "2022-08-06T11:52:21.209679Z",
     "shell.execute_reply": "2022-08-06T11:52:21.208537Z"
    },
    "id": "I1wO5-8JTkO7",
    "outputId": "d5fc9ba2-01e9-4650-80f6-601e2dcc5e31",
    "papermill": {
     "duration": 0.193174,
     "end_time": "2022-08-06T11:52:21.212733",
     "exception": false,
     "start_time": "2022-08-06T11:52:21.019559",
     "status": "completed"
    },
    "tags": []
   },
   "outputs": [
    {
     "data": {
      "text/html": [
       "<div>\n",
       "<style scoped>\n",
       "    .dataframe tbody tr th:only-of-type {\n",
       "        vertical-align: middle;\n",
       "    }\n",
       "\n",
       "    .dataframe tbody tr th {\n",
       "        vertical-align: top;\n",
       "    }\n",
       "\n",
       "    .dataframe thead th {\n",
       "        text-align: right;\n",
       "    }\n",
       "</style>\n",
       "<table border=\"1\" class=\"dataframe\">\n",
       "  <thead>\n",
       "    <tr style=\"text-align: right;\">\n",
       "      <th></th>\n",
       "      <th>Title</th>\n",
       "      <th>Body</th>\n",
       "      <th>Tags</th>\n",
       "      <th>CreationDate</th>\n",
       "      <th>Y</th>\n",
       "    </tr>\n",
       "    <tr>\n",
       "      <th>Id</th>\n",
       "      <th></th>\n",
       "      <th></th>\n",
       "      <th></th>\n",
       "      <th></th>\n",
       "      <th></th>\n",
       "    </tr>\n",
       "  </thead>\n",
       "  <tbody>\n",
       "    <tr>\n",
       "      <th>34552656</th>\n",
       "      <td>Java: Repeat Task Every Random Seconds</td>\n",
       "      <td>&lt;p&gt;I'm already familiar with repeating tasks e...</td>\n",
       "      <td>&lt;java&gt;&lt;repeat&gt;</td>\n",
       "      <td>2016-01-01 00:21:59</td>\n",
       "      <td>LQ_CLOSE</td>\n",
       "    </tr>\n",
       "    <tr>\n",
       "      <th>34553034</th>\n",
       "      <td>Why are Java Optionals immutable?</td>\n",
       "      <td>&lt;p&gt;I'd like to understand why Java 8 Optionals...</td>\n",
       "      <td>&lt;java&gt;&lt;optional&gt;</td>\n",
       "      <td>2016-01-01 02:03:20</td>\n",
       "      <td>HQ</td>\n",
       "    </tr>\n",
       "    <tr>\n",
       "      <th>34553174</th>\n",
       "      <td>Text Overlay Image with Darkened Opacity React...</td>\n",
       "      <td>&lt;p&gt;I am attempting to overlay a title over an ...</td>\n",
       "      <td>&lt;javascript&gt;&lt;image&gt;&lt;overlay&gt;&lt;react-native&gt;&lt;opa...</td>\n",
       "      <td>2016-01-01 02:48:24</td>\n",
       "      <td>HQ</td>\n",
       "    </tr>\n",
       "    <tr>\n",
       "      <th>34553318</th>\n",
       "      <td>Why ternary operator in swift is so picky?</td>\n",
       "      <td>&lt;p&gt;The question is very simple, but I just cou...</td>\n",
       "      <td>&lt;swift&gt;&lt;operators&gt;&lt;whitespace&gt;&lt;ternary-operato...</td>\n",
       "      <td>2016-01-01 03:30:17</td>\n",
       "      <td>HQ</td>\n",
       "    </tr>\n",
       "    <tr>\n",
       "      <th>34553755</th>\n",
       "      <td>hide/show fab with scale animation</td>\n",
       "      <td>&lt;p&gt;I'm using custom floatingactionmenu. I need...</td>\n",
       "      <td>&lt;android&gt;&lt;material-design&gt;&lt;floating-action-but...</td>\n",
       "      <td>2016-01-01 05:21:48</td>\n",
       "      <td>HQ</td>\n",
       "    </tr>\n",
       "  </tbody>\n",
       "</table>\n",
       "</div>"
      ],
      "text/plain": [
       "                                                      Title  \\\n",
       "Id                                                            \n",
       "34552656             Java: Repeat Task Every Random Seconds   \n",
       "34553034                  Why are Java Optionals immutable?   \n",
       "34553174  Text Overlay Image with Darkened Opacity React...   \n",
       "34553318         Why ternary operator in swift is so picky?   \n",
       "34553755                 hide/show fab with scale animation   \n",
       "\n",
       "                                                       Body  \\\n",
       "Id                                                            \n",
       "34552656  <p>I'm already familiar with repeating tasks e...   \n",
       "34553034  <p>I'd like to understand why Java 8 Optionals...   \n",
       "34553174  <p>I am attempting to overlay a title over an ...   \n",
       "34553318  <p>The question is very simple, but I just cou...   \n",
       "34553755  <p>I'm using custom floatingactionmenu. I need...   \n",
       "\n",
       "                                                       Tags  \\\n",
       "Id                                                            \n",
       "34552656                                     <java><repeat>   \n",
       "34553034                                   <java><optional>   \n",
       "34553174  <javascript><image><overlay><react-native><opa...   \n",
       "34553318  <swift><operators><whitespace><ternary-operato...   \n",
       "34553755  <android><material-design><floating-action-but...   \n",
       "\n",
       "                 CreationDate         Y  \n",
       "Id                                       \n",
       "34552656  2016-01-01 00:21:59  LQ_CLOSE  \n",
       "34553034  2016-01-01 02:03:20        HQ  \n",
       "34553174  2016-01-01 02:48:24        HQ  \n",
       "34553318  2016-01-01 03:30:17        HQ  \n",
       "34553755  2016-01-01 05:21:48        HQ  "
      ]
     },
     "execution_count": 4,
     "metadata": {},
     "output_type": "execute_result"
    }
   ],
   "source": [
    "data.head()"
   ]
  },
  {
   "cell_type": "code",
   "execution_count": 5,
   "id": "8d084570",
   "metadata": {
    "execution": {
     "iopub.execute_input": "2022-08-06T11:52:21.248236Z",
     "iopub.status.busy": "2022-08-06T11:52:21.247305Z",
     "iopub.status.idle": "2022-08-06T11:52:21.258937Z",
     "shell.execute_reply": "2022-08-06T11:52:21.257634Z"
    },
    "id": "EaBos32WRUFM",
    "outputId": "6c0b5316-2a8e-4334-f960-81d2ff6d2be2",
    "papermill": {
     "duration": 0.031806,
     "end_time": "2022-08-06T11:52:21.261309",
     "exception": false,
     "start_time": "2022-08-06T11:52:21.229503",
     "status": "completed"
    },
    "tags": []
   },
   "outputs": [
    {
     "data": {
      "text/plain": [
       "(60000, 3)"
      ]
     },
     "execution_count": 5,
     "metadata": {},
     "output_type": "execute_result"
    }
   ],
   "source": [
    "df = data.drop(columns=['Tags', 'CreationDate'])\n",
    "df.shape"
   ]
  },
  {
   "cell_type": "code",
   "execution_count": 6,
   "id": "e4f53353",
   "metadata": {
    "execution": {
     "iopub.execute_input": "2022-08-06T11:52:21.294646Z",
     "iopub.status.busy": "2022-08-06T11:52:21.294316Z",
     "iopub.status.idle": "2022-08-06T11:52:21.383187Z",
     "shell.execute_reply": "2022-08-06T11:52:21.382185Z"
    },
    "id": "ojM17EglTuhz",
    "papermill": {
     "duration": 0.108406,
     "end_time": "2022-08-06T11:52:21.385824",
     "exception": false,
     "start_time": "2022-08-06T11:52:21.277418",
     "status": "completed"
    },
    "tags": []
   },
   "outputs": [],
   "source": [
    "# joint title and body and drop them\n",
    "df['Text'] = df['Title']+ \" \"+df['Body']\n",
    "df = df.drop(columns=['Title', 'Body'])"
   ]
  },
  {
   "cell_type": "code",
   "execution_count": 7,
   "id": "a6b017e7",
   "metadata": {
    "execution": {
     "iopub.execute_input": "2022-08-06T11:52:21.420423Z",
     "iopub.status.busy": "2022-08-06T11:52:21.420077Z",
     "iopub.status.idle": "2022-08-06T11:52:21.888450Z",
     "shell.execute_reply": "2022-08-06T11:52:21.887383Z"
    },
    "id": "QGUTy-wFOIhb",
    "outputId": "2b0a36cb-0f7c-4e4a-c1d1-0d5556268e3e",
    "papermill": {
     "duration": 0.488403,
     "end_time": "2022-08-06T11:52:21.890780",
     "exception": false,
     "start_time": "2022-08-06T11:52:21.402377",
     "status": "completed"
    },
    "tags": []
   },
   "outputs": [
    {
     "data": {
      "text/html": [
       "<div>\n",
       "<style scoped>\n",
       "    .dataframe tbody tr th:only-of-type {\n",
       "        vertical-align: middle;\n",
       "    }\n",
       "\n",
       "    .dataframe tbody tr th {\n",
       "        vertical-align: top;\n",
       "    }\n",
       "\n",
       "    .dataframe thead th {\n",
       "        text-align: right;\n",
       "    }\n",
       "</style>\n",
       "<table border=\"1\" class=\"dataframe\">\n",
       "  <thead>\n",
       "    <tr style=\"text-align: right;\">\n",
       "      <th></th>\n",
       "      <th>Y</th>\n",
       "      <th>Text</th>\n",
       "      <th>Words</th>\n",
       "    </tr>\n",
       "    <tr>\n",
       "      <th>Id</th>\n",
       "      <th></th>\n",
       "      <th></th>\n",
       "      <th></th>\n",
       "    </tr>\n",
       "  </thead>\n",
       "  <tbody>\n",
       "  </tbody>\n",
       "</table>\n",
       "</div>"
      ],
      "text/plain": [
       "Empty DataFrame\n",
       "Columns: [Y, Text, Words]\n",
       "Index: []"
      ]
     },
     "execution_count": 7,
     "metadata": {},
     "output_type": "execute_result"
    }
   ],
   "source": [
    "# find maximum length of sentence\n",
    "df['Words'] = df['Text'].apply(lambda x: len(x.split()))\n",
    "# word less than 2 words\n",
    "df[df['Words'] <= 1]"
   ]
  },
  {
   "cell_type": "code",
   "execution_count": 8,
   "id": "e45b652a",
   "metadata": {
    "execution": {
     "iopub.execute_input": "2022-08-06T11:52:21.927227Z",
     "iopub.status.busy": "2022-08-06T11:52:21.926243Z",
     "iopub.status.idle": "2022-08-06T11:52:21.936200Z",
     "shell.execute_reply": "2022-08-06T11:52:21.935086Z"
    },
    "id": "tEh5fHpPOULk",
    "outputId": "661deb49-92d9-4300-f01a-8ffcd2fc49bb",
    "papermill": {
     "duration": 0.029984,
     "end_time": "2022-08-06T11:52:21.938355",
     "exception": false,
     "start_time": "2022-08-06T11:52:21.908371",
     "status": "completed"
    },
    "tags": []
   },
   "outputs": [
    {
     "data": {
      "text/plain": [
       "5420"
      ]
     },
     "execution_count": 8,
     "metadata": {},
     "output_type": "execute_result"
    }
   ],
   "source": [
    "df.loc[df['Words'].idxmax()].Words"
   ]
  },
  {
   "cell_type": "code",
   "execution_count": 9,
   "id": "14b5ca4f",
   "metadata": {
    "execution": {
     "iopub.execute_input": "2022-08-06T11:52:21.972252Z",
     "iopub.status.busy": "2022-08-06T11:52:21.971923Z",
     "iopub.status.idle": "2022-08-06T11:52:21.988613Z",
     "shell.execute_reply": "2022-08-06T11:52:21.987635Z"
    },
    "id": "WRVEmaCOOXSN",
    "outputId": "27300b76-a29b-4833-9207-1a2b5f2d0cb3",
    "papermill": {
     "duration": 0.036998,
     "end_time": "2022-08-06T11:52:21.991450",
     "exception": false,
     "start_time": "2022-08-06T11:52:21.954452",
     "status": "completed"
    },
    "tags": []
   },
   "outputs": [
    {
     "name": "stdout",
     "output_type": "stream",
     "text": [
      "Maximum words:  5420\n",
      "Minimum words:  8\n",
      "Median:  88.0\n"
     ]
    }
   ],
   "source": [
    "# a simple strategy to choose the max length\n",
    "WORD_LENS = df['Words'].tolist()\n",
    "print('Maximum words: ', max(WORD_LENS))\n",
    "print('Minimum words: ',min(WORD_LENS))\n",
    "print('Median: ',statistics.median(WORD_LENS))"
   ]
  },
  {
   "cell_type": "code",
   "execution_count": 10,
   "id": "32f67fce",
   "metadata": {
    "execution": {
     "iopub.execute_input": "2022-08-06T11:52:22.025777Z",
     "iopub.status.busy": "2022-08-06T11:52:22.025446Z",
     "iopub.status.idle": "2022-08-06T11:52:25.559899Z",
     "shell.execute_reply": "2022-08-06T11:52:25.558984Z"
    },
    "id": "lPuSFPA7O2kF",
    "outputId": "c072fc47-e6fa-4187-ea6f-33a66d4e6f43",
    "papermill": {
     "duration": 3.553444,
     "end_time": "2022-08-06T11:52:25.562022",
     "exception": false,
     "start_time": "2022-08-06T11:52:22.008578",
     "status": "completed"
    },
    "tags": []
   },
   "outputs": [
    {
     "data": {
      "image/png": "[encoded data removed]",
      "text/plain": [
       "<Figure size 720x432 with 1 Axes>"
      ]
     },
     "metadata": {
      "needs_background": "light"
     },
     "output_type": "display_data"
    }
   ],
   "source": [
    "fig, ax = plt.subplots(figsize=(10, 6))\n",
    "sns.histplot(WORD_LENS, color='blue', kde=True, stat='density', linewidth=0)\n",
    "plt.xlim([0, 300])\n",
    "plt.xlabel('Word Count')\n",
    "plt.title('Word Distribution')\n",
    "plt.grid(False)\n",
    "plt.savefig(f'EECSI_density.png', format='png', dpi=300)\n",
    "plt.show()"
   ]
  },
  {
   "cell_type": "code",
   "execution_count": 11,
   "id": "92a4483a",
   "metadata": {
    "execution": {
     "iopub.execute_input": "2022-08-06T11:52:25.596027Z",
     "iopub.status.busy": "2022-08-06T11:52:25.595508Z",
     "iopub.status.idle": "2022-08-06T11:52:25.599930Z",
     "shell.execute_reply": "2022-08-06T11:52:25.598893Z"
    },
    "id": "gPCsg8G5PYTO",
    "papermill": {
     "duration": 0.024013,
     "end_time": "2022-08-06T11:52:25.602234",
     "exception": false,
     "start_time": "2022-08-06T11:52:25.578221",
     "status": "completed"
    },
    "tags": []
   },
   "outputs": [],
   "source": [
    "MAX_LEN = 200"
   ]
  },
  {
   "cell_type": "markdown",
   "id": "ed6a5d05",
   "metadata": {
    "id": "EMrMJyBPTwK0",
    "papermill": {
     "duration": 0.016525,
     "end_time": "2022-08-06T11:52:25.634624",
     "exception": false,
     "start_time": "2022-08-06T11:52:25.618099",
     "status": "completed"
    },
    "tags": []
   },
   "source": [
    "**Data Preprocessing**"
   ]
  },
  {
   "cell_type": "code",
   "execution_count": 12,
   "id": "40c4dfb9",
   "metadata": {
    "execution": {
     "iopub.execute_input": "2022-08-06T11:52:25.669887Z",
     "iopub.status.busy": "2022-08-06T11:52:25.669512Z",
     "iopub.status.idle": "2022-08-06T11:52:40.694925Z",
     "shell.execute_reply": "2022-08-06T11:52:40.693645Z"
    },
    "id": "LoHFNkIxx_ls",
    "outputId": "9ec4c33e-5e45-4faf-d917-7b3fdbd71a77",
    "papermill": {
     "duration": 15.045854,
     "end_time": "2022-08-06T11:52:40.697753",
     "exception": false,
     "start_time": "2022-08-06T11:52:25.651899",
     "status": "completed"
    },
    "tags": []
   },
   "outputs": [
    {
     "name": "stdout",
     "output_type": "stream",
     "text": [
      "\u001b[33mWARNING: Skipping preprocessor as it is not installed.\u001b[0m\u001b[33m\r\n",
      "\u001b[0m\u001b[33mWARNING: Running pip as the 'root' user can result in broken permissions and conflicting behaviour with the system package manager. It is recommended to use a virtual environment instead: https://pip.pypa.io/warnings/venv\u001b[0m\u001b[33m\r\n",
      "\u001b[0m\u001b[33mWARNING: Skipping tweet-preprocessor as it is not installed.\u001b[0m\u001b[33m\r\n",
      "\u001b[0m\u001b[33mWARNING: Running pip as the 'root' user can result in broken permissions and conflicting behaviour with the system package manager. It is recommended to use a virtual environment instead: https://pip.pypa.io/warnings/venv\u001b[0m\u001b[33m\r\n",
      "\u001b[0mCollecting tweet-preprocessor\r\n",
      "  Downloading tweet_preprocessor-0.6.0-py3-none-any.whl (27 kB)\r\n",
      "Installing collected packages: tweet-preprocessor\r\n",
      "Successfully installed tweet-preprocessor-0.6.0\r\n",
      "\u001b[33mWARNING: Running pip as the 'root' user can result in broken permissions and conflicting behaviour with the system package manager. It is recommended to use a virtual environment instead: https://pip.pypa.io/warnings/venv\u001b[0m\u001b[33m\r\n",
      "\u001b[0m"
     ]
    }
   ],
   "source": [
    "!pip uninstall -y preprocessor\n",
    "!pip uninstall -y tweet-preprocessor\n",
    "!pip install tweet-preprocessor"
   ]
  },
  {
   "cell_type": "code",
   "execution_count": 13,
   "id": "638a79be",
   "metadata": {
    "execution": {
     "iopub.execute_input": "2022-08-06T11:52:40.732915Z",
     "iopub.status.busy": "2022-08-06T11:52:40.732540Z",
     "iopub.status.idle": "2022-08-06T11:52:40.752972Z",
     "shell.execute_reply": "2022-08-06T11:52:40.752100Z"
    },
    "id": "k5XLV8BSzSg0",
    "papermill": {
     "duration": 0.039806,
     "end_time": "2022-08-06T11:52:40.754959",
     "exception": false,
     "start_time": "2022-08-06T11:52:40.715153",
     "status": "completed"
    },
    "tags": []
   },
   "outputs": [],
   "source": [
    "import preprocessor as p"
   ]
  },
  {
   "cell_type": "code",
   "execution_count": 14,
   "id": "336f891f",
   "metadata": {
    "execution": {
     "iopub.execute_input": "2022-08-06T11:52:40.790079Z",
     "iopub.status.busy": "2022-08-06T11:52:40.789163Z",
     "iopub.status.idle": "2022-08-06T11:52:41.685610Z",
     "shell.execute_reply": "2022-08-06T11:52:41.684519Z"
    },
    "id": "7Pm_DOnXxs3p",
    "outputId": "da0f08e6-3e9f-4d09-f110-173b67d5b74c",
    "papermill": {
     "duration": 0.915996,
     "end_time": "2022-08-06T11:52:41.687905",
     "exception": false,
     "start_time": "2022-08-06T11:52:40.771909",
     "status": "completed"
    },
    "tags": []
   },
   "outputs": [
    {
     "name": "stdout",
     "output_type": "stream",
     "text": [
      "[nltk_data] Downloading package stopwords to /usr/share/nltk_data...\n",
      "[nltk_data]   Unzipping corpora/stopwords.zip.\n",
      "[nltk_data] Downloading package wordnet to /usr/share/nltk_data...\n",
      "[nltk_data]   Package wordnet is already up-to-date!\n",
      "[nltk_data] Downloading package omw-1.4 to /usr/share/nltk_data...\n"
     ]
    },
    {
     "data": {
      "text/plain": [
       "True"
      ]
     },
     "execution_count": 14,
     "metadata": {},
     "output_type": "execute_result"
    }
   ],
   "source": [
    "import nltk\n",
    "nltk.download('stopwords')\n",
    "nltk.download('wordnet')\n",
    "nltk.download('omw-1.4')"
   ]
  },
  {
   "cell_type": "code",
   "execution_count": 15,
   "id": "9eeb2322",
   "metadata": {
    "execution": {
     "iopub.execute_input": "2022-08-06T11:52:41.723988Z",
     "iopub.status.busy": "2022-08-06T11:52:41.723610Z",
     "iopub.status.idle": "2022-08-06T11:52:41.728526Z",
     "shell.execute_reply": "2022-08-06T11:52:41.727452Z"
    },
    "id": "DeA2gKC-vHw-",
    "papermill": {
     "duration": 0.024734,
     "end_time": "2022-08-06T11:52:41.730849",
     "exception": false,
     "start_time": "2022-08-06T11:52:41.706115",
     "status": "completed"
    },
    "tags": []
   },
   "outputs": [],
   "source": [
    "# load libraries\n",
    "import string\n",
    "from nltk.corpus import stopwords\n",
    "from nltk.stem.snowball import SnowballStemmer\n",
    "from nltk.stem.wordnet import WordNetLemmatizer"
   ]
  },
  {
   "cell_type": "code",
   "execution_count": 16,
   "id": "3e4856f4",
   "metadata": {
    "execution": {
     "iopub.execute_input": "2022-08-06T11:52:41.766460Z",
     "iopub.status.busy": "2022-08-06T11:52:41.765504Z",
     "iopub.status.idle": "2022-08-06T11:52:41.772185Z",
     "shell.execute_reply": "2022-08-06T11:52:41.771372Z"
    },
    "id": "PYWBgdAxTzRz",
    "papermill": {
     "duration": 0.026474,
     "end_time": "2022-08-06T11:52:41.774234",
     "exception": false,
     "start_time": "2022-08-06T11:52:41.747760",
     "status": "completed"
    },
    "tags": []
   },
   "outputs": [],
   "source": [
    "def cleaned(text):\n",
    "    #change to lowercase\n",
    "    clean_text = text.translate(str.maketrans('','',string.punctuation)).lower()\n",
    "    #remove stopwords\n",
    "    clean_text = [word for word in clean_text.split() if word not in stopwords.words('english')]\n",
    "    #lemmatize\n",
    "    sentence = []\n",
    "    for word in clean_text:\n",
    "        lemmatizer = WordNetLemmatizer()\n",
    "        word = p.clean(word)\n",
    "        sentence.append(lemmatizer.lemmatize(word, 'v'))\n",
    "    \n",
    "    return ' '.join(sentence)"
   ]
  },
  {
   "cell_type": "code",
   "execution_count": 17,
   "id": "68456058",
   "metadata": {
    "execution": {
     "iopub.execute_input": "2022-08-06T11:52:41.809147Z",
     "iopub.status.busy": "2022-08-06T11:52:41.808269Z",
     "iopub.status.idle": "2022-08-06T11:57:53.134059Z",
     "shell.execute_reply": "2022-08-06T11:57:53.133069Z"
    },
    "id": "jke22PSHUAlQ",
    "papermill": {
     "duration": 311.346026,
     "end_time": "2022-08-06T11:57:53.136577",
     "exception": false,
     "start_time": "2022-08-06T11:52:41.790551",
     "status": "completed"
    },
    "tags": []
   },
   "outputs": [],
   "source": [
    "# cleaning\n",
    "df['Cleaned'] = df['Text'].apply(lambda x : cleaned(x[:MAX_LEN]))"
   ]
  },
  {
   "cell_type": "code",
   "execution_count": 18,
   "id": "9a933d8d",
   "metadata": {
    "execution": {
     "iopub.execute_input": "2022-08-06T11:57:53.173870Z",
     "iopub.status.busy": "2022-08-06T11:57:53.172830Z",
     "iopub.status.idle": "2022-08-06T11:57:53.192384Z",
     "shell.execute_reply": "2022-08-06T11:57:53.191241Z"
    },
    "id": "BqMcL9UmULM7",
    "outputId": "e8ea7fd4-260a-481e-ab96-e0b2f225e0e5",
    "papermill": {
     "duration": 0.040258,
     "end_time": "2022-08-06T11:57:53.195015",
     "exception": false,
     "start_time": "2022-08-06T11:57:53.154757",
     "status": "completed"
    },
    "tags": []
   },
   "outputs": [
    {
     "data": {
      "text/html": [
       "<div>\n",
       "<style scoped>\n",
       "    .dataframe tbody tr th:only-of-type {\n",
       "        vertical-align: middle;\n",
       "    }\n",
       "\n",
       "    .dataframe tbody tr th {\n",
       "        vertical-align: top;\n",
       "    }\n",
       "\n",
       "    .dataframe thead th {\n",
       "        text-align: right;\n",
       "    }\n",
       "</style>\n",
       "<table border=\"1\" class=\"dataframe\">\n",
       "  <thead>\n",
       "    <tr style=\"text-align: right;\">\n",
       "      <th></th>\n",
       "      <th>Text</th>\n",
       "      <th>Cleaned</th>\n",
       "    </tr>\n",
       "    <tr>\n",
       "      <th>Id</th>\n",
       "      <th></th>\n",
       "      <th></th>\n",
       "    </tr>\n",
       "  </thead>\n",
       "  <tbody>\n",
       "    <tr>\n",
       "      <th>34552656</th>\n",
       "      <td>Java: Repeat Task Every Random Seconds &lt;p&gt;I'm ...</td>\n",
       "      <td>java repeat task every random second pim alrea...</td>\n",
       "    </tr>\n",
       "    <tr>\n",
       "      <th>34553034</th>\n",
       "      <td>Why are Java Optionals immutable? &lt;p&gt;I'd like ...</td>\n",
       "      <td>java optionals immutable pid like understand j...</td>\n",
       "    </tr>\n",
       "    <tr>\n",
       "      <th>34553174</th>\n",
       "      <td>Text Overlay Image with Darkened Opacity React...</td>\n",
       "      <td>text overlay image darken opacity react native...</td>\n",
       "    </tr>\n",
       "    <tr>\n",
       "      <th>34553318</th>\n",
       "      <td>Why ternary operator in swift is so picky? &lt;p&gt;...</td>\n",
       "      <td>ternary operator swift picky pthe question sim...</td>\n",
       "    </tr>\n",
       "    <tr>\n",
       "      <th>34553755</th>\n",
       "      <td>hide/show fab with scale animation &lt;p&gt;I'm usin...</td>\n",
       "      <td>hideshow fab scale animation pim use custom fl...</td>\n",
       "    </tr>\n",
       "  </tbody>\n",
       "</table>\n",
       "</div>"
      ],
      "text/plain": [
       "                                                       Text  \\\n",
       "Id                                                            \n",
       "34552656  Java: Repeat Task Every Random Seconds <p>I'm ...   \n",
       "34553034  Why are Java Optionals immutable? <p>I'd like ...   \n",
       "34553174  Text Overlay Image with Darkened Opacity React...   \n",
       "34553318  Why ternary operator in swift is so picky? <p>...   \n",
       "34553755  hide/show fab with scale animation <p>I'm usin...   \n",
       "\n",
       "                                                    Cleaned  \n",
       "Id                                                           \n",
       "34552656  java repeat task every random second pim alrea...  \n",
       "34553034  java optionals immutable pid like understand j...  \n",
       "34553174  text overlay image darken opacity react native...  \n",
       "34553318  ternary operator swift picky pthe question sim...  \n",
       "34553755  hideshow fab scale animation pim use custom fl...  "
      ]
     },
     "execution_count": 18,
     "metadata": {},
     "output_type": "execute_result"
    }
   ],
   "source": [
    "df[['Text','Cleaned']].head()"
   ]
  },
  {
   "cell_type": "code",
   "execution_count": 19,
   "id": "53963078",
   "metadata": {
    "execution": {
     "iopub.execute_input": "2022-08-06T11:57:53.232501Z",
     "iopub.status.busy": "2022-08-06T11:57:53.231673Z",
     "iopub.status.idle": "2022-08-06T11:58:02.595208Z",
     "shell.execute_reply": "2022-08-06T11:58:02.594016Z"
    },
    "id": "RxETKkt3UPTL",
    "outputId": "1d3911ba-49e8-48ff-c4c8-0ddea4cd6e9d",
    "papermill": {
     "duration": 9.385111,
     "end_time": "2022-08-06T11:58:02.597957",
     "exception": false,
     "start_time": "2022-08-06T11:57:53.212846",
     "status": "completed"
    },
    "tags": []
   },
   "outputs": [
    {
     "name": "stdout",
     "output_type": "stream",
     "text": [
      "Requirement already satisfied: WordCloud in /opt/conda/lib/python3.7/site-packages (1.8.1)\r\n",
      "Requirement already satisfied: numpy>=1.6.1 in /opt/conda/lib/python3.7/site-packages (from WordCloud) (1.21.6)\r\n",
      "Requirement already satisfied: matplotlib in /opt/conda/lib/python3.7/site-packages (from WordCloud) (3.5.2)\r\n",
      "Requirement already satisfied: pillow in /opt/conda/lib/python3.7/site-packages (from WordCloud) (9.1.1)\r\n",
      "Requirement already satisfied: python-dateutil>=2.7 in /opt/conda/lib/python3.7/site-packages (from matplotlib->WordCloud) (2.8.2)\r\n",
      "Requirement already satisfied: cycler>=0.10 in /opt/conda/lib/python3.7/site-packages (from matplotlib->WordCloud) (0.11.0)\r\n",
      "Requirement already satisfied: pyparsing>=2.2.1 in /opt/conda/lib/python3.7/site-packages (from matplotlib->WordCloud) (3.0.9)\r\n",
      "Requirement already satisfied: kiwisolver>=1.0.1 in /opt/conda/lib/python3.7/site-packages (from matplotlib->WordCloud) (1.4.2)\r\n",
      "Requirement already satisfied: fonttools>=4.22.0 in /opt/conda/lib/python3.7/site-packages (from matplotlib->WordCloud) (4.33.3)\r\n",
      "Requirement already satisfied: packaging>=20.0 in /opt/conda/lib/python3.7/site-packages (from matplotlib->WordCloud) (21.3)\r\n",
      "Requirement already satisfied: typing-extensions in /opt/conda/lib/python3.7/site-packages (from kiwisolver>=1.0.1->matplotlib->WordCloud) (4.1.1)\r\n",
      "Requirement already satisfied: six>=1.5 in /opt/conda/lib/python3.7/site-packages (from python-dateutil>=2.7->matplotlib->WordCloud) (1.16.0)\r\n",
      "\u001b[33mWARNING: Running pip as the 'root' user can result in broken permissions and conflicting behaviour with the system package manager. It is recommended to use a virtual environment instead: https://pip.pypa.io/warnings/venv\u001b[0m\u001b[33m\r\n",
      "\u001b[0m"
     ]
    }
   ],
   "source": [
    "!pip install WordCloud"
   ]
  },
  {
   "cell_type": "code",
   "execution_count": 20,
   "id": "b737b577",
   "metadata": {
    "execution": {
     "iopub.execute_input": "2022-08-06T11:58:02.636154Z",
     "iopub.status.busy": "2022-08-06T11:58:02.635513Z",
     "iopub.status.idle": "2022-08-06T11:58:14.490179Z",
     "shell.execute_reply": "2022-08-06T11:58:14.489245Z"
    },
    "id": "rALzD-tuUQHj",
    "outputId": "bc0fa377-f991-4953-a038-4d0f83bd3485",
    "papermill": {
     "duration": 11.880947,
     "end_time": "2022-08-06T11:58:14.497226",
     "exception": false,
     "start_time": "2022-08-06T11:58:02.616279",
     "status": "completed"
    },
    "tags": []
   },
   "outputs": [
    {
     "data": {
      "image/png": "[encoded data removed]",
      "text/plain": [
       "<Figure size 1080x1080 with 1 Axes>"
      ]
     },
     "metadata": {
      "needs_background": "light"
     },
     "output_type": "display_data"
    }
   ],
   "source": [
    "from wordcloud import WordCloud\n",
    "text = \" \".join(cat for cat in df['Cleaned'])\n",
    "wordcloud = WordCloud(max_font_size=50, max_words=100, background_color='white').generate(text)\n",
    "plt.figure(figsize=(15,15))\n",
    "plt.imshow(wordcloud, interpolation='bilinear')\n",
    "plt.axis('off')\n",
    "plt.savefig(f'EECSI_word-cloud.png', format='png', dpi=300)\n",
    "plt.show()"
   ]
  },
  {
   "cell_type": "markdown",
   "id": "97698ded",
   "metadata": {
    "id": "kID19eoTGCJd",
    "papermill": {
     "duration": 0.02418,
     "end_time": "2022-08-06T11:58:14.546246",
     "exception": false,
     "start_time": "2022-08-06T11:58:14.522066",
     "status": "completed"
    },
    "tags": []
   },
   "source": [
    "**Data Transformation**"
   ]
  },
  {
   "cell_type": "code",
   "execution_count": 21,
   "id": "1c66a5a7",
   "metadata": {
    "execution": {
     "iopub.execute_input": "2022-08-06T11:58:14.595653Z",
     "iopub.status.busy": "2022-08-06T11:58:14.594658Z",
     "iopub.status.idle": "2022-08-06T11:58:28.123479Z",
     "shell.execute_reply": "2022-08-06T11:58:28.122421Z"
    },
    "id": "-OtQFksgGMbE",
    "outputId": "35514f79-a16f-459d-ea62-d71e12f3e7d7",
    "papermill": {
     "duration": 13.556296,
     "end_time": "2022-08-06T11:58:28.126253",
     "exception": false,
     "start_time": "2022-08-06T11:58:14.569957",
     "status": "completed"
    },
    "tags": []
   },
   "outputs": [
    {
     "name": "stdout",
     "output_type": "stream",
     "text": [
      "Collecting sentence-transformers\r\n",
      "  Downloading sentence-transformers-2.2.2.tar.gz (85 kB)\r\n",
      "\u001b[2K     \u001b[90m━━━━━━━━━━━━━━━━━━━━━━━━━━━━━━━━━━━━━━━━\u001b[0m \u001b[32m86.0/86.0 kB\u001b[0m \u001b[31m2.1 MB/s\u001b[0m eta \u001b[36m0:00:00\u001b[0m\r\n",
      "\u001b[?25h  Preparing metadata (setup.py) ... \u001b[?25l-\b \bdone\r\n",
      "\u001b[?25hRequirement already satisfied: transformers<5.0.0,>=4.6.0 in /opt/conda/lib/python3.7/site-packages (from sentence-transformers) (4.18.0)\r\n",
      "Requirement already satisfied: tqdm in /opt/conda/lib/python3.7/site-packages (from sentence-transformers) (4.64.0)\r\n",
      "Requirement already satisfied: torch>=1.6.0 in /opt/conda/lib/python3.7/site-packages (from sentence-transformers) (1.11.0)\r\n",
      "Requirement already satisfied: torchvision in /opt/conda/lib/python3.7/site-packages (from sentence-transformers) (0.12.0)\r\n",
      "Requirement already satisfied: numpy in /opt/conda/lib/python3.7/site-packages (from sentence-transformers) (1.21.6)\r\n",
      "Requirement already satisfied: scikit-learn in /opt/conda/lib/python3.7/site-packages (from sentence-transformers) (1.0.2)\r\n",
      "Requirement already satisfied: scipy in /opt/conda/lib/python3.7/site-packages (from sentence-transformers) (1.7.3)\r\n",
      "Requirement already satisfied: nltk in /opt/conda/lib/python3.7/site-packages (from sentence-transformers) (3.2.4)\r\n",
      "Requirement already satisfied: sentencepiece in /opt/conda/lib/python3.7/site-packages (from sentence-transformers) (0.1.96)\r\n",
      "Requirement already satisfied: huggingface-hub>=0.4.0 in /opt/conda/lib/python3.7/site-packages (from sentence-transformers) (0.7.0)\r\n",
      "Requirement already satisfied: requests in /opt/conda/lib/python3.7/site-packages (from huggingface-hub>=0.4.0->sentence-transformers) (2.27.1)\r\n",
      "Requirement already satisfied: pyyaml>=5.1 in /opt/conda/lib/python3.7/site-packages (from huggingface-hub>=0.4.0->sentence-transformers) (6.0)\r\n",
      "Requirement already satisfied: filelock in /opt/conda/lib/python3.7/site-packages (from huggingface-hub>=0.4.0->sentence-transformers) (3.6.0)\r\n",
      "Requirement already satisfied: importlib-metadata in /opt/conda/lib/python3.7/site-packages (from huggingface-hub>=0.4.0->sentence-transformers) (4.11.4)\r\n",
      "Requirement already satisfied: typing-extensions>=3.7.4.3 in /opt/conda/lib/python3.7/site-packages (from huggingface-hub>=0.4.0->sentence-transformers) (4.1.1)\r\n",
      "Requirement already satisfied: packaging>=20.9 in /opt/conda/lib/python3.7/site-packages (from huggingface-hub>=0.4.0->sentence-transformers) (21.3)\r\n",
      "Requirement already satisfied: sacremoses in /opt/conda/lib/python3.7/site-packages (from transformers<5.0.0,>=4.6.0->sentence-transformers) (0.0.53)\r\n",
      "Requirement already satisfied: regex!=2019.12.17 in /opt/conda/lib/python3.7/site-packages (from transformers<5.0.0,>=4.6.0->sentence-transformers) (2021.11.10)\r\n",
      "Requirement already satisfied: tokenizers!=0.11.3,<0.13,>=0.11.1 in /opt/conda/lib/python3.7/site-packages (from transformers<5.0.0,>=4.6.0->sentence-transformers) (0.12.1)\r\n",
      "Requirement already satisfied: six in /opt/conda/lib/python3.7/site-packages (from nltk->sentence-transformers) (1.16.0)\r\n",
      "Requirement already satisfied: threadpoolctl>=2.0.0 in /opt/conda/lib/python3.7/site-packages (from scikit-learn->sentence-transformers) (3.1.0)\r\n",
      "Requirement already satisfied: joblib>=0.11 in /opt/conda/lib/python3.7/site-packages (from scikit-learn->sentence-transformers) (1.1.0)\r\n",
      "Requirement already satisfied: pillow!=8.3.*,>=5.3.0 in /opt/conda/lib/python3.7/site-packages (from torchvision->sentence-transformers) (9.1.1)\r\n",
      "Requirement already satisfied: pyparsing!=3.0.5,>=2.0.2 in /opt/conda/lib/python3.7/site-packages (from packaging>=20.9->huggingface-hub>=0.4.0->sentence-transformers) (3.0.9)\r\n",
      "Requirement already satisfied: zipp>=0.5 in /opt/conda/lib/python3.7/site-packages (from importlib-metadata->huggingface-hub>=0.4.0->sentence-transformers) (3.8.0)\r\n",
      "Requirement already satisfied: idna<4,>=2.5 in /opt/conda/lib/python3.7/site-packages (from requests->huggingface-hub>=0.4.0->sentence-transformers) (3.3)\r\n",
      "Requirement already satisfied: certifi>=2017.4.17 in /opt/conda/lib/python3.7/site-packages (from requests->huggingface-hub>=0.4.0->sentence-transformers) (2022.6.15)\r\n",
      "Requirement already satisfied: urllib3<1.27,>=1.21.1 in /opt/conda/lib/python3.7/site-packages (from requests->huggingface-hub>=0.4.0->sentence-transformers) (1.26.9)\r\n",
      "Requirement already satisfied: charset-normalizer~=2.0.0 in /opt/conda/lib/python3.7/site-packages (from requests->huggingface-hub>=0.4.0->sentence-transformers) (2.0.12)\r\n",
      "Requirement already satisfied: click in /opt/conda/lib/python3.7/site-packages (from sacremoses->transformers<5.0.0,>=4.6.0->sentence-transformers) (8.0.4)\r\n",
      "Building wheels for collected packages: sentence-transformers\r\n",
      "  Building wheel for sentence-transformers (setup.py) ... \u001b[?25l-\b \b\\\b \b|\b \bdone\r\n",
      "\u001b[?25h  Created wheel for sentence-transformers: filename=sentence_transformers-2.2.2-py3-none-any.whl size=125938 sha256=6c31c95e89f4fc77420277c5eabf2ac5cae7d6f400ca4a7db84253fefc42b086\r\n",
      "  Stored in directory: /root/.cache/pip/wheels/bf/06/fb/d59c1e5bd1dac7f6cf61ec0036cc3a10ab8fecaa6b2c3d3ee9\r\n",
      "Successfully built sentence-transformers\r\n",
      "Installing collected packages: sentence-transformers\r\n",
      "Successfully installed sentence-transformers-2.2.2\r\n",
      "\u001b[33mWARNING: Running pip as the 'root' user can result in broken permissions and conflicting behaviour with the system package manager. It is recommended to use a virtual environment instead: https://pip.pypa.io/warnings/venv\u001b[0m\u001b[33m\r\n",
      "\u001b[0m"
     ]
    }
   ],
   "source": [
    "# encoding with https://huggingface.co/sentence-transformers\n",
    "!pip install -U sentence-transformers\n",
    "from sentence_transformers import SentenceTransformer"
   ]
  },
  {
   "cell_type": "code",
   "execution_count": 22,
   "id": "38db3a73",
   "metadata": {
    "execution": {
     "iopub.execute_input": "2022-08-06T11:58:28.178191Z",
     "iopub.status.busy": "2022-08-06T11:58:28.177811Z",
     "iopub.status.idle": "2022-08-06T11:58:29.150430Z",
     "shell.execute_reply": "2022-08-06T11:58:29.149342Z"
    },
    "id": "y5f6ztwRmRHe",
    "papermill": {
     "duration": 1.001365,
     "end_time": "2022-08-06T11:58:29.153095",
     "exception": false,
     "start_time": "2022-08-06T11:58:28.151730",
     "status": "completed"
    },
    "tags": []
   },
   "outputs": [],
   "source": [
    "from transformers import AutoTokenizer, AutoModel, TFBertModel, TFAutoModel"
   ]
  },
  {
   "cell_type": "code",
   "execution_count": 23,
   "id": "207d81be",
   "metadata": {
    "execution": {
     "iopub.execute_input": "2022-08-06T11:58:29.205029Z",
     "iopub.status.busy": "2022-08-06T11:58:29.204084Z",
     "iopub.status.idle": "2022-08-06T11:58:31.122809Z",
     "shell.execute_reply": "2022-08-06T11:58:31.121807Z"
    },
    "id": "vC2djqGLVONx",
    "outputId": "ef02eafc-afca-4df4-a215-e0a72925fff6",
    "papermill": {
     "duration": 1.946765,
     "end_time": "2022-08-06T11:58:31.125324",
     "exception": false,
     "start_time": "2022-08-06T11:58:29.178559",
     "status": "completed"
    },
    "tags": []
   },
   "outputs": [
    {
     "data": {
      "application/vnd.jupyter.widget-view+json": {
       "model_id": "426da1d9f9824fa39d285e74fea47b22",
       "version_major": 2,
       "version_minor": 0
      },
      "text/plain": [
       "Downloading:   0%|          | 0.00/314 [00:00<?, ?B/s]"
      ]
     },
     "metadata": {},
     "output_type": "display_data"
    },
    {
     "data": {
      "application/vnd.jupyter.widget-view+json": {
       "model_id": "ac63ea64c27644bbbde7f23f0e4fc19b",
       "version_major": 2,
       "version_minor": 0
      },
      "text/plain": [
       "Downloading:   0%|          | 0.00/629 [00:00<?, ?B/s]"
      ]
     },
     "metadata": {},
     "output_type": "display_data"
    },
    {
     "data": {
      "application/vnd.jupyter.widget-view+json": {
       "model_id": "db9ca7c36e05464db98c46bc7ceca03e",
       "version_major": 2,
       "version_minor": 0
      },
      "text/plain": [
       "Downloading:   0%|          | 0.00/226k [00:00<?, ?B/s]"
      ]
     },
     "metadata": {},
     "output_type": "display_data"
    },
    {
     "data": {
      "application/vnd.jupyter.widget-view+json": {
       "model_id": "fbab76d0ba234d89a246f6fd62a894b9",
       "version_major": 2,
       "version_minor": 0
      },
      "text/plain": [
       "Downloading:   0%|          | 0.00/455k [00:00<?, ?B/s]"
      ]
     },
     "metadata": {},
     "output_type": "display_data"
    },
    {
     "data": {
      "application/vnd.jupyter.widget-view+json": {
       "model_id": "7619a3e5a5f6435a90674f64e6291679",
       "version_major": 2,
       "version_minor": 0
      },
      "text/plain": [
       "Downloading:   0%|          | 0.00/112 [00:00<?, ?B/s]"
      ]
     },
     "metadata": {},
     "output_type": "display_data"
    }
   ],
   "source": [
    "# tokenize with BERT\n",
    "MODEL_NAME = 'sentence-transformers/paraphrase-MiniLM-L6-v2'\n",
    "tokenizer = AutoTokenizer.from_pretrained(MODEL_NAME)"
   ]
  },
  {
   "cell_type": "code",
   "execution_count": 24,
   "id": "ba075d4e",
   "metadata": {
    "execution": {
     "iopub.execute_input": "2022-08-06T11:58:31.178616Z",
     "iopub.status.busy": "2022-08-06T11:58:31.177543Z",
     "iopub.status.idle": "2022-08-06T11:58:45.913612Z",
     "shell.execute_reply": "2022-08-06T11:58:45.912585Z"
    },
    "id": "VTW-VDpHnZhF",
    "outputId": "2476d6b6-7e93-4080-f455-64c9767f0098",
    "papermill": {
     "duration": 14.765047,
     "end_time": "2022-08-06T11:58:45.915981",
     "exception": false,
     "start_time": "2022-08-06T11:58:31.150934",
     "status": "completed"
    },
    "tags": []
   },
   "outputs": [
    {
     "name": "stderr",
     "output_type": "stream",
     "text": [
      "/opt/conda/lib/python3.7/site-packages/transformers/tokenization_utils_base.py:2269: FutureWarning: The `pad_to_max_length` argument is deprecated and will be removed in a future version, use `padding=True` or `padding='longest'` to pad to the longest sequence in the batch, or use `padding='max_length'` to pad to a max length. In this case, you can give a specific length with `max_length` (e.g. `max_length=45`) or leave max_length to None to pad to the maximal input size of the model (e.g. 512 for Bert).\n",
      "  FutureWarning,\n",
      "2022-08-06 11:58:39.989551: I tensorflow/stream_executor/cuda/cuda_gpu_executor.cc:937] successful NUMA node read from SysFS had negative value (-1), but there must be at least one NUMA node, so returning NUMA node zero\n",
      "2022-08-06 11:58:39.990762: I tensorflow/stream_executor/cuda/cuda_gpu_executor.cc:937] successful NUMA node read from SysFS had negative value (-1), but there must be at least one NUMA node, so returning NUMA node zero\n",
      "2022-08-06 11:58:39.991485: I tensorflow/stream_executor/cuda/cuda_gpu_executor.cc:937] successful NUMA node read from SysFS had negative value (-1), but there must be at least one NUMA node, so returning NUMA node zero\n",
      "2022-08-06 11:58:39.993666: I tensorflow/core/platform/cpu_feature_guard.cc:142] This TensorFlow binary is optimized with oneAPI Deep Neural Network Library (oneDNN) to use the following CPU instructions in performance-critical operations:  AVX2 AVX512F FMA\n",
      "To enable them in other operations, rebuild TensorFlow with the appropriate compiler flags.\n",
      "2022-08-06 11:58:39.994054: I tensorflow/stream_executor/cuda/cuda_gpu_executor.cc:937] successful NUMA node read from SysFS had negative value (-1), but there must be at least one NUMA node, so returning NUMA node zero\n",
      "2022-08-06 11:58:39.994857: I tensorflow/stream_executor/cuda/cuda_gpu_executor.cc:937] successful NUMA node read from SysFS had negative value (-1), but there must be at least one NUMA node, so returning NUMA node zero\n",
      "2022-08-06 11:58:39.995551: I tensorflow/stream_executor/cuda/cuda_gpu_executor.cc:937] successful NUMA node read from SysFS had negative value (-1), but there must be at least one NUMA node, so returning NUMA node zero\n",
      "2022-08-06 11:58:44.909083: I tensorflow/stream_executor/cuda/cuda_gpu_executor.cc:937] successful NUMA node read from SysFS had negative value (-1), but there must be at least one NUMA node, so returning NUMA node zero\n",
      "2022-08-06 11:58:44.910012: I tensorflow/stream_executor/cuda/cuda_gpu_executor.cc:937] successful NUMA node read from SysFS had negative value (-1), but there must be at least one NUMA node, so returning NUMA node zero\n",
      "2022-08-06 11:58:44.910766: I tensorflow/stream_executor/cuda/cuda_gpu_executor.cc:937] successful NUMA node read from SysFS had negative value (-1), but there must be at least one NUMA node, so returning NUMA node zero\n",
      "2022-08-06 11:58:44.911409: I tensorflow/core/common_runtime/gpu/gpu_device.cc:1510] Created device /job:localhost/replica:0/task:0/device:GPU:0 with 15047 MB memory:  -> device: 0, name: Tesla P100-PCIE-16GB, pci bus id: 0000:00:04.0, compute capability: 6.0\n"
     ]
    }
   ],
   "source": [
    "encoding = tokenizer(\n",
    "    text=df['Cleaned'].tolist(),\n",
    "    add_special_tokens=True,\n",
    "    return_attention_mask=True,\n",
    "    max_length=MAX_LEN,\n",
    "    truncation=True,\n",
    "    pad_to_max_length=True,\n",
    "    return_tensors='tf',\n",
    "    verbose=True\n",
    ")"
   ]
  },
  {
   "cell_type": "code",
   "execution_count": 25,
   "id": "2c959355",
   "metadata": {
    "execution": {
     "iopub.execute_input": "2022-08-06T11:58:45.969224Z",
     "iopub.status.busy": "2022-08-06T11:58:45.968877Z",
     "iopub.status.idle": "2022-08-06T11:58:45.973466Z",
     "shell.execute_reply": "2022-08-06T11:58:45.972540Z"
    },
    "id": "wtSMZXIqa0qF",
    "papermill": {
     "duration": 0.033455,
     "end_time": "2022-08-06T11:58:45.975556",
     "exception": false,
     "start_time": "2022-08-06T11:58:45.942101",
     "status": "completed"
    },
    "tags": []
   },
   "outputs": [],
   "source": [
    "TOKENS = encoding['input_ids']"
   ]
  },
  {
   "cell_type": "code",
   "execution_count": 26,
   "id": "ca62bd6e",
   "metadata": {
    "execution": {
     "iopub.execute_input": "2022-08-06T11:58:46.027534Z",
     "iopub.status.busy": "2022-08-06T11:58:46.026478Z",
     "iopub.status.idle": "2022-08-06T11:58:46.046161Z",
     "shell.execute_reply": "2022-08-06T11:58:46.044927Z"
    },
    "id": "SUczOZvrWAPc",
    "outputId": "4751e46f-73c1-4535-aea9-8c5307498722",
    "papermill": {
     "duration": 0.049438,
     "end_time": "2022-08-06T11:58:46.049497",
     "exception": false,
     "start_time": "2022-08-06T11:58:46.000059",
     "status": "completed"
    },
    "tags": []
   },
   "outputs": [
    {
     "name": "stdout",
     "output_type": "stream",
     "text": [
      "Sentence:\n",
      "ternary operator swift picky pthe question simple could find answerp pwhy doesntp precodereturn x  hello codepre pcompi\n",
      "\n",
      "Token:\n",
      "tf.Tensor(\n",
      "[  101 28774 24041  6872  9170  4060  2100 13866  5369  3160  3722  2071\n",
      "  2424  3437  2361  1052  2860 10536  2987 25856  3653 16044 13465 14287\n",
      "  1060  7592  3642 28139  7473 25377  2072   102     0     0     0     0\n",
      "     0     0     0     0     0     0     0     0     0     0     0     0\n",
      "     0     0     0     0     0     0     0     0     0     0     0     0\n",
      "     0     0     0     0     0     0     0     0     0     0     0     0\n",
      "     0     0     0     0     0     0     0     0     0     0     0     0\n",
      "     0     0     0     0     0     0     0     0     0     0     0     0\n",
      "     0     0     0     0     0     0     0     0     0     0     0     0\n",
      "     0     0     0     0     0     0     0     0     0     0     0     0\n",
      "     0     0     0     0     0     0     0     0     0     0     0     0\n",
      "     0     0     0     0     0     0     0     0     0     0     0     0\n",
      "     0     0     0     0     0     0     0     0     0     0     0     0\n",
      "     0     0     0     0     0     0     0     0     0     0     0     0\n",
      "     0     0     0     0     0     0     0     0     0     0     0     0\n",
      "     0     0     0     0     0     0     0     0     0     0     0     0\n",
      "     0     0     0     0     0     0     0     0], shape=(200,), dtype=int32)\n"
     ]
    }
   ],
   "source": [
    "print('Sentence:')\n",
    "print(df.iloc[3]['Cleaned'])\n",
    "print()\n",
    "print('Token:')\n",
    "print(TOKENS[3])"
   ]
  },
  {
   "cell_type": "markdown",
   "id": "0e1bfffd",
   "metadata": {
    "id": "SCI0vXweGgSp",
    "papermill": {
     "duration": 0.057651,
     "end_time": "2022-08-06T11:58:46.164916",
     "exception": false,
     "start_time": "2022-08-06T11:58:46.107265",
     "status": "completed"
    },
    "tags": []
   },
   "source": [
    "# Clustering"
   ]
  },
  {
   "cell_type": "code",
   "execution_count": 27,
   "id": "ae9ea880",
   "metadata": {
    "execution": {
     "iopub.execute_input": "2022-08-06T11:58:46.226430Z",
     "iopub.status.busy": "2022-08-06T11:58:46.226046Z",
     "iopub.status.idle": "2022-08-06T11:58:46.230765Z",
     "shell.execute_reply": "2022-08-06T11:58:46.229795Z"
    },
    "id": "ekz2iSjrLg3U",
    "papermill": {
     "duration": 0.03328,
     "end_time": "2022-08-06T11:58:46.232755",
     "exception": false,
     "start_time": "2022-08-06T11:58:46.199475",
     "status": "completed"
    },
    "tags": []
   },
   "outputs": [],
   "source": [
    "from sklearn.decomposition import PCA\n",
    "# change to 3d\n",
    "pca = PCA(n_components=3)"
   ]
  },
  {
   "cell_type": "code",
   "execution_count": 28,
   "id": "2a566ff9",
   "metadata": {
    "execution": {
     "iopub.execute_input": "2022-08-06T11:58:46.286975Z",
     "iopub.status.busy": "2022-08-06T11:58:46.285006Z",
     "iopub.status.idle": "2022-08-06T11:58:47.673110Z",
     "shell.execute_reply": "2022-08-06T11:58:47.672092Z"
    },
    "id": "sXAwtMMwLg3U",
    "papermill": {
     "duration": 1.41706,
     "end_time": "2022-08-06T11:58:47.675585",
     "exception": false,
     "start_time": "2022-08-06T11:58:46.258525",
     "status": "completed"
    },
    "tags": []
   },
   "outputs": [],
   "source": [
    "VECTORS = pca.fit_transform(TOKENS)"
   ]
  },
  {
   "cell_type": "code",
   "execution_count": 29,
   "id": "cc4ecd84",
   "metadata": {
    "execution": {
     "iopub.execute_input": "2022-08-06T11:58:47.728802Z",
     "iopub.status.busy": "2022-08-06T11:58:47.728435Z",
     "iopub.status.idle": "2022-08-06T11:58:47.937449Z",
     "shell.execute_reply": "2022-08-06T11:58:47.936471Z"
    },
    "id": "8hIfmXF8R2Bl",
    "papermill": {
     "duration": 0.238641,
     "end_time": "2022-08-06T11:58:47.940219",
     "exception": false,
     "start_time": "2022-08-06T11:58:47.701578",
     "status": "completed"
    },
    "tags": []
   },
   "outputs": [],
   "source": [
    "os.environ[\"TOKENIZERS_PARALLELISM\"] = \"false\"\n",
    "# using KElbowVisualizer\n",
    "from yellowbrick.cluster import KElbowVisualizer\n",
    "kmc = KMeans()"
   ]
  },
  {
   "cell_type": "code",
   "execution_count": 30,
   "id": "ed248b31",
   "metadata": {
    "execution": {
     "iopub.execute_input": "2022-08-06T11:58:47.992461Z",
     "iopub.status.busy": "2022-08-06T11:58:47.992156Z",
     "iopub.status.idle": "2022-08-06T11:58:47.997479Z",
     "shell.execute_reply": "2022-08-06T11:58:47.996617Z"
    },
    "id": "wm0pvDGSR5oq",
    "papermill": {
     "duration": 0.033169,
     "end_time": "2022-08-06T11:58:47.999435",
     "exception": false,
     "start_time": "2022-08-06T11:58:47.966266",
     "status": "completed"
    },
    "tags": []
   },
   "outputs": [],
   "source": [
    "# target cluster number is 5, but we will find the optimum k with KElbow\n",
    "# instantiate the clustering model and visualizer\n",
    "vis = KElbowVisualizer(kmc, k=(2,15))"
   ]
  },
  {
   "cell_type": "code",
   "execution_count": 31,
   "id": "8b03abea",
   "metadata": {
    "execution": {
     "iopub.execute_input": "2022-08-06T11:58:48.051580Z",
     "iopub.status.busy": "2022-08-06T11:58:48.051007Z",
     "iopub.status.idle": "2022-08-06T11:59:35.046937Z",
     "shell.execute_reply": "2022-08-06T11:59:35.045874Z"
    },
    "id": "_xN9Bmf_R_5A",
    "outputId": "8e6df1c1-3c86-43ee-ecd1-62547d659b46",
    "papermill": {
     "duration": 47.054318,
     "end_time": "2022-08-06T11:59:35.078069",
     "exception": false,
     "start_time": "2022-08-06T11:58:48.023751",
     "status": "completed"
    },
    "tags": []
   },
   "outputs": [
    {
     "data": {
      "image/png": "[encoded data removed]",
      "text/plain": [
       "<Figure size 576x396 with 2 Axes>"
      ]
     },
     "metadata": {},
     "output_type": "display_data"
    },
    {
     "data": {
      "text/plain": [
       "<AxesSubplot:title={'center':'Distortion Score Elbow for KMeans Clustering'}, xlabel='k', ylabel='distortion score'>"
      ]
     },
     "execution_count": 31,
     "metadata": {},
     "output_type": "execute_result"
    }
   ],
   "source": [
    "# fit vectors BERT\n",
    "vis.fit(VECTORS)\n",
    "# finalize and render the figure\n",
    "vis.show()"
   ]
  },
  {
   "cell_type": "code",
   "execution_count": 32,
   "id": "4e87b131",
   "metadata": {
    "execution": {
     "iopub.execute_input": "2022-08-06T11:59:35.133741Z",
     "iopub.status.busy": "2022-08-06T11:59:35.133336Z",
     "iopub.status.idle": "2022-08-06T11:59:35.138352Z",
     "shell.execute_reply": "2022-08-06T11:59:35.137260Z"
    },
    "id": "1px1f3c9qD_l",
    "papermill": {
     "duration": 0.035417,
     "end_time": "2022-08-06T11:59:35.140440",
     "exception": false,
     "start_time": "2022-08-06T11:59:35.105023",
     "status": "completed"
    },
    "tags": []
   },
   "outputs": [],
   "source": [
    "NUM_CLUSTER = 5 # maximum likelihood"
   ]
  },
  {
   "cell_type": "code",
   "execution_count": 33,
   "id": "d3b1804b",
   "metadata": {
    "execution": {
     "iopub.execute_input": "2022-08-06T11:59:35.200293Z",
     "iopub.status.busy": "2022-08-06T11:59:35.199513Z",
     "iopub.status.idle": "2022-08-06T11:59:37.091148Z",
     "shell.execute_reply": "2022-08-06T11:59:37.090070Z"
    },
    "id": "lDXtWvkab4s3",
    "outputId": "bf05ba75-af99-4d0a-d838-36cd018e62f9",
    "papermill": {
     "duration": 1.924263,
     "end_time": "2022-08-06T11:59:37.093274",
     "exception": false,
     "start_time": "2022-08-06T11:59:35.169011",
     "status": "completed"
    },
    "tags": []
   },
   "outputs": [
    {
     "data": {
      "text/plain": [
       "KMeans(max_iter=100, n_clusters=5, n_init=1)"
      ]
     },
     "execution_count": 33,
     "metadata": {},
     "output_type": "execute_result"
    }
   ],
   "source": [
    "kmeans_model = KMeans(n_clusters=NUM_CLUSTER, init='k-means++', max_iter=100, n_init=1)\n",
    "kmeans_model.fit(TOKENS)"
   ]
  },
  {
   "cell_type": "code",
   "execution_count": 34,
   "id": "96775811",
   "metadata": {
    "execution": {
     "iopub.execute_input": "2022-08-06T11:59:37.154275Z",
     "iopub.status.busy": "2022-08-06T11:59:37.152044Z",
     "iopub.status.idle": "2022-08-06T11:59:37.159667Z",
     "shell.execute_reply": "2022-08-06T11:59:37.158634Z"
    },
    "id": "kCJDf4LVo_L9",
    "papermill": {
     "duration": 0.040251,
     "end_time": "2022-08-06T11:59:37.161921",
     "exception": false,
     "start_time": "2022-08-06T11:59:37.121670",
     "status": "completed"
    },
    "tags": []
   },
   "outputs": [],
   "source": [
    "pickle.dump(kmeans_model, open(f'EECSI_kmeans_model.pickle', 'wb'))"
   ]
  },
  {
   "cell_type": "code",
   "execution_count": 35,
   "id": "bf90a3e9",
   "metadata": {
    "execution": {
     "iopub.execute_input": "2022-08-06T11:59:37.221463Z",
     "iopub.status.busy": "2022-08-06T11:59:37.220790Z",
     "iopub.status.idle": "2022-08-06T11:59:37.231815Z",
     "shell.execute_reply": "2022-08-06T11:59:37.230420Z"
    },
    "id": "o6o6cFOhobp4",
    "outputId": "b3d9e790-9e20-4228-a9f4-cf8babdc9a08",
    "papermill": {
     "duration": 0.043713,
     "end_time": "2022-08-06T11:59:37.234633",
     "exception": false,
     "start_time": "2022-08-06T11:59:37.190920",
     "status": "completed"
    },
    "tags": []
   },
   "outputs": [
    {
     "name": "stdout",
     "output_type": "stream",
     "text": [
      "[  5988.5033483   -9400.03492064  -8864.10880815 ...  16494.51647747\n",
      "  21016.16572636 -13330.36689486]\n",
      "[-7956.72323972 -3560.01329304  5499.84447553 ... -8689.82502047\n",
      "  -778.63363669  2970.52105554]\n",
      "[-11177.21421841  13814.54945488  -9154.51386531 ...   4357.58554297\n",
      "   9100.16466913  -1687.39852074]\n"
     ]
    }
   ],
   "source": [
    "x1 = VECTORS[:,0]\n",
    "x2 = VECTORS[:,1]\n",
    "x3 = VECTORS[:,2]\n",
    "print(x1)\n",
    "print(x2)\n",
    "print(x3)"
   ]
  },
  {
   "cell_type": "code",
   "execution_count": 36,
   "id": "c309c44e",
   "metadata": {
    "execution": {
     "iopub.execute_input": "2022-08-06T11:59:37.296473Z",
     "iopub.status.busy": "2022-08-06T11:59:37.295525Z",
     "iopub.status.idle": "2022-08-06T11:59:37.301385Z",
     "shell.execute_reply": "2022-08-06T11:59:37.300426Z"
    },
    "id": "SaKMlvTAnN9Z",
    "papermill": {
     "duration": 0.038424,
     "end_time": "2022-08-06T11:59:37.303538",
     "exception": false,
     "start_time": "2022-08-06T11:59:37.265114",
     "status": "completed"
    },
    "tags": []
   },
   "outputs": [],
   "source": [
    "# b: blue, g: green, r: red, c: cyan, m: magenta, y: yellow, k: black, w: white\n",
    "# o: circle, v: triangle_down, s: square, h: hexagon1, d: thin_diamond, *: star\n",
    "COLORS = ['b', 'c', 'g', 'r', 'y', 'k']\n",
    "MARKERS = ['o', 'v', 's', 'h', 'd', '*']"
   ]
  },
  {
   "cell_type": "code",
   "execution_count": 37,
   "id": "0308a1b7",
   "metadata": {
    "execution": {
     "iopub.execute_input": "2022-08-06T11:59:37.361384Z",
     "iopub.status.busy": "2022-08-06T11:59:37.361019Z",
     "iopub.status.idle": "2022-08-06T12:21:08.195628Z",
     "shell.execute_reply": "2022-08-06T12:21:08.194515Z"
    },
    "id": "aAmNC6RRh0Jq",
    "outputId": "391c6749-a84a-4997-e499-87b2a0bdaa9b",
    "papermill": {
     "duration": 1290.894632,
     "end_time": "2022-08-06T12:21:08.226041",
     "exception": false,
     "start_time": "2022-08-06T11:59:37.331409",
     "status": "completed"
    },
    "tags": []
   },
   "outputs": [
    {
     "data": {
      "image/png": "[encoded data removed]",
      "text/plain": [
       "<Figure size 576x396 with 1 Axes>"
      ]
     },
     "metadata": {},
     "output_type": "display_data"
    }
   ],
   "source": [
    "fig = plt.figure()\n",
    "ax = fig.add_subplot(111, projection='3d')\n",
    "for i, l in enumerate(kmeans_model.labels_):\n",
    "  ax.scatter(x1[i], x2[i], x3[i], color=COLORS[l], marker=MARKERS[l], ls='None')\n",
    "\n",
    "plt.savefig(f'EECSI_cluster.png', format='png', dpi=300)\n",
    "plt.show()"
   ]
  },
  {
   "cell_type": "code",
   "execution_count": 38,
   "id": "c02f0f01",
   "metadata": {
    "execution": {
     "iopub.execute_input": "2022-08-06T12:21:08.283572Z",
     "iopub.status.busy": "2022-08-06T12:21:08.283207Z",
     "iopub.status.idle": "2022-08-06T12:21:08.298002Z",
     "shell.execute_reply": "2022-08-06T12:21:08.296967Z"
    },
    "id": "o_5EmOLAh30N",
    "outputId": "a7c7c276-7f92-4746-ba45-67d7918d9f7d",
    "papermill": {
     "duration": 0.046454,
     "end_time": "2022-08-06T12:21:08.300186",
     "exception": false,
     "start_time": "2022-08-06T12:21:08.253732",
     "status": "completed"
    },
    "tags": []
   },
   "outputs": [
    {
     "data": {
      "text/html": [
       "<div>\n",
       "<style scoped>\n",
       "    .dataframe tbody tr th:only-of-type {\n",
       "        vertical-align: middle;\n",
       "    }\n",
       "\n",
       "    .dataframe tbody tr th {\n",
       "        vertical-align: top;\n",
       "    }\n",
       "\n",
       "    .dataframe thead th {\n",
       "        text-align: right;\n",
       "    }\n",
       "</style>\n",
       "<table border=\"1\" class=\"dataframe\">\n",
       "  <thead>\n",
       "    <tr style=\"text-align: right;\">\n",
       "      <th></th>\n",
       "      <th>Cleaned</th>\n",
       "      <th>Cluster</th>\n",
       "    </tr>\n",
       "    <tr>\n",
       "      <th>Id</th>\n",
       "      <th></th>\n",
       "      <th></th>\n",
       "    </tr>\n",
       "  </thead>\n",
       "  <tbody>\n",
       "    <tr>\n",
       "      <th>34552656</th>\n",
       "      <td>java repeat task every random second pim alrea...</td>\n",
       "      <td>3</td>\n",
       "    </tr>\n",
       "    <tr>\n",
       "      <th>34553034</th>\n",
       "      <td>java optionals immutable pid like understand j...</td>\n",
       "      <td>4</td>\n",
       "    </tr>\n",
       "    <tr>\n",
       "      <th>34553174</th>\n",
       "      <td>text overlay image darken opacity react native...</td>\n",
       "      <td>1</td>\n",
       "    </tr>\n",
       "    <tr>\n",
       "      <th>34553318</th>\n",
       "      <td>ternary operator swift picky pthe question sim...</td>\n",
       "      <td>3</td>\n",
       "    </tr>\n",
       "    <tr>\n",
       "      <th>34553755</th>\n",
       "      <td>hideshow fab scale animation pim use custom fl...</td>\n",
       "      <td>0</td>\n",
       "    </tr>\n",
       "  </tbody>\n",
       "</table>\n",
       "</div>"
      ],
      "text/plain": [
       "                                                    Cleaned  Cluster\n",
       "Id                                                                  \n",
       "34552656  java repeat task every random second pim alrea...        3\n",
       "34553034  java optionals immutable pid like understand j...        4\n",
       "34553174  text overlay image darken opacity react native...        1\n",
       "34553318  ternary operator swift picky pthe question sim...        3\n",
       "34553755  hideshow fab scale animation pim use custom fl...        0"
      ]
     },
     "execution_count": 38,
     "metadata": {},
     "output_type": "execute_result"
    }
   ],
   "source": [
    "df['Cluster'] = kmeans_model.labels_\n",
    "df[['Cleaned','Cluster']].head()"
   ]
  },
  {
   "cell_type": "markdown",
   "id": "8371cb58",
   "metadata": {
    "id": "XhFoCf0VSmgQ",
    "papermill": {
     "duration": 0.027824,
     "end_time": "2022-08-06T12:21:08.356176",
     "exception": false,
     "start_time": "2022-08-06T12:21:08.328352",
     "status": "completed"
    },
    "tags": []
   },
   "source": [
    "**Cluster Validation with BERT Classification**"
   ]
  },
  {
   "cell_type": "code",
   "execution_count": 39,
   "id": "d5506283",
   "metadata": {
    "execution": {
     "iopub.execute_input": "2022-08-06T12:21:08.414105Z",
     "iopub.status.busy": "2022-08-06T12:21:08.413727Z",
     "iopub.status.idle": "2022-08-06T12:21:08.419346Z",
     "shell.execute_reply": "2022-08-06T12:21:08.418253Z"
    },
    "id": "w4f3qkkaThUN",
    "papermill": {
     "duration": 0.037294,
     "end_time": "2022-08-06T12:21:08.421642",
     "exception": false,
     "start_time": "2022-08-06T12:21:08.384348",
     "status": "completed"
    },
    "tags": []
   },
   "outputs": [],
   "source": [
    "from keras.callbacks import ModelCheckpoint, EarlyStopping\n",
    "from keras.initializers import TruncatedNormal\n",
    "from keras.losses import CategoricalCrossentropy\n",
    "from keras.metrics import CategoricalAccuracy\n",
    "from keras.layers import Input, Dense, Dropout\n",
    "from sklearn.model_selection import train_test_split"
   ]
  },
  {
   "cell_type": "code",
   "execution_count": 40,
   "id": "aa8920cf",
   "metadata": {
    "execution": {
     "iopub.execute_input": "2022-08-06T12:21:08.481390Z",
     "iopub.status.busy": "2022-08-06T12:21:08.480957Z",
     "iopub.status.idle": "2022-08-06T12:21:08.528061Z",
     "shell.execute_reply": "2022-08-06T12:21:08.527003Z"
    },
    "id": "pLySoKWvDKw3",
    "papermill": {
     "duration": 0.07982,
     "end_time": "2022-08-06T12:21:08.530465",
     "exception": false,
     "start_time": "2022-08-06T12:21:08.450645",
     "status": "completed"
    },
    "tags": []
   },
   "outputs": [],
   "source": [
    "# split input_ids\n",
    "X_train, X_val, y_train, y_val = train_test_split(TOKENS.numpy(), df['Cluster'], test_size=0.25, random_state=42)"
   ]
  },
  {
   "cell_type": "code",
   "execution_count": 41,
   "id": "3fc816f2",
   "metadata": {
    "execution": {
     "iopub.execute_input": "2022-08-06T12:21:08.588088Z",
     "iopub.status.busy": "2022-08-06T12:21:08.587739Z",
     "iopub.status.idle": "2022-08-06T12:21:08.634037Z",
     "shell.execute_reply": "2022-08-06T12:21:08.633053Z"
    },
    "id": "Z9P8zg49pz1x",
    "papermill": {
     "duration": 0.077871,
     "end_time": "2022-08-06T12:21:08.636535",
     "exception": false,
     "start_time": "2022-08-06T12:21:08.558664",
     "status": "completed"
    },
    "tags": []
   },
   "outputs": [],
   "source": [
    "# split attention_mask\n",
    "train_mask, val_mask, _, _ = train_test_split(encoding['attention_mask'].numpy(), df['Cluster'], test_size=0.25, random_state=42)"
   ]
  },
  {
   "cell_type": "code",
   "execution_count": 42,
   "id": "e8da748e",
   "metadata": {
    "execution": {
     "iopub.execute_input": "2022-08-06T12:21:08.694252Z",
     "iopub.status.busy": "2022-08-06T12:21:08.693880Z",
     "iopub.status.idle": "2022-08-06T12:21:08.699032Z",
     "shell.execute_reply": "2022-08-06T12:21:08.698084Z"
    },
    "id": "Aw1S0w5VTLeK",
    "outputId": "07af1c61-3e41-46db-ac7d-69edca85664d",
    "papermill": {
     "duration": 0.036982,
     "end_time": "2022-08-06T12:21:08.701607",
     "exception": false,
     "start_time": "2022-08-06T12:21:08.664625",
     "status": "completed"
    },
    "tags": []
   },
   "outputs": [
    {
     "name": "stdout",
     "output_type": "stream",
     "text": [
      "(15000,)\n",
      "(45000,)\n"
     ]
    }
   ],
   "source": [
    "print(y_val.shape)\n",
    "print(y_train.shape)"
   ]
  },
  {
   "cell_type": "code",
   "execution_count": 43,
   "id": "97a97fa5",
   "metadata": {
    "execution": {
     "iopub.execute_input": "2022-08-06T12:21:08.818164Z",
     "iopub.status.busy": "2022-08-06T12:21:08.817496Z",
     "iopub.status.idle": "2022-08-06T12:21:09.418205Z",
     "shell.execute_reply": "2022-08-06T12:21:09.417265Z"
    },
    "id": "tVXGrnp2cLpz",
    "outputId": "9b56964c-dcd9-4db8-d395-df9e490bb7e8",
    "papermill": {
     "duration": 0.633378,
     "end_time": "2022-08-06T12:21:09.421144",
     "exception": false,
     "start_time": "2022-08-06T12:21:08.787766",
     "status": "completed"
    },
    "tags": []
   },
   "outputs": [
    {
     "data": {
      "image/png": "[encoded data removed]",
      "text/plain": [
       "<Figure size 576x396 with 1 Axes>"
      ]
     },
     "metadata": {},
     "output_type": "display_data"
    }
   ],
   "source": [
    "# show balance of train label\n",
    "ax1 = sns.countplot(x=y_train, order=y_train.value_counts().index)\n",
    "plt.grid(False)\n",
    "plt.savefig(f'EECSI_train_label.png', format='png', dpi=300)\n",
    "plt.show()"
   ]
  },
  {
   "cell_type": "code",
   "execution_count": 44,
   "id": "e7b55b4a",
   "metadata": {
    "execution": {
     "iopub.execute_input": "2022-08-06T12:21:09.517482Z",
     "iopub.status.busy": "2022-08-06T12:21:09.517046Z",
     "iopub.status.idle": "2022-08-06T12:21:19.926269Z",
     "shell.execute_reply": "2022-08-06T12:21:19.925198Z"
    },
    "id": "poIsOrHuTnWf",
    "outputId": "7d93ad18-80d7-42af-e589-bb8800fa73e0",
    "papermill": {
     "duration": 10.462157,
     "end_time": "2022-08-06T12:21:19.929744",
     "exception": false,
     "start_time": "2022-08-06T12:21:09.467587",
     "status": "completed"
    },
    "tags": []
   },
   "outputs": [
    {
     "data": {
      "application/vnd.jupyter.widget-view+json": {
       "model_id": "6cd6d1b1a9294010a684e012497f73c9",
       "version_major": 2,
       "version_minor": 0
      },
      "text/plain": [
       "Downloading:   0%|          | 0.00/86.8M [00:00<?, ?B/s]"
      ]
     },
     "metadata": {},
     "output_type": "display_data"
    },
    {
     "name": "stderr",
     "output_type": "stream",
     "text": [
      "All model checkpoint layers were used when initializing TFBertModel.\n",
      "\n",
      "All the layers of TFBertModel were initialized from the model checkpoint at sentence-transformers/paraphrase-MiniLM-L6-v2.\n",
      "If your task is similar to the task the model of the checkpoint was trained on, you can already use TFBertModel for predictions without further training.\n"
     ]
    }
   ],
   "source": [
    "bert = TFBertModel.from_pretrained(MODEL_NAME)"
   ]
  },
  {
   "cell_type": "code",
   "execution_count": 45,
   "id": "07d7903b",
   "metadata": {
    "execution": {
     "iopub.execute_input": "2022-08-06T12:21:19.988716Z",
     "iopub.status.busy": "2022-08-06T12:21:19.988337Z",
     "iopub.status.idle": "2022-08-06T12:21:19.998242Z",
     "shell.execute_reply": "2022-08-06T12:21:19.997299Z"
    },
    "id": "4G1Eo8tvT-bx",
    "papermill": {
     "duration": 0.041028,
     "end_time": "2022-08-06T12:21:20.000414",
     "exception": false,
     "start_time": "2022-08-06T12:21:19.959386",
     "status": "completed"
    },
    "tags": []
   },
   "outputs": [],
   "source": [
    "input_ids = Input(shape=(MAX_LEN,), dtype=tf.int32, name=\"input_ids\")\n",
    "input_mask = Input(shape=(MAX_LEN,), dtype=tf.int32, name=\"attention_mask\")"
   ]
  },
  {
   "cell_type": "code",
   "execution_count": 46,
   "id": "d5312522",
   "metadata": {
    "execution": {
     "iopub.execute_input": "2022-08-06T12:21:20.059995Z",
     "iopub.status.busy": "2022-08-06T12:21:20.059341Z",
     "iopub.status.idle": "2022-08-06T12:21:25.427732Z",
     "shell.execute_reply": "2022-08-06T12:21:25.426747Z"
    },
    "id": "v28iQIu-T-by",
    "papermill": {
     "duration": 5.40122,
     "end_time": "2022-08-06T12:21:25.430826",
     "exception": false,
     "start_time": "2022-08-06T12:21:20.029606",
     "status": "completed"
    },
    "tags": []
   },
   "outputs": [],
   "source": [
    "embeddings = bert(input_ids, attention_mask=input_mask)[0] "
   ]
  },
  {
   "cell_type": "code",
   "execution_count": 47,
   "id": "84e8a684",
   "metadata": {
    "execution": {
     "iopub.execute_input": "2022-08-06T12:21:25.493473Z",
     "iopub.status.busy": "2022-08-06T12:21:25.491774Z",
     "iopub.status.idle": "2022-08-06T12:21:25.654956Z",
     "shell.execute_reply": "2022-08-06T12:21:25.653807Z"
    },
    "id": "xTpe5hAET-bz",
    "papermill": {
     "duration": 0.19725,
     "end_time": "2022-08-06T12:21:25.658080",
     "exception": false,
     "start_time": "2022-08-06T12:21:25.460830",
     "status": "completed"
    },
    "tags": []
   },
   "outputs": [],
   "source": [
    "from keras.regularizers import l1, l2\n",
    "out = tf.keras.layers.GlobalMaxPool1D()(embeddings)\n",
    "out = Dense(128, activation='relu')(out)\n",
    "out = Dropout(0.3)(out)\n",
    "out = Dense(64, kernel_regularizer=l2(0.001), bias_regularizer=l2(0.001), activation='relu')(out)\n",
    "out = Dropout(0.2)(out)\n",
    "out = Dense(32, activation='relu')(out)\n",
    "out = Dropout(0.1)(out)\n",
    "y = Dense(5, activation='softmax')(out)"
   ]
  },
  {
   "cell_type": "code",
   "execution_count": 48,
   "id": "ffeed883",
   "metadata": {
    "execution": {
     "iopub.execute_input": "2022-08-06T12:21:25.724754Z",
     "iopub.status.busy": "2022-08-06T12:21:25.724343Z",
     "iopub.status.idle": "2022-08-06T12:21:25.734719Z",
     "shell.execute_reply": "2022-08-06T12:21:25.733731Z"
    },
    "id": "8a6KBJyDT-b0",
    "papermill": {
     "duration": 0.046154,
     "end_time": "2022-08-06T12:21:25.737139",
     "exception": false,
     "start_time": "2022-08-06T12:21:25.690985",
     "status": "completed"
    },
    "tags": []
   },
   "outputs": [],
   "source": [
    "model = tf.keras.Model(inputs=[input_ids, input_mask], outputs=y)"
   ]
  },
  {
   "cell_type": "code",
   "execution_count": 49,
   "id": "bfd59380",
   "metadata": {
    "execution": {
     "iopub.execute_input": "2022-08-06T12:21:25.802402Z",
     "iopub.status.busy": "2022-08-06T12:21:25.801790Z",
     "iopub.status.idle": "2022-08-06T12:21:25.808942Z",
     "shell.execute_reply": "2022-08-06T12:21:25.807959Z"
    },
    "id": "w53PbOdbURl_",
    "outputId": "8f9f6276-6032-4e62-9e09-fd61369a27f7",
    "papermill": {
     "duration": 0.042064,
     "end_time": "2022-08-06T12:21:25.810970",
     "exception": false,
     "start_time": "2022-08-06T12:21:25.768906",
     "status": "completed"
    },
    "tags": []
   },
   "outputs": [
    {
     "data": {
      "text/plain": [
       "[<keras.engine.input_layer.InputLayer at 0x7f7841277dd0>,\n",
       " <keras.engine.input_layer.InputLayer at 0x7f7841277d90>,\n",
       " <transformers.models.bert.modeling_tf_bert.TFBertModel at 0x7f7841eb7a50>,\n",
       " <keras.layers.pooling.GlobalMaxPooling1D at 0x7f783d11c950>,\n",
       " <keras.layers.core.Dense at 0x7f783d11c990>,\n",
       " <keras.layers.core.Dropout at 0x7f78412f2650>,\n",
       " <keras.layers.core.Dense at 0x7f7dad7b2f10>,\n",
       " <keras.layers.core.Dropout at 0x7f784075e310>,\n",
       " <keras.layers.core.Dense at 0x7f7dad7b2790>,\n",
       " <keras.layers.core.Dropout at 0x7f78407f2490>,\n",
       " <keras.layers.core.Dense at 0x7f7d8d22c790>]"
      ]
     },
     "execution_count": 49,
     "metadata": {},
     "output_type": "execute_result"
    }
   ],
   "source": [
    "model.layers"
   ]
  },
  {
   "cell_type": "code",
   "execution_count": 50,
   "id": "6be9e50f",
   "metadata": {
    "execution": {
     "iopub.execute_input": "2022-08-06T12:21:25.872989Z",
     "iopub.status.busy": "2022-08-06T12:21:25.872617Z",
     "iopub.status.idle": "2022-08-06T12:21:25.891251Z",
     "shell.execute_reply": "2022-08-06T12:21:25.890109Z"
    },
    "id": "0c0aNRIXURmB",
    "outputId": "4b17317f-b758-44ec-c888-b0773cd179c8",
    "papermill": {
     "duration": 0.05283,
     "end_time": "2022-08-06T12:21:25.894237",
     "exception": false,
     "start_time": "2022-08-06T12:21:25.841407",
     "status": "completed"
    },
    "tags": []
   },
   "outputs": [
    {
     "name": "stdout",
     "output_type": "stream",
     "text": [
      "Model: \"model\"\n",
      "__________________________________________________________________________________________________\n",
      "Layer (type)                    Output Shape         Param #     Connected to                     \n",
      "==================================================================================================\n",
      "input_ids (InputLayer)          [(None, 200)]        0                                            \n",
      "__________________________________________________________________________________________________\n",
      "attention_mask (InputLayer)     [(None, 200)]        0                                            \n",
      "__________________________________________________________________________________________________\n",
      "tf_bert_model (TFBertModel)     TFBaseModelOutputWit 22713216    input_ids[0][0]                  \n",
      "                                                                 attention_mask[0][0]             \n",
      "__________________________________________________________________________________________________\n",
      "global_max_pooling1d (GlobalMax (None, 384)          0           tf_bert_model[0][0]              \n",
      "__________________________________________________________________________________________________\n",
      "dense (Dense)                   (None, 128)          49280       global_max_pooling1d[0][0]       \n",
      "__________________________________________________________________________________________________\n",
      "dropout_19 (Dropout)            (None, 128)          0           dense[0][0]                      \n",
      "__________________________________________________________________________________________________\n",
      "dense_1 (Dense)                 (None, 64)           8256        dropout_19[0][0]                 \n",
      "__________________________________________________________________________________________________\n",
      "dropout_20 (Dropout)            (None, 64)           0           dense_1[0][0]                    \n",
      "__________________________________________________________________________________________________\n",
      "dense_2 (Dense)                 (None, 32)           2080        dropout_20[0][0]                 \n",
      "__________________________________________________________________________________________________\n",
      "dropout_21 (Dropout)            (None, 32)           0           dense_2[0][0]                    \n",
      "__________________________________________________________________________________________________\n",
      "dense_3 (Dense)                 (None, 5)            165         dropout_21[0][0]                 \n",
      "==================================================================================================\n",
      "Total params: 22,772,997\n",
      "Trainable params: 22,772,997\n",
      "Non-trainable params: 0\n",
      "__________________________________________________________________________________________________\n"
     ]
    }
   ],
   "source": [
    "model.layers[2].trainable = True\n",
    "model.summary()"
   ]
  },
  {
   "cell_type": "code",
   "execution_count": 51,
   "id": "4199a88d",
   "metadata": {
    "execution": {
     "iopub.execute_input": "2022-08-06T12:21:25.958303Z",
     "iopub.status.busy": "2022-08-06T12:21:25.957896Z",
     "iopub.status.idle": "2022-08-06T12:21:25.978742Z",
     "shell.execute_reply": "2022-08-06T12:21:25.977648Z"
    },
    "id": "kB1L8tpSURmC",
    "papermill": {
     "duration": 0.055818,
     "end_time": "2022-08-06T12:21:25.981695",
     "exception": false,
     "start_time": "2022-08-06T12:21:25.925877",
     "status": "completed"
    },
    "tags": []
   },
   "outputs": [],
   "source": [
    "OPTIMIZER = tf.keras.optimizers.Adam(\n",
    "    learning_rate=5e-05,\n",
    "    epsilon=1e-08,\n",
    "    decay=0.01,\n",
    "    clipnorm=1.0)\n",
    "LOSS = CategoricalCrossentropy(from_logits=False)\n",
    "METRIC = CategoricalAccuracy('accuracy'),\n",
    "model.compile(optimizer=OPTIMIZER, loss=LOSS, metrics=METRIC)"
   ]
  },
  {
   "cell_type": "code",
   "execution_count": 52,
   "id": "38b832b9",
   "metadata": {
    "execution": {
     "iopub.execute_input": "2022-08-06T12:21:26.045493Z",
     "iopub.status.busy": "2022-08-06T12:21:26.045122Z",
     "iopub.status.idle": "2022-08-06T12:21:26.051560Z",
     "shell.execute_reply": "2022-08-06T12:21:26.050406Z"
    },
    "id": "YrmHgatxURmC",
    "papermill": {
     "duration": 0.041711,
     "end_time": "2022-08-06T12:21:26.054262",
     "exception": false,
     "start_time": "2022-08-06T12:21:26.012551",
     "status": "completed"
    },
    "tags": []
   },
   "outputs": [],
   "source": [
    "# callback\n",
    "VAL_ACCURACY_THRESHOLD = 0.97\n",
    "class myCallback(tf.keras.callbacks.Callback):\n",
    "    def on_epoch_end(self, epochs, logs={}):\n",
    "        if(logs.get('val_accuracy') is not None and logs.get('val_accuracy') >= VAL_ACCURACY_THRESHOLD):\n",
    "            print('Reached {} accuracy, stop training!'.format(VAL_ACCURACY_THRESHOLD))\n",
    "            self.model.stop_training = True"
   ]
  },
  {
   "cell_type": "code",
   "execution_count": 53,
   "id": "e5ceb68d",
   "metadata": {
    "execution": {
     "iopub.execute_input": "2022-08-06T12:21:26.118391Z",
     "iopub.status.busy": "2022-08-06T12:21:26.116409Z",
     "iopub.status.idle": "2022-08-06T12:21:26.123390Z",
     "shell.execute_reply": "2022-08-06T12:21:26.122322Z"
    },
    "id": "PFELl4O9URmD",
    "papermill": {
     "duration": 0.041306,
     "end_time": "2022-08-06T12:21:26.125717",
     "exception": false,
     "start_time": "2022-08-06T12:21:26.084411",
     "status": "completed"
    },
    "tags": []
   },
   "outputs": [],
   "source": [
    "MODELPATH = f'bert_classification.h5'\n",
    "CHECKPOINT = ModelCheckpoint(MODELPATH, monitor='val_accuracy', verbose=1, save_best_only=True, mode='max', save_weights_only=False)\n",
    "EARLY_STOPPING = EarlyStopping(monitor='val_loss', min_delta=0, patience=5, verbose=1, restore_best_weights=True)\n",
    "CALBACKS_LIST = [CHECKPOINT, EARLY_STOPPING, myCallback()]"
   ]
  },
  {
   "cell_type": "code",
   "execution_count": 54,
   "id": "ce4f3293",
   "metadata": {
    "execution": {
     "iopub.execute_input": "2022-08-06T12:21:26.191678Z",
     "iopub.status.busy": "2022-08-06T12:21:26.190494Z",
     "iopub.status.idle": "2022-08-06T12:21:26.206228Z",
     "shell.execute_reply": "2022-08-06T12:21:26.205199Z"
    },
    "id": "ZvAoMNuQURmE",
    "papermill": {
     "duration": 0.050713,
     "end_time": "2022-08-06T12:21:26.208660",
     "exception": false,
     "start_time": "2022-08-06T12:21:26.157947",
     "status": "completed"
    },
    "tags": []
   },
   "outputs": [],
   "source": [
    "# one hot encoding\n",
    "from sklearn.preprocessing import LabelBinarizer\n",
    "lb = LabelBinarizer()\n",
    "train_label = lb.fit_transform(y_train)\n",
    "val_label = lb.transform(y_val)"
   ]
  },
  {
   "cell_type": "code",
   "execution_count": 55,
   "id": "43295f23",
   "metadata": {
    "execution": {
     "iopub.execute_input": "2022-08-06T12:21:26.271670Z",
     "iopub.status.busy": "2022-08-06T12:21:26.271282Z",
     "iopub.status.idle": "2022-08-06T12:21:26.276721Z",
     "shell.execute_reply": "2022-08-06T12:21:26.275663Z"
    },
    "id": "xOGlu8DFURmF",
    "outputId": "0754200c-9c9d-4ee2-f82f-035980f327d9",
    "papermill": {
     "duration": 0.040039,
     "end_time": "2022-08-06T12:21:26.279501",
     "exception": false,
     "start_time": "2022-08-06T12:21:26.239462",
     "status": "completed"
    },
    "tags": []
   },
   "outputs": [
    {
     "name": "stdout",
     "output_type": "stream",
     "text": [
      "(45000, 5)\n",
      "(15000, 5)\n"
     ]
    }
   ],
   "source": [
    "print(train_label.shape)\n",
    "print(val_label.shape)"
   ]
  },
  {
   "cell_type": "code",
   "execution_count": 56,
   "id": "0a5361af",
   "metadata": {
    "execution": {
     "iopub.execute_input": "2022-08-06T12:21:26.344524Z",
     "iopub.status.busy": "2022-08-06T12:21:26.343465Z",
     "iopub.status.idle": "2022-08-06T14:30:55.693859Z",
     "shell.execute_reply": "2022-08-06T14:30:55.692653Z"
    },
    "id": "wHaNCN6sqh4p",
    "papermill": {
     "duration": 7769.386252,
     "end_time": "2022-08-06T14:30:55.696733",
     "exception": false,
     "start_time": "2022-08-06T12:21:26.310481",
     "status": "completed"
    },
    "tags": []
   },
   "outputs": [
    {
     "name": "stderr",
     "output_type": "stream",
     "text": [
      "2022-08-06 12:21:26.481994: I tensorflow/compiler/mlir/mlir_graph_optimization_pass.cc:185] None of the MLIR Optimization Passes are enabled (registered 2)\n"
     ]
    },
    {
     "name": "stdout",
     "output_type": "stream",
     "text": [
      "Epoch 1/30\n",
      "1125/1125 [==============================] - 256s 221ms/step - loss: 0.9217 - accuracy: 0.6585 - val_loss: 0.6238 - val_accuracy: 0.7949\n",
      "\n",
      "Epoch 00001: val_accuracy improved from -inf to 0.79487, saving model to bert_classification.h5\n",
      "Epoch 2/30\n",
      "1125/1125 [==============================] - 265s 236ms/step - loss: 0.6846 - accuracy: 0.7713 - val_loss: 0.5682 - val_accuracy: 0.8177\n",
      "\n",
      "Epoch 00002: val_accuracy improved from 0.79487 to 0.81773, saving model to bert_classification.h5\n",
      "Epoch 3/30\n",
      "1125/1125 [==============================] - 248s 220ms/step - loss: 0.6249 - accuracy: 0.8006 - val_loss: 0.5290 - val_accuracy: 0.8333\n",
      "\n",
      "Epoch 00003: val_accuracy improved from 0.81773 to 0.83327, saving model to bert_classification.h5\n",
      "Epoch 4/30\n",
      "1125/1125 [==============================] - 265s 236ms/step - loss: 0.6004 - accuracy: 0.8109 - val_loss: 0.5103 - val_accuracy: 0.8423\n",
      "\n",
      "Epoch 00004: val_accuracy improved from 0.83327 to 0.84227, saving model to bert_classification.h5\n",
      "Epoch 5/30\n",
      "1125/1125 [==============================] - 265s 236ms/step - loss: 0.5752 - accuracy: 0.8216 - val_loss: 0.5049 - val_accuracy: 0.8427\n",
      "\n",
      "Epoch 00005: val_accuracy improved from 0.84227 to 0.84273, saving model to bert_classification.h5\n",
      "Epoch 6/30\n",
      "1125/1125 [==============================] - 248s 220ms/step - loss: 0.5580 - accuracy: 0.8288 - val_loss: 0.4865 - val_accuracy: 0.8517\n",
      "\n",
      "Epoch 00006: val_accuracy improved from 0.84273 to 0.85173, saving model to bert_classification.h5\n",
      "Epoch 7/30\n",
      "1125/1125 [==============================] - 248s 220ms/step - loss: 0.5471 - accuracy: 0.8335 - val_loss: 0.4866 - val_accuracy: 0.8491\n",
      "\n",
      "Epoch 00007: val_accuracy did not improve from 0.85173\n",
      "Epoch 8/30\n",
      "1125/1125 [==============================] - 248s 220ms/step - loss: 0.5384 - accuracy: 0.8355 - val_loss: 0.4817 - val_accuracy: 0.8520\n",
      "\n",
      "Epoch 00008: val_accuracy improved from 0.85173 to 0.85200, saving model to bert_classification.h5\n",
      "Epoch 9/30\n",
      "1125/1125 [==============================] - 265s 236ms/step - loss: 0.5300 - accuracy: 0.8406 - val_loss: 0.4690 - val_accuracy: 0.8573\n",
      "\n",
      "Epoch 00009: val_accuracy improved from 0.85200 to 0.85733, saving model to bert_classification.h5\n",
      "Epoch 10/30\n",
      "1125/1125 [==============================] - 248s 220ms/step - loss: 0.5203 - accuracy: 0.8435 - val_loss: 0.4650 - val_accuracy: 0.8574\n",
      "\n",
      "Epoch 00010: val_accuracy improved from 0.85733 to 0.85740, saving model to bert_classification.h5\n",
      "Epoch 11/30\n",
      "1125/1125 [==============================] - 265s 236ms/step - loss: 0.5210 - accuracy: 0.8440 - val_loss: 0.4658 - val_accuracy: 0.8562\n",
      "\n",
      "Epoch 00011: val_accuracy did not improve from 0.85740\n",
      "Epoch 12/30\n",
      "1125/1125 [==============================] - 266s 236ms/step - loss: 0.5112 - accuracy: 0.8479 - val_loss: 0.4612 - val_accuracy: 0.8571\n",
      "\n",
      "Epoch 00012: val_accuracy did not improve from 0.85740\n",
      "Epoch 13/30\n",
      "1125/1125 [==============================] - 248s 221ms/step - loss: 0.5134 - accuracy: 0.8471 - val_loss: 0.4556 - val_accuracy: 0.8596\n",
      "\n",
      "Epoch 00013: val_accuracy improved from 0.85740 to 0.85960, saving model to bert_classification.h5\n",
      "Epoch 14/30\n",
      "1125/1125 [==============================] - 265s 236ms/step - loss: 0.5030 - accuracy: 0.8492 - val_loss: 0.4492 - val_accuracy: 0.8620\n",
      "\n",
      "Epoch 00014: val_accuracy improved from 0.85960 to 0.86200, saving model to bert_classification.h5\n",
      "Epoch 15/30\n",
      "1125/1125 [==============================] - 265s 236ms/step - loss: 0.4995 - accuracy: 0.8510 - val_loss: 0.4514 - val_accuracy: 0.8608\n",
      "\n",
      "Epoch 00015: val_accuracy did not improve from 0.86200\n",
      "Epoch 16/30\n",
      "1125/1125 [==============================] - 248s 220ms/step - loss: 0.4959 - accuracy: 0.8523 - val_loss: 0.4541 - val_accuracy: 0.8595\n",
      "\n",
      "Epoch 00016: val_accuracy did not improve from 0.86200\n",
      "Epoch 17/30\n",
      "1125/1125 [==============================] - 248s 220ms/step - loss: 0.4969 - accuracy: 0.8537 - val_loss: 0.4408 - val_accuracy: 0.8652\n",
      "\n",
      "Epoch 00017: val_accuracy improved from 0.86200 to 0.86520, saving model to bert_classification.h5\n",
      "Epoch 18/30\n",
      "1125/1125 [==============================] - 248s 221ms/step - loss: 0.4905 - accuracy: 0.8558 - val_loss: 0.4438 - val_accuracy: 0.8638\n",
      "\n",
      "Epoch 00018: val_accuracy did not improve from 0.86520\n",
      "Epoch 19/30\n",
      "1125/1125 [==============================] - 265s 236ms/step - loss: 0.4863 - accuracy: 0.8558 - val_loss: 0.4486 - val_accuracy: 0.8597\n",
      "\n",
      "Epoch 00019: val_accuracy did not improve from 0.86520\n",
      "Epoch 20/30\n",
      "1125/1125 [==============================] - 248s 220ms/step - loss: 0.4861 - accuracy: 0.8577 - val_loss: 0.4413 - val_accuracy: 0.8628\n",
      "\n",
      "Epoch 00020: val_accuracy did not improve from 0.86520\n",
      "Epoch 21/30\n",
      "1125/1125 [==============================] - 248s 220ms/step - loss: 0.4844 - accuracy: 0.8585 - val_loss: 0.4441 - val_accuracy: 0.8607\n",
      "\n",
      "Epoch 00021: val_accuracy did not improve from 0.86520\n",
      "Epoch 22/30\n",
      "1125/1125 [==============================] - 265s 236ms/step - loss: 0.4799 - accuracy: 0.8592 - val_loss: 0.4354 - val_accuracy: 0.8658\n",
      "\n",
      "Epoch 00022: val_accuracy improved from 0.86520 to 0.86580, saving model to bert_classification.h5\n",
      "Epoch 23/30\n",
      "1125/1125 [==============================] - 248s 220ms/step - loss: 0.4820 - accuracy: 0.8569 - val_loss: 0.4385 - val_accuracy: 0.8632\n",
      "\n",
      "Epoch 00023: val_accuracy did not improve from 0.86580\n",
      "Epoch 24/30\n",
      "1125/1125 [==============================] - 265s 236ms/step - loss: 0.4815 - accuracy: 0.8601 - val_loss: 0.4317 - val_accuracy: 0.8663\n",
      "\n",
      "Epoch 00024: val_accuracy improved from 0.86580 to 0.86633, saving model to bert_classification.h5\n",
      "Epoch 25/30\n",
      "1125/1125 [==============================] - 265s 236ms/step - loss: 0.4739 - accuracy: 0.8614 - val_loss: 0.4329 - val_accuracy: 0.8653\n",
      "\n",
      "Epoch 00025: val_accuracy did not improve from 0.86633\n",
      "Epoch 26/30\n",
      "1125/1125 [==============================] - 248s 220ms/step - loss: 0.4778 - accuracy: 0.8600 - val_loss: 0.4324 - val_accuracy: 0.8655\n",
      "\n",
      "Epoch 00026: val_accuracy did not improve from 0.86633\n",
      "Epoch 27/30\n",
      "1125/1125 [==============================] - 265s 236ms/step - loss: 0.4748 - accuracy: 0.8612 - val_loss: 0.4325 - val_accuracy: 0.8651\n",
      "\n",
      "Epoch 00027: val_accuracy did not improve from 0.86633\n",
      "Epoch 28/30\n",
      "1125/1125 [==============================] - 265s 236ms/step - loss: 0.4660 - accuracy: 0.8662 - val_loss: 0.4309 - val_accuracy: 0.8651\n",
      "\n",
      "Epoch 00028: val_accuracy did not improve from 0.86633\n",
      "Epoch 29/30\n",
      "1125/1125 [==============================] - 248s 220ms/step - loss: 0.4701 - accuracy: 0.8636 - val_loss: 0.4286 - val_accuracy: 0.8675\n",
      "\n",
      "Epoch 00029: val_accuracy improved from 0.86633 to 0.86747, saving model to bert_classification.h5\n",
      "Epoch 30/30\n",
      "1125/1125 [==============================] - 248s 221ms/step - loss: 0.4660 - accuracy: 0.8649 - val_loss: 0.4299 - val_accuracy: 0.8650\n",
      "\n",
      "Epoch 00030: val_accuracy did not improve from 0.86747\n"
     ]
    }
   ],
   "source": [
    "# fitting\n",
    "EPOCH = 30\n",
    "BATCH_SIZE = 40\n",
    "history = model.fit(\n",
    "    x = {'input_ids':X_train, 'attention_mask':train_mask},\n",
    "    y = train_label,\n",
    "    validation_data = ({'input_ids':X_val,'attention_mask':val_mask}, val_label),\n",
    "    epochs=EPOCH,\n",
    "    batch_size=BATCH_SIZE,\n",
    "    callbacks=CALBACKS_LIST\n",
    "    )"
   ]
  },
  {
   "cell_type": "code",
   "execution_count": 57,
   "id": "a4001b63",
   "metadata": {
    "execution": {
     "iopub.execute_input": "2022-08-06T14:30:59.786926Z",
     "iopub.status.busy": "2022-08-06T14:30:59.785770Z",
     "iopub.status.idle": "2022-08-06T14:31:00.494122Z",
     "shell.execute_reply": "2022-08-06T14:31:00.493123Z"
    },
    "id": "pmHQjjgVURmG",
    "papermill": {
     "duration": 2.842252,
     "end_time": "2022-08-06T14:31:00.496354",
     "exception": false,
     "start_time": "2022-08-06T14:30:57.654102",
     "status": "completed"
    },
    "tags": []
   },
   "outputs": [
    {
     "data": {
      "image/png": "[encoded data removed]",
      "text/plain": [
       "<Figure size 576x432 with 1 Axes>"
      ]
     },
     "metadata": {},
     "output_type": "display_data"
    }
   ],
   "source": [
    "# plot loss and accuracy\n",
    "from matplotlib.pyplot import figure\n",
    "figure(figsize=(8, 6))\n",
    "plt.plot(history.history['accuracy'])\n",
    "plt.plot(history.history['val_accuracy'])\n",
    "plt.title('History of Model')\n",
    "plt.ylabel('Accuracy')\n",
    "plt.xlabel('Epoch')\n",
    "plt.legend(['Training', 'Validation'], loc='upper left')\n",
    "plt.savefig(f'EECSI_history.png', format='png', dpi=300)\n",
    "plt.show()"
   ]
  },
  {
   "cell_type": "code",
   "execution_count": 58,
   "id": "08ba21fb",
   "metadata": {
    "execution": {
     "iopub.execute_input": "2022-08-06T14:31:04.862322Z",
     "iopub.status.busy": "2022-08-06T14:31:04.861937Z",
     "iopub.status.idle": "2022-08-06T14:31:47.190648Z",
     "shell.execute_reply": "2022-08-06T14:31:47.189546Z"
    },
    "id": "xxdhJAvYuc-v",
    "papermill": {
     "duration": 46.597062,
     "end_time": "2022-08-06T14:31:49.304403",
     "exception": false,
     "start_time": "2022-08-06T14:31:02.707341",
     "status": "completed"
    },
    "tags": []
   },
   "outputs": [
    {
     "data": {
      "text/plain": [
       "array([0.46376383, 0.00514571, 0.5223519 , 0.00419232, 0.00454624],\n",
       "      dtype=float32)"
      ]
     },
     "execution_count": 58,
     "metadata": {},
     "output_type": "execute_result"
    }
   ],
   "source": [
    "predicted_raw = model.predict({'input_ids':X_val,'attention_mask':val_mask})\n",
    "predicted_raw[0]"
   ]
  },
  {
   "cell_type": "code",
   "execution_count": 59,
   "id": "ba785df0",
   "metadata": {
    "execution": {
     "iopub.execute_input": "2022-08-06T14:31:53.314326Z",
     "iopub.status.busy": "2022-08-06T14:31:53.313772Z",
     "iopub.status.idle": "2022-08-06T14:31:53.320102Z",
     "shell.execute_reply": "2022-08-06T14:31:53.318905Z"
    },
    "id": "UveGs-_FvCyr",
    "papermill": {
     "duration": 2.093418,
     "end_time": "2022-08-06T14:31:53.322682",
     "exception": false,
     "start_time": "2022-08-06T14:31:51.229264",
     "status": "completed"
    },
    "tags": []
   },
   "outputs": [],
   "source": [
    "from sklearn.metrics import classification_report\n",
    "\n",
    "pred = np.argmax(predicted_raw, axis=1)\n",
    "ground = np.argmax(val_label, axis=1)"
   ]
  },
  {
   "cell_type": "code",
   "execution_count": 60,
   "id": "ca43be80",
   "metadata": {
    "execution": {
     "iopub.execute_input": "2022-08-06T14:31:57.518196Z",
     "iopub.status.busy": "2022-08-06T14:31:57.517688Z",
     "iopub.status.idle": "2022-08-06T14:31:57.554961Z",
     "shell.execute_reply": "2022-08-06T14:31:57.553321Z"
    },
    "id": "A9snINZpvCyr",
    "papermill": {
     "duration": 2.217777,
     "end_time": "2022-08-06T14:31:57.557527",
     "exception": false,
     "start_time": "2022-08-06T14:31:55.339750",
     "status": "completed"
    },
    "tags": []
   },
   "outputs": [
    {
     "name": "stdout",
     "output_type": "stream",
     "text": [
      "              precision    recall  f1-score   support\n",
      "\n",
      "           0       0.89      0.96      0.92      1063\n",
      "           1       0.92      0.91      0.91      4907\n",
      "           2       0.84      0.89      0.87      2227\n",
      "           3       0.79      0.87      0.83      3184\n",
      "           4       0.87      0.76      0.81      3619\n",
      "\n",
      "    accuracy                           0.86     15000\n",
      "   macro avg       0.86      0.88      0.87     15000\n",
      "weighted avg       0.87      0.86      0.86     15000\n",
      "\n"
     ]
    }
   ],
   "source": [
    "# report accuration\n",
    "import warnings\n",
    "warnings.filterwarnings('ignore')\n",
    "print(classification_report(ground, pred))"
   ]
  },
  {
   "cell_type": "markdown",
   "id": "02e5515c",
   "metadata": {
    "id": "vDEvq38oS6yL",
    "papermill": {
     "duration": 1.935616,
     "end_time": "2022-08-06T14:32:01.667532",
     "exception": false,
     "start_time": "2022-08-06T14:31:59.731916",
     "status": "completed"
    },
    "tags": []
   },
   "source": [
    "# Likelihood of Occurring"
   ]
  },
  {
   "cell_type": "code",
   "execution_count": 61,
   "id": "ea6ef27c",
   "metadata": {
    "execution": {
     "iopub.execute_input": "2022-08-06T14:32:06.218063Z",
     "iopub.status.busy": "2022-08-06T14:32:06.217651Z",
     "iopub.status.idle": "2022-08-06T14:32:06.231276Z",
     "shell.execute_reply": "2022-08-06T14:32:06.230267Z"
    },
    "id": "2xLP3MzCik7I",
    "outputId": "ebf9f806-6014-49a6-f16d-44ffaeda82ff",
    "papermill": {
     "duration": 1.928245,
     "end_time": "2022-08-06T14:32:06.233573",
     "exception": false,
     "start_time": "2022-08-06T14:32:04.305328",
     "status": "completed"
    },
    "tags": []
   },
   "outputs": [
    {
     "data": {
      "text/html": [
       "<div>\n",
       "<style scoped>\n",
       "    .dataframe tbody tr th:only-of-type {\n",
       "        vertical-align: middle;\n",
       "    }\n",
       "\n",
       "    .dataframe tbody tr th {\n",
       "        vertical-align: top;\n",
       "    }\n",
       "\n",
       "    .dataframe thead th {\n",
       "        text-align: right;\n",
       "    }\n",
       "</style>\n",
       "<table border=\"1\" class=\"dataframe\">\n",
       "  <thead>\n",
       "    <tr style=\"text-align: right;\">\n",
       "      <th></th>\n",
       "      <th>Cluster</th>\n",
       "    </tr>\n",
       "    <tr>\n",
       "      <th>Cluster</th>\n",
       "      <th></th>\n",
       "    </tr>\n",
       "  </thead>\n",
       "  <tbody>\n",
       "    <tr>\n",
       "      <th>0</th>\n",
       "      <td>4271</td>\n",
       "    </tr>\n",
       "    <tr>\n",
       "      <th>1</th>\n",
       "      <td>19503</td>\n",
       "    </tr>\n",
       "    <tr>\n",
       "      <th>2</th>\n",
       "      <td>9090</td>\n",
       "    </tr>\n",
       "    <tr>\n",
       "      <th>3</th>\n",
       "      <td>12674</td>\n",
       "    </tr>\n",
       "    <tr>\n",
       "      <th>4</th>\n",
       "      <td>14462</td>\n",
       "    </tr>\n",
       "  </tbody>\n",
       "</table>\n",
       "</div>"
      ],
      "text/plain": [
       "         Cluster\n",
       "Cluster         \n",
       "0           4271\n",
       "1          19503\n",
       "2           9090\n",
       "3          12674\n",
       "4          14462"
      ]
     },
     "execution_count": 61,
     "metadata": {},
     "output_type": "execute_result"
    }
   ],
   "source": [
    "# count by Cluster\n",
    "CLS = df.groupby(['Cluster'])['Cluster'].count().to_frame()\n",
    "CLS"
   ]
  },
  {
   "cell_type": "code",
   "execution_count": 62,
   "id": "69f335a3",
   "metadata": {
    "execution": {
     "iopub.execute_input": "2022-08-06T14:32:10.524028Z",
     "iopub.status.busy": "2022-08-06T14:32:10.523585Z",
     "iopub.status.idle": "2022-08-06T14:32:10.535510Z",
     "shell.execute_reply": "2022-08-06T14:32:10.534563Z"
    },
    "id": "kpywnE-xywtD",
    "outputId": "c4a7b96a-1af8-4587-e2ca-263c707739c2",
    "papermill": {
     "duration": 1.944748,
     "end_time": "2022-08-06T14:32:10.537617",
     "exception": false,
     "start_time": "2022-08-06T14:32:08.592869",
     "status": "completed"
    },
    "tags": []
   },
   "outputs": [
    {
     "data": {
      "text/html": [
       "<div>\n",
       "<style scoped>\n",
       "    .dataframe tbody tr th:only-of-type {\n",
       "        vertical-align: middle;\n",
       "    }\n",
       "\n",
       "    .dataframe tbody tr th {\n",
       "        vertical-align: top;\n",
       "    }\n",
       "\n",
       "    .dataframe thead th {\n",
       "        text-align: right;\n",
       "    }\n",
       "</style>\n",
       "<table border=\"1\" class=\"dataframe\">\n",
       "  <thead>\n",
       "    <tr style=\"text-align: right;\">\n",
       "      <th></th>\n",
       "      <th>Units</th>\n",
       "    </tr>\n",
       "    <tr>\n",
       "      <th>Cluster</th>\n",
       "      <th></th>\n",
       "    </tr>\n",
       "  </thead>\n",
       "  <tbody>\n",
       "    <tr>\n",
       "      <th>0</th>\n",
       "      <td>4271</td>\n",
       "    </tr>\n",
       "    <tr>\n",
       "      <th>1</th>\n",
       "      <td>19503</td>\n",
       "    </tr>\n",
       "    <tr>\n",
       "      <th>2</th>\n",
       "      <td>9090</td>\n",
       "    </tr>\n",
       "    <tr>\n",
       "      <th>3</th>\n",
       "      <td>12674</td>\n",
       "    </tr>\n",
       "    <tr>\n",
       "      <th>4</th>\n",
       "      <td>14462</td>\n",
       "    </tr>\n",
       "  </tbody>\n",
       "</table>\n",
       "</div>"
      ],
      "text/plain": [
       "         Units\n",
       "Cluster       \n",
       "0         4271\n",
       "1        19503\n",
       "2         9090\n",
       "3        12674\n",
       "4        14462"
      ]
     },
     "execution_count": 62,
     "metadata": {},
     "output_type": "execute_result"
    }
   ],
   "source": [
    "CLS = CLS.rename(columns={CLS.columns[0]: 'Units'})\n",
    "CLS"
   ]
  },
  {
   "cell_type": "code",
   "execution_count": 63,
   "id": "7044e7a8",
   "metadata": {
    "execution": {
     "iopub.execute_input": "2022-08-06T14:32:14.586783Z",
     "iopub.status.busy": "2022-08-06T14:32:14.586398Z",
     "iopub.status.idle": "2022-08-06T14:32:14.602049Z",
     "shell.execute_reply": "2022-08-06T14:32:14.600628Z"
    },
    "id": "FLs3AcS7BJnp",
    "outputId": "53bbef6a-9b79-4a29-d6a6-3feb430373ad",
    "papermill": {
     "duration": 2.072475,
     "end_time": "2022-08-06T14:32:14.604351",
     "exception": false,
     "start_time": "2022-08-06T14:32:12.531876",
     "status": "completed"
    },
    "tags": []
   },
   "outputs": [
    {
     "data": {
      "text/html": [
       "<div>\n",
       "<style scoped>\n",
       "    .dataframe tbody tr th:only-of-type {\n",
       "        vertical-align: middle;\n",
       "    }\n",
       "\n",
       "    .dataframe tbody tr th {\n",
       "        vertical-align: top;\n",
       "    }\n",
       "\n",
       "    .dataframe thead th {\n",
       "        text-align: right;\n",
       "    }\n",
       "</style>\n",
       "<table border=\"1\" class=\"dataframe\">\n",
       "  <thead>\n",
       "    <tr style=\"text-align: right;\">\n",
       "      <th></th>\n",
       "      <th>Units</th>\n",
       "      <th>Rank</th>\n",
       "    </tr>\n",
       "    <tr>\n",
       "      <th>Cluster</th>\n",
       "      <th></th>\n",
       "      <th></th>\n",
       "    </tr>\n",
       "  </thead>\n",
       "  <tbody>\n",
       "    <tr>\n",
       "      <th>0</th>\n",
       "      <td>4271</td>\n",
       "      <td>1</td>\n",
       "    </tr>\n",
       "    <tr>\n",
       "      <th>1</th>\n",
       "      <td>19503</td>\n",
       "      <td>5</td>\n",
       "    </tr>\n",
       "    <tr>\n",
       "      <th>2</th>\n",
       "      <td>9090</td>\n",
       "      <td>2</td>\n",
       "    </tr>\n",
       "    <tr>\n",
       "      <th>3</th>\n",
       "      <td>12674</td>\n",
       "      <td>3</td>\n",
       "    </tr>\n",
       "    <tr>\n",
       "      <th>4</th>\n",
       "      <td>14462</td>\n",
       "      <td>4</td>\n",
       "    </tr>\n",
       "  </tbody>\n",
       "</table>\n",
       "</div>"
      ],
      "text/plain": [
       "         Units  Rank\n",
       "Cluster             \n",
       "0         4271     1\n",
       "1        19503     5\n",
       "2         9090     2\n",
       "3        12674     3\n",
       "4        14462     4"
      ]
     },
     "execution_count": 63,
     "metadata": {},
     "output_type": "execute_result"
    }
   ],
   "source": [
    "CLS['Rank'] = CLS['Units'].rank().astype(int)\n",
    "CLS"
   ]
  },
  {
   "cell_type": "code",
   "execution_count": 64,
   "id": "797fc36f",
   "metadata": {
    "execution": {
     "iopub.execute_input": "2022-08-06T14:32:18.682683Z",
     "iopub.status.busy": "2022-08-06T14:32:18.681274Z",
     "iopub.status.idle": "2022-08-06T14:32:18.687681Z",
     "shell.execute_reply": "2022-08-06T14:32:18.686653Z"
    },
    "id": "1WlaQ5E_lOrS",
    "papermill": {
     "duration": 1.940856,
     "end_time": "2022-08-06T14:32:18.690043",
     "exception": false,
     "start_time": "2022-08-06T14:32:16.749187",
     "status": "completed"
    },
    "tags": []
   },
   "outputs": [],
   "source": [
    "# likelihood function \n",
    "def likelihood(cluster, maxi):\n",
    "    rank = CLS.query('Cluster == @cluster').Rank\n",
    "    rank = int(rank)\n",
    "    if rank >= maxi:\n",
    "        return maxi\n",
    "    else:\n",
    "        return rank\n"
   ]
  },
  {
   "cell_type": "code",
   "execution_count": 65,
   "id": "832bf959",
   "metadata": {
    "execution": {
     "iopub.execute_input": "2022-08-06T14:32:23.161668Z",
     "iopub.status.busy": "2022-08-06T14:32:23.161283Z",
     "iopub.status.idle": "2022-08-06T14:32:23.172971Z",
     "shell.execute_reply": "2022-08-06T14:32:23.171912Z"
    },
    "id": "qVthDc2CEw8B",
    "outputId": "b86e0c24-715b-4961-b945-bf557ed02836",
    "papermill": {
     "duration": 2.047257,
     "end_time": "2022-08-06T14:32:23.175335",
     "exception": false,
     "start_time": "2022-08-06T14:32:21.128078",
     "status": "completed"
    },
    "tags": []
   },
   "outputs": [
    {
     "data": {
      "text/plain": [
       "4"
      ]
     },
     "execution_count": 65,
     "metadata": {},
     "output_type": "execute_result"
    }
   ],
   "source": [
    "likelihood(4, 5)"
   ]
  },
  {
   "cell_type": "code",
   "execution_count": 66,
   "id": "d1783a51",
   "metadata": {
    "execution": {
     "iopub.execute_input": "2022-08-06T14:32:27.199205Z",
     "iopub.status.busy": "2022-08-06T14:32:27.198574Z",
     "iopub.status.idle": "2022-08-06T14:34:12.653553Z",
     "shell.execute_reply": "2022-08-06T14:34:12.652563Z"
    },
    "id": "OZmsQz1Ii8iY",
    "outputId": "5f18d3f5-73b3-40fd-e879-935b8da15737",
    "papermill": {
     "duration": 109.539238,
     "end_time": "2022-08-06T14:34:14.643453",
     "exception": false,
     "start_time": "2022-08-06T14:32:25.104215",
     "status": "completed"
    },
    "tags": []
   },
   "outputs": [
    {
     "data": {
      "text/html": [
       "<div>\n",
       "<style scoped>\n",
       "    .dataframe tbody tr th:only-of-type {\n",
       "        vertical-align: middle;\n",
       "    }\n",
       "\n",
       "    .dataframe tbody tr th {\n",
       "        vertical-align: top;\n",
       "    }\n",
       "\n",
       "    .dataframe thead th {\n",
       "        text-align: right;\n",
       "    }\n",
       "</style>\n",
       "<table border=\"1\" class=\"dataframe\">\n",
       "  <thead>\n",
       "    <tr style=\"text-align: right;\">\n",
       "      <th></th>\n",
       "      <th>Cleaned</th>\n",
       "      <th>Cluster</th>\n",
       "      <th>Likelihood</th>\n",
       "    </tr>\n",
       "    <tr>\n",
       "      <th>Id</th>\n",
       "      <th></th>\n",
       "      <th></th>\n",
       "      <th></th>\n",
       "    </tr>\n",
       "  </thead>\n",
       "  <tbody>\n",
       "    <tr>\n",
       "      <th>34552656</th>\n",
       "      <td>java repeat task every random second pim alrea...</td>\n",
       "      <td>3</td>\n",
       "      <td>3</td>\n",
       "    </tr>\n",
       "    <tr>\n",
       "      <th>34553034</th>\n",
       "      <td>java optionals immutable pid like understand j...</td>\n",
       "      <td>4</td>\n",
       "      <td>4</td>\n",
       "    </tr>\n",
       "    <tr>\n",
       "      <th>34553174</th>\n",
       "      <td>text overlay image darken opacity react native...</td>\n",
       "      <td>1</td>\n",
       "      <td>5</td>\n",
       "    </tr>\n",
       "    <tr>\n",
       "      <th>34553318</th>\n",
       "      <td>ternary operator swift picky pthe question sim...</td>\n",
       "      <td>3</td>\n",
       "      <td>3</td>\n",
       "    </tr>\n",
       "    <tr>\n",
       "      <th>34553755</th>\n",
       "      <td>hideshow fab scale animation pim use custom fl...</td>\n",
       "      <td>0</td>\n",
       "      <td>1</td>\n",
       "    </tr>\n",
       "  </tbody>\n",
       "</table>\n",
       "</div>"
      ],
      "text/plain": [
       "                                                    Cleaned  Cluster  \\\n",
       "Id                                                                     \n",
       "34552656  java repeat task every random second pim alrea...        3   \n",
       "34553034  java optionals immutable pid like understand j...        4   \n",
       "34553174  text overlay image darken opacity react native...        1   \n",
       "34553318  ternary operator swift picky pthe question sim...        3   \n",
       "34553755  hideshow fab scale animation pim use custom fl...        0   \n",
       "\n",
       "          Likelihood  \n",
       "Id                    \n",
       "34552656           3  \n",
       "34553034           4  \n",
       "34553174           5  \n",
       "34553318           3  \n",
       "34553755           1  "
      ]
     },
     "execution_count": 66,
     "metadata": {},
     "output_type": "execute_result"
    }
   ],
   "source": [
    "df['Likelihood'] = df.apply(lambda x: likelihood(x['Cluster'], 5), axis=1)\n",
    "df[['Cleaned','Cluster','Likelihood']].head()"
   ]
  },
  {
   "cell_type": "markdown",
   "id": "7687290b",
   "metadata": {
    "id": "EZC022xaKG9A",
    "papermill": {
     "duration": 1.97014,
     "end_time": "2022-08-06T14:34:18.787065",
     "exception": false,
     "start_time": "2022-08-06T14:34:16.816925",
     "status": "completed"
    },
    "tags": []
   },
   "source": [
    "# Sentiment Analysis"
   ]
  },
  {
   "cell_type": "code",
   "execution_count": 67,
   "id": "4350f00d",
   "metadata": {
    "execution": {
     "iopub.execute_input": "2022-08-06T14:34:23.192461Z",
     "iopub.status.busy": "2022-08-06T14:34:23.192096Z",
     "iopub.status.idle": "2022-08-06T14:34:23.239091Z",
     "shell.execute_reply": "2022-08-06T14:34:23.238128Z"
    },
    "id": "stxOAQVnoyhY",
    "papermill": {
     "duration": 2.114214,
     "end_time": "2022-08-06T14:34:23.241404",
     "exception": false,
     "start_time": "2022-08-06T14:34:21.127190",
     "status": "completed"
    },
    "tags": []
   },
   "outputs": [],
   "source": [
    "from textblob import TextBlob"
   ]
  },
  {
   "cell_type": "code",
   "execution_count": 68,
   "id": "84528837",
   "metadata": {
    "execution": {
     "iopub.execute_input": "2022-08-06T14:34:27.335345Z",
     "iopub.status.busy": "2022-08-06T14:34:27.333732Z",
     "iopub.status.idle": "2022-08-06T14:34:27.404131Z",
     "shell.execute_reply": "2022-08-06T14:34:27.402694Z"
    },
    "id": "CiX6a7UVtT4o",
    "outputId": "8f216fec-58de-481b-fdb7-18ab5b7126f3",
    "papermill": {
     "duration": 2.017337,
     "end_time": "2022-08-06T14:34:27.407143",
     "exception": false,
     "start_time": "2022-08-06T14:34:25.389806",
     "status": "completed"
    },
    "tags": []
   },
   "outputs": [
    {
     "name": "stdout",
     "output_type": "stream",
     "text": [
      "java optionals immutable pid like understand java  optionals design immutable threadsafetyp\n",
      "0.0\n"
     ]
    }
   ],
   "source": [
    "print(df.iloc[1]['Cleaned'])\n",
    "print(TextBlob(df.iloc[1]['Cleaned']).sentiment.polarity)"
   ]
  },
  {
   "cell_type": "code",
   "execution_count": 69,
   "id": "e1df6f1d",
   "metadata": {
    "execution": {
     "iopub.execute_input": "2022-08-06T14:34:31.891415Z",
     "iopub.status.busy": "2022-08-06T14:34:31.890761Z",
     "iopub.status.idle": "2022-08-06T14:34:44.717337Z",
     "shell.execute_reply": "2022-08-06T14:34:44.716329Z"
    },
    "id": "xRm6gv5opbCN",
    "papermill": {
     "duration": 15.151115,
     "end_time": "2022-08-06T14:34:44.719789",
     "exception": false,
     "start_time": "2022-08-06T14:34:29.568674",
     "status": "completed"
    },
    "tags": []
   },
   "outputs": [],
   "source": [
    "df['Sentiment'] = df['Cleaned'].apply(lambda x : TextBlob(x).sentiment.polarity)"
   ]
  },
  {
   "cell_type": "code",
   "execution_count": 70,
   "id": "bd15cf27",
   "metadata": {
    "execution": {
     "iopub.execute_input": "2022-08-06T14:34:48.754513Z",
     "iopub.status.busy": "2022-08-06T14:34:48.754041Z",
     "iopub.status.idle": "2022-08-06T14:34:48.770691Z",
     "shell.execute_reply": "2022-08-06T14:34:48.769615Z"
    },
    "id": "qeDJOmszzQ6i",
    "outputId": "a5aec622-0f28-4291-9eb6-b745f33b341d",
    "papermill": {
     "duration": 2.13694,
     "end_time": "2022-08-06T14:34:48.773209",
     "exception": false,
     "start_time": "2022-08-06T14:34:46.636269",
     "status": "completed"
    },
    "tags": []
   },
   "outputs": [
    {
     "data": {
      "text/html": [
       "<div>\n",
       "<style scoped>\n",
       "    .dataframe tbody tr th:only-of-type {\n",
       "        vertical-align: middle;\n",
       "    }\n",
       "\n",
       "    .dataframe tbody tr th {\n",
       "        vertical-align: top;\n",
       "    }\n",
       "\n",
       "    .dataframe thead th {\n",
       "        text-align: right;\n",
       "    }\n",
       "</style>\n",
       "<table border=\"1\" class=\"dataframe\">\n",
       "  <thead>\n",
       "    <tr style=\"text-align: right;\">\n",
       "      <th></th>\n",
       "      <th>Cleaned</th>\n",
       "      <th>Sentiment</th>\n",
       "    </tr>\n",
       "    <tr>\n",
       "      <th>Id</th>\n",
       "      <th></th>\n",
       "      <th></th>\n",
       "    </tr>\n",
       "  </thead>\n",
       "  <tbody>\n",
       "    <tr>\n",
       "      <th>34552656</th>\n",
       "      <td>java repeat task every random second pim alrea...</td>\n",
       "      <td>-0.03125</td>\n",
       "    </tr>\n",
       "    <tr>\n",
       "      <th>34553034</th>\n",
       "      <td>java optionals immutable pid like understand j...</td>\n",
       "      <td>0.00000</td>\n",
       "    </tr>\n",
       "    <tr>\n",
       "      <th>34553174</th>\n",
       "      <td>text overlay image darken opacity react native...</td>\n",
       "      <td>0.00000</td>\n",
       "    </tr>\n",
       "    <tr>\n",
       "      <th>34553318</th>\n",
       "      <td>ternary operator swift picky pthe question sim...</td>\n",
       "      <td>0.00000</td>\n",
       "    </tr>\n",
       "    <tr>\n",
       "      <th>34553755</th>\n",
       "      <td>hideshow fab scale animation pim use custom fl...</td>\n",
       "      <td>0.00000</td>\n",
       "    </tr>\n",
       "  </tbody>\n",
       "</table>\n",
       "</div>"
      ],
      "text/plain": [
       "                                                    Cleaned  Sentiment\n",
       "Id                                                                    \n",
       "34552656  java repeat task every random second pim alrea...   -0.03125\n",
       "34553034  java optionals immutable pid like understand j...    0.00000\n",
       "34553174  text overlay image darken opacity react native...    0.00000\n",
       "34553318  ternary operator swift picky pthe question sim...    0.00000\n",
       "34553755  hideshow fab scale animation pim use custom fl...    0.00000"
      ]
     },
     "execution_count": 70,
     "metadata": {},
     "output_type": "execute_result"
    }
   ],
   "source": [
    "df[['Cleaned','Sentiment']].head()"
   ]
  },
  {
   "cell_type": "code",
   "execution_count": 71,
   "id": "bffc0baf",
   "metadata": {
    "execution": {
     "iopub.execute_input": "2022-08-06T14:34:52.984461Z",
     "iopub.status.busy": "2022-08-06T14:34:52.983865Z",
     "iopub.status.idle": "2022-08-06T14:34:53.009863Z",
     "shell.execute_reply": "2022-08-06T14:34:53.008628Z"
    },
    "id": "D0TZn7TKt1r2",
    "outputId": "1814d9e0-3b79-45d3-ffba-55d76d81c784",
    "papermill": {
     "duration": 2.223108,
     "end_time": "2022-08-06T14:34:53.012818",
     "exception": false,
     "start_time": "2022-08-06T14:34:50.789710",
     "status": "completed"
    },
    "tags": []
   },
   "outputs": [
    {
     "name": "stdout",
     "output_type": "stream",
     "text": [
      "0.19564393939393937\n",
      "9210\n",
      "18420\n"
     ]
    }
   ],
   "source": [
    "# get median of positive sentiment\n",
    "med_positive = df[df['Sentiment'] > 0].Sentiment.median()\n",
    "print(med_positive)\n",
    "print(df[df['Sentiment'] >= med_positive].Sentiment.count())\n",
    "print(df[df['Sentiment'] > 0].Sentiment.count())"
   ]
  },
  {
   "cell_type": "code",
   "execution_count": 72,
   "id": "61324893",
   "metadata": {
    "execution": {
     "iopub.execute_input": "2022-08-06T14:34:57.720342Z",
     "iopub.status.busy": "2022-08-06T14:34:57.719983Z",
     "iopub.status.idle": "2022-08-06T14:34:57.735172Z",
     "shell.execute_reply": "2022-08-06T14:34:57.733575Z"
    },
    "id": "ea5TMQmmuuq8",
    "outputId": "6ceb1852-b8b6-4555-888c-3c174a26cff1",
    "papermill": {
     "duration": 2.56555,
     "end_time": "2022-08-06T14:34:57.737390",
     "exception": false,
     "start_time": "2022-08-06T14:34:55.171840",
     "status": "completed"
    },
    "tags": []
   },
   "outputs": [
    {
     "name": "stdout",
     "output_type": "stream",
     "text": [
      "-0.1875\n",
      "5031\n",
      "9969\n"
     ]
    }
   ],
   "source": [
    "# get median of negative sentiment\n",
    "med_negative = df[df['Sentiment'] < 0].Sentiment.median()\n",
    "print(med_negative)\n",
    "print(df[df['Sentiment'] <= med_negative].Sentiment.count())\n",
    "print(df[df['Sentiment'] < 0].Sentiment.count())"
   ]
  },
  {
   "cell_type": "code",
   "execution_count": 73,
   "id": "e5bd68d4",
   "metadata": {
    "execution": {
     "iopub.execute_input": "2022-08-06T14:35:01.866401Z",
     "iopub.status.busy": "2022-08-06T14:35:01.866041Z",
     "iopub.status.idle": "2022-08-06T14:35:01.871751Z",
     "shell.execute_reply": "2022-08-06T14:35:01.870810Z"
    },
    "id": "FUox_UcWqPut",
    "papermill": {
     "duration": 1.933501,
     "end_time": "2022-08-06T14:35:01.873995",
     "exception": false,
     "start_time": "2022-08-06T14:34:59.940494",
     "status": "completed"
    },
    "tags": []
   },
   "outputs": [],
   "source": [
    "def serverity_impact(sentiment):\n",
    "    if sentiment == 0:\n",
    "        return 3\n",
    "    elif sentiment <= med_negative:\n",
    "        return 5\n",
    "    elif sentiment < 0:\n",
    "        return 4\n",
    "    elif sentiment >= med_positive:\n",
    "        return 1\n",
    "    else:\n",
    "        return 2"
   ]
  },
  {
   "cell_type": "code",
   "execution_count": 74,
   "id": "b304e580",
   "metadata": {
    "execution": {
     "iopub.execute_input": "2022-08-06T14:35:06.324105Z",
     "iopub.status.busy": "2022-08-06T14:35:06.323414Z",
     "iopub.status.idle": "2022-08-06T14:35:06.361552Z",
     "shell.execute_reply": "2022-08-06T14:35:06.360563Z"
    },
    "id": "1aHk9tibyx3N",
    "papermill": {
     "duration": 2.202736,
     "end_time": "2022-08-06T14:35:06.364031",
     "exception": false,
     "start_time": "2022-08-06T14:35:04.161295",
     "status": "completed"
    },
    "tags": []
   },
   "outputs": [],
   "source": [
    "df['Severity'] = df['Sentiment'].apply(serverity_impact)"
   ]
  },
  {
   "cell_type": "code",
   "execution_count": 75,
   "id": "8a555f4e",
   "metadata": {
    "execution": {
     "iopub.execute_input": "2022-08-06T14:35:10.486671Z",
     "iopub.status.busy": "2022-08-06T14:35:10.486176Z",
     "iopub.status.idle": "2022-08-06T14:35:10.500030Z",
     "shell.execute_reply": "2022-08-06T14:35:10.498950Z"
    },
    "id": "_IPUq0__zMOC",
    "outputId": "369242b6-7819-4fa9-d0dd-8fd791c329fc",
    "papermill": {
     "duration": 2.154136,
     "end_time": "2022-08-06T14:35:10.502103",
     "exception": false,
     "start_time": "2022-08-06T14:35:08.347967",
     "status": "completed"
    },
    "tags": []
   },
   "outputs": [
    {
     "data": {
      "text/html": [
       "<div>\n",
       "<style scoped>\n",
       "    .dataframe tbody tr th:only-of-type {\n",
       "        vertical-align: middle;\n",
       "    }\n",
       "\n",
       "    .dataframe tbody tr th {\n",
       "        vertical-align: top;\n",
       "    }\n",
       "\n",
       "    .dataframe thead th {\n",
       "        text-align: right;\n",
       "    }\n",
       "</style>\n",
       "<table border=\"1\" class=\"dataframe\">\n",
       "  <thead>\n",
       "    <tr style=\"text-align: right;\">\n",
       "      <th></th>\n",
       "      <th>Cleaned</th>\n",
       "      <th>Severity</th>\n",
       "    </tr>\n",
       "    <tr>\n",
       "      <th>Id</th>\n",
       "      <th></th>\n",
       "      <th></th>\n",
       "    </tr>\n",
       "  </thead>\n",
       "  <tbody>\n",
       "    <tr>\n",
       "      <th>34552656</th>\n",
       "      <td>java repeat task every random second pim alrea...</td>\n",
       "      <td>4</td>\n",
       "    </tr>\n",
       "    <tr>\n",
       "      <th>34553034</th>\n",
       "      <td>java optionals immutable pid like understand j...</td>\n",
       "      <td>3</td>\n",
       "    </tr>\n",
       "    <tr>\n",
       "      <th>34553174</th>\n",
       "      <td>text overlay image darken opacity react native...</td>\n",
       "      <td>3</td>\n",
       "    </tr>\n",
       "    <tr>\n",
       "      <th>34553318</th>\n",
       "      <td>ternary operator swift picky pthe question sim...</td>\n",
       "      <td>3</td>\n",
       "    </tr>\n",
       "    <tr>\n",
       "      <th>34553755</th>\n",
       "      <td>hideshow fab scale animation pim use custom fl...</td>\n",
       "      <td>3</td>\n",
       "    </tr>\n",
       "  </tbody>\n",
       "</table>\n",
       "</div>"
      ],
      "text/plain": [
       "                                                    Cleaned  Severity\n",
       "Id                                                                   \n",
       "34552656  java repeat task every random second pim alrea...         4\n",
       "34553034  java optionals immutable pid like understand j...         3\n",
       "34553174  text overlay image darken opacity react native...         3\n",
       "34553318  ternary operator swift picky pthe question sim...         3\n",
       "34553755  hideshow fab scale animation pim use custom fl...         3"
      ]
     },
     "execution_count": 75,
     "metadata": {},
     "output_type": "execute_result"
    }
   ],
   "source": [
    "df[['Cleaned','Severity']].head()"
   ]
  },
  {
   "cell_type": "code",
   "execution_count": 76,
   "id": "a55157fb",
   "metadata": {
    "execution": {
     "iopub.execute_input": "2022-08-06T14:35:14.572851Z",
     "iopub.status.busy": "2022-08-06T14:35:14.572379Z",
     "iopub.status.idle": "2022-08-06T14:35:14.583493Z",
     "shell.execute_reply": "2022-08-06T14:35:14.582609Z"
    },
    "id": "sEgkyZc1H0AP",
    "outputId": "6b9e6750-2a0e-4ac5-93d9-943e28f52e30",
    "papermill": {
     "duration": 2.151921,
     "end_time": "2022-08-06T14:35:14.585820",
     "exception": false,
     "start_time": "2022-08-06T14:35:12.433899",
     "status": "completed"
    },
    "tags": []
   },
   "outputs": [
    {
     "data": {
      "text/plain": [
       "[3, 2, 1, 5, 4]"
      ]
     },
     "execution_count": 76,
     "metadata": {},
     "output_type": "execute_result"
    }
   ],
   "source": [
    "df['Severity'].value_counts().index.tolist()"
   ]
  },
  {
   "cell_type": "code",
   "execution_count": 77,
   "id": "2326ca04",
   "metadata": {
    "execution": {
     "iopub.execute_input": "2022-08-06T14:35:18.820862Z",
     "iopub.status.busy": "2022-08-06T14:35:18.820383Z",
     "iopub.status.idle": "2022-08-06T14:35:18.825553Z",
     "shell.execute_reply": "2022-08-06T14:35:18.824464Z"
    },
    "id": "Rx4Axy4jIB7k",
    "papermill": {
     "duration": 2.07046,
     "end_time": "2022-08-06T14:35:18.827807",
     "exception": false,
     "start_time": "2022-08-06T14:35:16.757347",
     "status": "completed"
    },
    "tags": []
   },
   "outputs": [],
   "source": [
    "mylabels = ['Medium Impact','Low Impact','Less Impact','Very High Impact','High Impact']"
   ]
  },
  {
   "cell_type": "code",
   "execution_count": 78,
   "id": "23d8f50c",
   "metadata": {
    "execution": {
     "iopub.execute_input": "2022-08-06T14:35:22.963661Z",
     "iopub.status.busy": "2022-08-06T14:35:22.963056Z",
     "iopub.status.idle": "2022-08-06T14:35:23.439028Z",
     "shell.execute_reply": "2022-08-06T14:35:23.437870Z"
    },
    "id": "q8xkpSCX8adW",
    "outputId": "986f9126-4082-4b94-eae3-59dd1af7934c",
    "papermill": {
     "duration": 2.566342,
     "end_time": "2022-08-06T14:35:23.442487",
     "exception": false,
     "start_time": "2022-08-06T14:35:20.876145",
     "status": "completed"
    },
    "tags": []
   },
   "outputs": [
    {
     "data": {
      "image/png": "[encoded data removed]",
      "text/plain": [
       "<Figure size 576x396 with 1 Axes>"
      ]
     },
     "metadata": {},
     "output_type": "display_data"
    }
   ],
   "source": [
    "y = np.array(df['Severity'].value_counts()[:].tolist())\n",
    "myexplode = [0, 0.05, 0.05, 0.05, 0.1]\n",
    "\n",
    "plt.pie(y, labels=mylabels, explode=myexplode, autopct='%1.2f%%')\n",
    "plt.savefig(f'EECSI_impact_chart.png', format='png', dpi=300)\n",
    "plt.show()"
   ]
  },
  {
   "cell_type": "code",
   "execution_count": 79,
   "id": "5fbcf89c",
   "metadata": {
    "execution": {
     "iopub.execute_input": "2022-08-06T14:35:27.713999Z",
     "iopub.status.busy": "2022-08-06T14:35:27.713520Z",
     "iopub.status.idle": "2022-08-06T14:35:27.731313Z",
     "shell.execute_reply": "2022-08-06T14:35:27.730093Z"
    },
    "id": "8g9OjIZT0eI1",
    "outputId": "e2059ae8-0e3d-49cc-86f4-02cb4188852b",
    "papermill": {
     "duration": 2.175623,
     "end_time": "2022-08-06T14:35:27.734012",
     "exception": false,
     "start_time": "2022-08-06T14:35:25.558389",
     "status": "completed"
    },
    "tags": []
   },
   "outputs": [
    {
     "data": {
      "text/html": [
       "<div>\n",
       "<style scoped>\n",
       "    .dataframe tbody tr th:only-of-type {\n",
       "        vertical-align: middle;\n",
       "    }\n",
       "\n",
       "    .dataframe tbody tr th {\n",
       "        vertical-align: top;\n",
       "    }\n",
       "\n",
       "    .dataframe thead th {\n",
       "        text-align: right;\n",
       "    }\n",
       "</style>\n",
       "<table border=\"1\" class=\"dataframe\">\n",
       "  <thead>\n",
       "    <tr style=\"text-align: right;\">\n",
       "      <th></th>\n",
       "      <th>Severity</th>\n",
       "      <th>Likelihood</th>\n",
       "      <th>Matrix</th>\n",
       "    </tr>\n",
       "  </thead>\n",
       "  <tbody>\n",
       "    <tr>\n",
       "      <th>0</th>\n",
       "      <td>1</td>\n",
       "      <td>1</td>\n",
       "      <td>375</td>\n",
       "    </tr>\n",
       "    <tr>\n",
       "      <th>1</th>\n",
       "      <td>1</td>\n",
       "      <td>2</td>\n",
       "      <td>1111</td>\n",
       "    </tr>\n",
       "    <tr>\n",
       "      <th>2</th>\n",
       "      <td>1</td>\n",
       "      <td>3</td>\n",
       "      <td>1852</td>\n",
       "    </tr>\n",
       "    <tr>\n",
       "      <th>3</th>\n",
       "      <td>1</td>\n",
       "      <td>4</td>\n",
       "      <td>2353</td>\n",
       "    </tr>\n",
       "    <tr>\n",
       "      <th>4</th>\n",
       "      <td>1</td>\n",
       "      <td>5</td>\n",
       "      <td>3519</td>\n",
       "    </tr>\n",
       "    <tr>\n",
       "      <th>5</th>\n",
       "      <td>2</td>\n",
       "      <td>1</td>\n",
       "      <td>362</td>\n",
       "    </tr>\n",
       "    <tr>\n",
       "      <th>6</th>\n",
       "      <td>2</td>\n",
       "      <td>2</td>\n",
       "      <td>1181</td>\n",
       "    </tr>\n",
       "    <tr>\n",
       "      <th>7</th>\n",
       "      <td>2</td>\n",
       "      <td>3</td>\n",
       "      <td>1874</td>\n",
       "    </tr>\n",
       "    <tr>\n",
       "      <th>8</th>\n",
       "      <td>2</td>\n",
       "      <td>4</td>\n",
       "      <td>2148</td>\n",
       "    </tr>\n",
       "    <tr>\n",
       "      <th>9</th>\n",
       "      <td>2</td>\n",
       "      <td>5</td>\n",
       "      <td>3645</td>\n",
       "    </tr>\n",
       "    <tr>\n",
       "      <th>10</th>\n",
       "      <td>3</td>\n",
       "      <td>1</td>\n",
       "      <td>3057</td>\n",
       "    </tr>\n",
       "    <tr>\n",
       "      <th>11</th>\n",
       "      <td>3</td>\n",
       "      <td>2</td>\n",
       "      <td>5543</td>\n",
       "    </tr>\n",
       "    <tr>\n",
       "      <th>12</th>\n",
       "      <td>3</td>\n",
       "      <td>3</td>\n",
       "      <td>6855</td>\n",
       "    </tr>\n",
       "    <tr>\n",
       "      <th>13</th>\n",
       "      <td>3</td>\n",
       "      <td>4</td>\n",
       "      <td>7518</td>\n",
       "    </tr>\n",
       "    <tr>\n",
       "      <th>14</th>\n",
       "      <td>3</td>\n",
       "      <td>5</td>\n",
       "      <td>8638</td>\n",
       "    </tr>\n",
       "    <tr>\n",
       "      <th>15</th>\n",
       "      <td>4</td>\n",
       "      <td>1</td>\n",
       "      <td>165</td>\n",
       "    </tr>\n",
       "    <tr>\n",
       "      <th>16</th>\n",
       "      <td>4</td>\n",
       "      <td>2</td>\n",
       "      <td>560</td>\n",
       "    </tr>\n",
       "    <tr>\n",
       "      <th>17</th>\n",
       "      <td>4</td>\n",
       "      <td>3</td>\n",
       "      <td>1032</td>\n",
       "    </tr>\n",
       "    <tr>\n",
       "      <th>18</th>\n",
       "      <td>4</td>\n",
       "      <td>4</td>\n",
       "      <td>1252</td>\n",
       "    </tr>\n",
       "    <tr>\n",
       "      <th>19</th>\n",
       "      <td>4</td>\n",
       "      <td>5</td>\n",
       "      <td>1929</td>\n",
       "    </tr>\n",
       "    <tr>\n",
       "      <th>20</th>\n",
       "      <td>5</td>\n",
       "      <td>1</td>\n",
       "      <td>312</td>\n",
       "    </tr>\n",
       "    <tr>\n",
       "      <th>21</th>\n",
       "      <td>5</td>\n",
       "      <td>2</td>\n",
       "      <td>695</td>\n",
       "    </tr>\n",
       "    <tr>\n",
       "      <th>22</th>\n",
       "      <td>5</td>\n",
       "      <td>3</td>\n",
       "      <td>1061</td>\n",
       "    </tr>\n",
       "    <tr>\n",
       "      <th>23</th>\n",
       "      <td>5</td>\n",
       "      <td>4</td>\n",
       "      <td>1191</td>\n",
       "    </tr>\n",
       "    <tr>\n",
       "      <th>24</th>\n",
       "      <td>5</td>\n",
       "      <td>5</td>\n",
       "      <td>1772</td>\n",
       "    </tr>\n",
       "  </tbody>\n",
       "</table>\n",
       "</div>"
      ],
      "text/plain": [
       "    Severity  Likelihood  Matrix\n",
       "0          1           1     375\n",
       "1          1           2    1111\n",
       "2          1           3    1852\n",
       "3          1           4    2353\n",
       "4          1           5    3519\n",
       "5          2           1     362\n",
       "6          2           2    1181\n",
       "7          2           3    1874\n",
       "8          2           4    2148\n",
       "9          2           5    3645\n",
       "10         3           1    3057\n",
       "11         3           2    5543\n",
       "12         3           3    6855\n",
       "13         3           4    7518\n",
       "14         3           5    8638\n",
       "15         4           1     165\n",
       "16         4           2     560\n",
       "17         4           3    1032\n",
       "18         4           4    1252\n",
       "19         4           5    1929\n",
       "20         5           1     312\n",
       "21         5           2     695\n",
       "22         5           3    1061\n",
       "23         5           4    1191\n",
       "24         5           5    1772"
      ]
     },
     "execution_count": 79,
     "metadata": {},
     "output_type": "execute_result"
    }
   ],
   "source": [
    "risk_matrix = df.groupby(['Severity', 'Likelihood']).size().reset_index(name='Matrix')\n",
    "risk_matrix"
   ]
  },
  {
   "cell_type": "code",
   "execution_count": 80,
   "id": "f6a0a2fa",
   "metadata": {
    "execution": {
     "iopub.execute_input": "2022-08-06T14:35:32.278275Z",
     "iopub.status.busy": "2022-08-06T14:35:32.277662Z",
     "iopub.status.idle": "2022-08-06T14:35:32.292221Z",
     "shell.execute_reply": "2022-08-06T14:35:32.291262Z"
    },
    "id": "6H9uOtlsKVyZ",
    "outputId": "8ee078be-8c9e-407b-fd00-886064b1cb2b",
    "papermill": {
     "duration": 1.95219,
     "end_time": "2022-08-06T14:35:32.294400",
     "exception": false,
     "start_time": "2022-08-06T14:35:30.342210",
     "status": "completed"
    },
    "tags": []
   },
   "outputs": [
    {
     "data": {
      "text/plain": [
       "375"
      ]
     },
     "execution_count": 80,
     "metadata": {},
     "output_type": "execute_result"
    }
   ],
   "source": [
    "risk_matrix.query('Severity == 1 & Likelihood == 1').Matrix.values[0]"
   ]
  },
  {
   "cell_type": "code",
   "execution_count": 81,
   "id": "7b3ff805",
   "metadata": {
    "execution": {
     "iopub.execute_input": "2022-08-06T14:35:36.316778Z",
     "iopub.status.busy": "2022-08-06T14:35:36.316145Z",
     "iopub.status.idle": "2022-08-06T14:35:40.810199Z",
     "shell.execute_reply": "2022-08-06T14:35:40.809301Z"
    },
    "id": "tnouTVVkvQNz",
    "outputId": "ac317d84-266f-4017-8d3a-8dff914272b8",
    "papermill": {
     "duration": 6.50191,
     "end_time": "2022-08-06T14:35:40.812362",
     "exception": false,
     "start_time": "2022-08-06T14:35:34.310452",
     "status": "completed"
    },
    "tags": []
   },
   "outputs": [
    {
     "data": {
      "image/png": "[encoded data removed]",
      "text/plain": [
       "<Figure size 576x396 with 26 Axes>"
      ]
     },
     "metadata": {},
     "output_type": "display_data"
    }
   ],
   "source": [
    "fig = plt.figure()\n",
    "plt.subplots_adjust(wspace=0, hspace=0)\n",
    "plt.xticks([])\n",
    "plt.yticks([])\n",
    "plt.xlim(0, 5)\n",
    "plt.ylim(0, 5)\n",
    "plt.xlabel('Severity of Impact')\n",
    "plt.ylabel('Likelihood of Occurring')\n",
    "plt.title('Risk Magnitude')\n",
    "\n",
    "# 5 * 5 matrix\n",
    "nrows = 5\n",
    "ncols = 5\n",
    "axes = [fig.add_subplot(nrows, ncols, r * ncols + c + 1) for r in range(0, nrows) for c in range(0, ncols) ]\n",
    "\n",
    "# remove the x and y ticks\n",
    "for ax in axes:\n",
    "    ax.set_xticks([])\n",
    "    ax.set_yticks([])\n",
    "    ax.set_xlim(0,5)\n",
    "    ax.set_ylim(0,5)\n",
    "\n",
    "# add background colors\n",
    "green = [10, 15, 16, 20 , 21] \n",
    "yellow = [0, 5, 6, 11, 17, 22, 23] \n",
    "orange = [1 , 2, 7, 12, 13, 18, 19, 24] \n",
    "red = [3, 4, 8, 9, 14]\n",
    "\n",
    "for _ in green:\n",
    "    axes[_].set_facecolor('green')\n",
    "\n",
    "for _ in yellow:\n",
    "    axes[_].set_facecolor('yellow')\n",
    "\n",
    "for _ in orange:\n",
    "    axes[_].set_facecolor('orange')\n",
    "\n",
    "for _ in red:\n",
    "    axes[_].set_facecolor('red')\n",
    "\n",
    "\n",
    "# add labels to the Green boxes\n",
    "axes[10].text(0.1,0.8, risk_matrix.query('Severity == 1 & Likelihood == 3').Matrix.values[0])\n",
    "axes[15].text(0.1,0.8, risk_matrix.query('Severity == 1 & Likelihood == 2').Matrix.values[0])\n",
    "axes[20].text(0.1,0.8, risk_matrix.query('Severity == 1 & Likelihood == 1').Matrix.values[0])\n",
    "axes[16].text(0.1,0.8, risk_matrix.query('Severity == 2 & Likelihood == 2').Matrix.values[0])\n",
    "axes[21].text(0.1,0.8, risk_matrix.query('Severity == 2 & Likelihood == 1').Matrix.values[0])\n",
    "\n",
    "\n",
    "# add labels to the Yellow boxes\n",
    "axes[0].text(0.1,0.8, risk_matrix.query('Severity == 1 & Likelihood == 5').Matrix.values[0])\n",
    "axes[5].text(0.1,0.8, risk_matrix.query('Severity == 1 & Likelihood == 4').Matrix.values[0])\n",
    "axes[6].text(0.1,0.8, risk_matrix.query('Severity == 2 & Likelihood == 4').Matrix.values[0])\n",
    "axes[11].text(0.1,0.8, risk_matrix.query('Severity == 2 & Likelihood == 3').Matrix.values[0])\n",
    "axes[17].text(0.1,0.8, risk_matrix.query('Severity == 3 & Likelihood == 2').Matrix.values[0])\n",
    "axes[22].text(0.1,0.8, risk_matrix.query('Severity == 3 & Likelihood == 1').Matrix.values[0])\n",
    "axes[23].text(0.1,0.8, risk_matrix.query('Severity == 4 & Likelihood == 1').Matrix.values[0])\n",
    "\n",
    "# add lables to the Orange boxes\n",
    "axes[1].text(0.1,0.8, risk_matrix.query('Severity == 2 & Likelihood == 5').Matrix.values[0])\n",
    "axes[2].text(0.1,0.8, risk_matrix.query('Severity == 3 & Likelihood == 5').Matrix.values[0])\n",
    "axes[7].text(0.1,0.8, risk_matrix.query('Severity == 3 & Likelihood == 4').Matrix.values[0])\n",
    "axes[12].text(0.1,0.8, risk_matrix.query('Severity == 3 & Likelihood == 3').Matrix.values[0])\n",
    "axes[13].text(0.1,0.8, risk_matrix.query('Severity == 4 & Likelihood == 3').Matrix.values[0])\n",
    "axes[18].text(0.1,0.8, risk_matrix.query('Severity == 4 & Likelihood == 2').Matrix.values[0])\n",
    "axes[19].text(0.1,0.8, risk_matrix.query('Severity == 5 & Likelihood == 2').Matrix.values[0])\n",
    "axes[24].text(0.1,0.8, risk_matrix.query('Severity == 5 & Likelihood == 1').Matrix.values[0])\n",
    "\n",
    "# add lables to the Red Boxes\n",
    "axes[3].text(0.1,0.8, risk_matrix.query('Severity == 4 & Likelihood == 5').Matrix.values[0])\n",
    "axes[8].text(0.1,0.8, risk_matrix.query('Severity == 4 & Likelihood == 4').Matrix.values[0])\n",
    "axes[4].text(0.1,0.8, risk_matrix.query('Severity == 5 & Likelihood == 5').Matrix.values[0])\n",
    "axes[9].text(0.1,0.8, risk_matrix.query('Severity == 5 & Likelihood == 4').Matrix.values[0])\n",
    "axes[14].text(0.1,0.8, risk_matrix.query('Severity == 5 & Likelihood == 3').Matrix.values[0])\n",
    "\n",
    "# plot some data\n",
    "for _ in range(len(axes)):\n",
    "    axes[_].plot(np.random.uniform(2,4,5), np.random.uniform(2,4,5), '.')\n",
    "        \n",
    "plt.savefig(f'EECSI_risk-matrix.png', format='png', dpi=300)\n",
    "plt.show()"
   ]
  },
  {
   "cell_type": "code",
   "execution_count": 82,
   "id": "5529a100",
   "metadata": {
    "execution": {
     "iopub.execute_input": "2022-08-06T14:35:44.918473Z",
     "iopub.status.busy": "2022-08-06T14:35:44.918107Z",
     "iopub.status.idle": "2022-08-06T14:35:44.922920Z",
     "shell.execute_reply": "2022-08-06T14:35:44.921929Z"
    },
    "id": "ghwT5DhUI7mN",
    "papermill": {
     "duration": 2.019853,
     "end_time": "2022-08-06T14:35:44.925277",
     "exception": false,
     "start_time": "2022-08-06T14:35:42.905424",
     "status": "completed"
    },
    "tags": []
   },
   "outputs": [],
   "source": [
    "PRIORITIES = ['Small', 'Medium', 'High', 'Extreme']"
   ]
  },
  {
   "cell_type": "code",
   "execution_count": 83,
   "id": "023eda16",
   "metadata": {
    "execution": {
     "iopub.execute_input": "2022-08-06T14:35:49.228021Z",
     "iopub.status.busy": "2022-08-06T14:35:49.227543Z",
     "iopub.status.idle": "2022-08-06T14:35:49.236117Z",
     "shell.execute_reply": "2022-08-06T14:35:49.235069Z"
    },
    "id": "RIo6weOK9ed2",
    "papermill": {
     "duration": 2.398758,
     "end_time": "2022-08-06T14:35:49.238146",
     "exception": false,
     "start_time": "2022-08-06T14:35:46.839388",
     "status": "completed"
    },
    "tags": []
   },
   "outputs": [],
   "source": [
    "def priority(serve, likeli):\n",
    "    if serve == 1 and likeli in [1, 2, 3]:\n",
    "        return PRIORITIES[0]\n",
    "    if serve == 2 and likeli in [1, 2]:\n",
    "        return PRIORITIES[0]\n",
    "    if serve == 1 and likeli in [4, 5]:\n",
    "        return PRIORITIES[1]\n",
    "    if serve == 2 and likeli in [3, 4]:\n",
    "        return PRIORITIES[1]\n",
    "    if serve == 3 and likeli in [1, 2]:\n",
    "        return PRIORITIES[1]\n",
    "    if serve == 4 and likeli == 1:\n",
    "        return PRIORITIES[1]\n",
    "    if serve == 2 and likeli == 5:\n",
    "        return PRIORITIES[2]\n",
    "    if serve == 3 and likeli in [3, 4, 5]:\n",
    "        return PRIORITIES[2]\n",
    "    if serve == 4 and likeli in [2, 3]:\n",
    "        return PRIORITIES[2]\n",
    "    if serve == 5 and likeli == 1:\n",
    "        return PRIORITIES[2]\n",
    "    else:\n",
    "        return PRIORITIES[3]"
   ]
  },
  {
   "cell_type": "code",
   "execution_count": 84,
   "id": "f5b3d6f6",
   "metadata": {
    "execution": {
     "iopub.execute_input": "2022-08-06T14:35:53.156450Z",
     "iopub.status.busy": "2022-08-06T14:35:53.155812Z",
     "iopub.status.idle": "2022-08-06T14:35:53.163765Z",
     "shell.execute_reply": "2022-08-06T14:35:53.162428Z"
    },
    "id": "m9X311XSDD7C",
    "outputId": "c059d84b-c8ca-48f0-8ace-d107eada1856",
    "papermill": {
     "duration": 2.028222,
     "end_time": "2022-08-06T14:35:53.167253",
     "exception": false,
     "start_time": "2022-08-06T14:35:51.139031",
     "status": "completed"
    },
    "tags": []
   },
   "outputs": [
    {
     "name": "stdout",
     "output_type": "stream",
     "text": [
      "Extreme\n"
     ]
    }
   ],
   "source": [
    "print(priority(5, 2))"
   ]
  },
  {
   "cell_type": "code",
   "execution_count": 85,
   "id": "cf1eedb5",
   "metadata": {
    "execution": {
     "iopub.execute_input": "2022-08-06T14:35:57.272751Z",
     "iopub.status.busy": "2022-08-06T14:35:57.272258Z",
     "iopub.status.idle": "2022-08-06T14:35:58.106090Z",
     "shell.execute_reply": "2022-08-06T14:35:58.104954Z"
    },
    "id": "xnxHZ2WPBonK",
    "papermill": {
     "duration": 2.916841,
     "end_time": "2022-08-06T14:35:58.108781",
     "exception": false,
     "start_time": "2022-08-06T14:35:55.191940",
     "status": "completed"
    },
    "tags": []
   },
   "outputs": [],
   "source": [
    "df['Priority'] = df.apply(lambda x: priority(x['Severity'],x['Likelihood']), axis=1)"
   ]
  },
  {
   "cell_type": "code",
   "execution_count": 86,
   "id": "34933c35",
   "metadata": {
    "execution": {
     "iopub.execute_input": "2022-08-06T14:36:02.735080Z",
     "iopub.status.busy": "2022-08-06T14:36:02.734061Z",
     "iopub.status.idle": "2022-08-06T14:36:02.757481Z",
     "shell.execute_reply": "2022-08-06T14:36:02.756460Z"
    },
    "id": "c6YE8hPU2NIc",
    "outputId": "19122e72-5a66-4e62-83d4-9ad776c0f425",
    "papermill": {
     "duration": 2.417097,
     "end_time": "2022-08-06T14:36:02.759660",
     "exception": false,
     "start_time": "2022-08-06T14:36:00.342563",
     "status": "completed"
    },
    "tags": []
   },
   "outputs": [
    {
     "data": {
      "text/html": [
       "<div>\n",
       "<style scoped>\n",
       "    .dataframe tbody tr th:only-of-type {\n",
       "        vertical-align: middle;\n",
       "    }\n",
       "\n",
       "    .dataframe tbody tr th {\n",
       "        vertical-align: top;\n",
       "    }\n",
       "\n",
       "    .dataframe thead th {\n",
       "        text-align: right;\n",
       "    }\n",
       "</style>\n",
       "<table border=\"1\" class=\"dataframe\">\n",
       "  <thead>\n",
       "    <tr style=\"text-align: right;\">\n",
       "      <th></th>\n",
       "      <th>Text</th>\n",
       "      <th>Cluster</th>\n",
       "      <th>Likelihood</th>\n",
       "      <th>Sentiment</th>\n",
       "      <th>Severity</th>\n",
       "      <th>Priority</th>\n",
       "    </tr>\n",
       "    <tr>\n",
       "      <th>Id</th>\n",
       "      <th></th>\n",
       "      <th></th>\n",
       "      <th></th>\n",
       "      <th></th>\n",
       "      <th></th>\n",
       "      <th></th>\n",
       "    </tr>\n",
       "  </thead>\n",
       "  <tbody>\n",
       "    <tr>\n",
       "      <th>34552656</th>\n",
       "      <td>Java: Repeat Task Every Random Seconds &lt;p&gt;I'm ...</td>\n",
       "      <td>3</td>\n",
       "      <td>3</td>\n",
       "      <td>-0.031250</td>\n",
       "      <td>4</td>\n",
       "      <td>High</td>\n",
       "    </tr>\n",
       "    <tr>\n",
       "      <th>34553034</th>\n",
       "      <td>Why are Java Optionals immutable? &lt;p&gt;I'd like ...</td>\n",
       "      <td>4</td>\n",
       "      <td>4</td>\n",
       "      <td>0.000000</td>\n",
       "      <td>3</td>\n",
       "      <td>High</td>\n",
       "    </tr>\n",
       "    <tr>\n",
       "      <th>34553174</th>\n",
       "      <td>Text Overlay Image with Darkened Opacity React...</td>\n",
       "      <td>1</td>\n",
       "      <td>5</td>\n",
       "      <td>0.000000</td>\n",
       "      <td>3</td>\n",
       "      <td>High</td>\n",
       "    </tr>\n",
       "    <tr>\n",
       "      <th>34553318</th>\n",
       "      <td>Why ternary operator in swift is so picky? &lt;p&gt;...</td>\n",
       "      <td>3</td>\n",
       "      <td>3</td>\n",
       "      <td>0.000000</td>\n",
       "      <td>3</td>\n",
       "      <td>High</td>\n",
       "    </tr>\n",
       "    <tr>\n",
       "      <th>34553755</th>\n",
       "      <td>hide/show fab with scale animation &lt;p&gt;I'm usin...</td>\n",
       "      <td>0</td>\n",
       "      <td>1</td>\n",
       "      <td>0.000000</td>\n",
       "      <td>3</td>\n",
       "      <td>Medium</td>\n",
       "    </tr>\n",
       "    <tr>\n",
       "      <th>34554026</th>\n",
       "      <td>Accessing pointer member of the structure usin...</td>\n",
       "      <td>4</td>\n",
       "      <td>4</td>\n",
       "      <td>0.000000</td>\n",
       "      <td>3</td>\n",
       "      <td>High</td>\n",
       "    </tr>\n",
       "    <tr>\n",
       "      <th>34554206</th>\n",
       "      <td>How To Disable 2nd Saturday 4th Saturday ,Sund...</td>\n",
       "      <td>1</td>\n",
       "      <td>5</td>\n",
       "      <td>0.000000</td>\n",
       "      <td>3</td>\n",
       "      <td>High</td>\n",
       "    </tr>\n",
       "    <tr>\n",
       "      <th>34554671</th>\n",
       "      <td>Resizing containers in bootstrap I am new to b...</td>\n",
       "      <td>1</td>\n",
       "      <td>5</td>\n",
       "      <td>0.178788</td>\n",
       "      <td>2</td>\n",
       "      <td>High</td>\n",
       "    </tr>\n",
       "    <tr>\n",
       "      <th>34554871</th>\n",
       "      <td>Changing Theme in Windows 10 UWP App Programma...</td>\n",
       "      <td>3</td>\n",
       "      <td>3</td>\n",
       "      <td>0.350000</td>\n",
       "      <td>1</td>\n",
       "      <td>Small</td>\n",
       "    </tr>\n",
       "    <tr>\n",
       "      <th>34554982</th>\n",
       "      <td>TextBox Value Disappears VB6 I my case I am ha...</td>\n",
       "      <td>1</td>\n",
       "      <td>5</td>\n",
       "      <td>0.000000</td>\n",
       "      <td>3</td>\n",
       "      <td>High</td>\n",
       "    </tr>\n",
       "  </tbody>\n",
       "</table>\n",
       "</div>"
      ],
      "text/plain": [
       "                                                       Text  Cluster  \\\n",
       "Id                                                                     \n",
       "34552656  Java: Repeat Task Every Random Seconds <p>I'm ...        3   \n",
       "34553034  Why are Java Optionals immutable? <p>I'd like ...        4   \n",
       "34553174  Text Overlay Image with Darkened Opacity React...        1   \n",
       "34553318  Why ternary operator in swift is so picky? <p>...        3   \n",
       "34553755  hide/show fab with scale animation <p>I'm usin...        0   \n",
       "34554026  Accessing pointer member of the structure usin...        4   \n",
       "34554206  How To Disable 2nd Saturday 4th Saturday ,Sund...        1   \n",
       "34554671  Resizing containers in bootstrap I am new to b...        1   \n",
       "34554871  Changing Theme in Windows 10 UWP App Programma...        3   \n",
       "34554982  TextBox Value Disappears VB6 I my case I am ha...        1   \n",
       "\n",
       "          Likelihood  Sentiment  Severity Priority  \n",
       "Id                                                  \n",
       "34552656           3  -0.031250         4     High  \n",
       "34553034           4   0.000000         3     High  \n",
       "34553174           5   0.000000         3     High  \n",
       "34553318           3   0.000000         3     High  \n",
       "34553755           1   0.000000         3   Medium  \n",
       "34554026           4   0.000000         3     High  \n",
       "34554206           5   0.000000         3     High  \n",
       "34554671           5   0.178788         2     High  \n",
       "34554871           3   0.350000         1    Small  \n",
       "34554982           5   0.000000         3     High  "
      ]
     },
     "execution_count": 86,
     "metadata": {},
     "output_type": "execute_result"
    }
   ],
   "source": [
    "df[['Text','Cluster','Likelihood','Sentiment','Severity','Priority']].head(10)"
   ]
  },
  {
   "cell_type": "code",
   "execution_count": 87,
   "id": "8be2208a",
   "metadata": {
    "execution": {
     "iopub.execute_input": "2022-08-06T14:36:06.851487Z",
     "iopub.status.busy": "2022-08-06T14:36:06.850978Z",
     "iopub.status.idle": "2022-08-06T14:36:07.027507Z",
     "shell.execute_reply": "2022-08-06T14:36:07.026404Z"
    },
    "id": "g-FIayHKLg3a",
    "papermill": {
     "duration": 2.097919,
     "end_time": "2022-08-06T14:36:07.030259",
     "exception": false,
     "start_time": "2022-08-06T14:36:04.932340",
     "status": "completed"
    },
    "tags": []
   },
   "outputs": [],
   "source": [
    "pickle.dump(df, open(f'EECSI_df.pickle', 'wb'))"
   ]
  },
  {
   "cell_type": "code",
   "execution_count": 88,
   "id": "9a046ec0",
   "metadata": {
    "execution": {
     "iopub.execute_input": "2022-08-06T14:36:11.365739Z",
     "iopub.status.busy": "2022-08-06T14:36:11.365227Z",
     "iopub.status.idle": "2022-08-06T14:36:11.370121Z",
     "shell.execute_reply": "2022-08-06T14:36:11.369053Z"
    },
    "id": "nRUZtI5RwLK-",
    "papermill": {
     "duration": 2.332999,
     "end_time": "2022-08-06T14:36:11.372454",
     "exception": false,
     "start_time": "2022-08-06T14:36:09.039455",
     "status": "completed"
    },
    "tags": []
   },
   "outputs": [],
   "source": [
    "# load object to continue after end session\n",
    "#PK = open(f'EECSI_df.pickle','rb')\n",
    "#df = pickle.load(PK)\n",
    "#PK.close()"
   ]
  },
  {
   "cell_type": "code",
   "execution_count": 89,
   "id": "1630b5b6",
   "metadata": {
    "execution": {
     "iopub.execute_input": "2022-08-06T14:36:15.342632Z",
     "iopub.status.busy": "2022-08-06T14:36:15.342025Z",
     "iopub.status.idle": "2022-08-06T14:36:15.364910Z",
     "shell.execute_reply": "2022-08-06T14:36:15.363773Z"
    },
    "id": "8A1z-JVSwT43",
    "outputId": "44980fb2-8905-4951-b9a9-ff60ac530c24",
    "papermill": {
     "duration": 2.111702,
     "end_time": "2022-08-06T14:36:15.366929",
     "exception": false,
     "start_time": "2022-08-06T14:36:13.255227",
     "status": "completed"
    },
    "tags": []
   },
   "outputs": [
    {
     "data": {
      "text/html": [
       "<div>\n",
       "<style scoped>\n",
       "    .dataframe tbody tr th:only-of-type {\n",
       "        vertical-align: middle;\n",
       "    }\n",
       "\n",
       "    .dataframe tbody tr th {\n",
       "        vertical-align: top;\n",
       "    }\n",
       "\n",
       "    .dataframe thead th {\n",
       "        text-align: right;\n",
       "    }\n",
       "</style>\n",
       "<table border=\"1\" class=\"dataframe\">\n",
       "  <thead>\n",
       "    <tr style=\"text-align: right;\">\n",
       "      <th></th>\n",
       "      <th>Y</th>\n",
       "      <th>Text</th>\n",
       "      <th>Words</th>\n",
       "      <th>Cleaned</th>\n",
       "      <th>Cluster</th>\n",
       "      <th>Likelihood</th>\n",
       "      <th>Sentiment</th>\n",
       "      <th>Severity</th>\n",
       "      <th>Priority</th>\n",
       "    </tr>\n",
       "    <tr>\n",
       "      <th>Id</th>\n",
       "      <th></th>\n",
       "      <th></th>\n",
       "      <th></th>\n",
       "      <th></th>\n",
       "      <th></th>\n",
       "      <th></th>\n",
       "      <th></th>\n",
       "      <th></th>\n",
       "      <th></th>\n",
       "    </tr>\n",
       "  </thead>\n",
       "  <tbody>\n",
       "    <tr>\n",
       "      <th>34552656</th>\n",
       "      <td>LQ_CLOSE</td>\n",
       "      <td>Java: Repeat Task Every Random Seconds &lt;p&gt;I'm ...</td>\n",
       "      <td>60</td>\n",
       "      <td>java repeat task every random second pim alrea...</td>\n",
       "      <td>3</td>\n",
       "      <td>3</td>\n",
       "      <td>-0.031250</td>\n",
       "      <td>4</td>\n",
       "      <td>High</td>\n",
       "    </tr>\n",
       "    <tr>\n",
       "      <th>34553034</th>\n",
       "      <td>HQ</td>\n",
       "      <td>Why are Java Optionals immutable? &lt;p&gt;I'd like ...</td>\n",
       "      <td>23</td>\n",
       "      <td>java optionals immutable pid like understand j...</td>\n",
       "      <td>4</td>\n",
       "      <td>4</td>\n",
       "      <td>0.000000</td>\n",
       "      <td>3</td>\n",
       "      <td>High</td>\n",
       "    </tr>\n",
       "    <tr>\n",
       "      <th>34553174</th>\n",
       "      <td>HQ</td>\n",
       "      <td>Text Overlay Image with Darkened Opacity React...</td>\n",
       "      <td>408</td>\n",
       "      <td>text overlay image darken opacity react native...</td>\n",
       "      <td>1</td>\n",
       "      <td>5</td>\n",
       "      <td>0.000000</td>\n",
       "      <td>3</td>\n",
       "      <td>High</td>\n",
       "    </tr>\n",
       "    <tr>\n",
       "      <th>34553318</th>\n",
       "      <td>HQ</td>\n",
       "      <td>Why ternary operator in swift is so picky? &lt;p&gt;...</td>\n",
       "      <td>116</td>\n",
       "      <td>ternary operator swift picky pthe question sim...</td>\n",
       "      <td>3</td>\n",
       "      <td>3</td>\n",
       "      <td>0.000000</td>\n",
       "      <td>3</td>\n",
       "      <td>High</td>\n",
       "    </tr>\n",
       "    <tr>\n",
       "      <th>34553755</th>\n",
       "      <td>HQ</td>\n",
       "      <td>hide/show fab with scale animation &lt;p&gt;I'm usin...</td>\n",
       "      <td>35</td>\n",
       "      <td>hideshow fab scale animation pim use custom fl...</td>\n",
       "      <td>0</td>\n",
       "      <td>1</td>\n",
       "      <td>0.000000</td>\n",
       "      <td>3</td>\n",
       "      <td>Medium</td>\n",
       "    </tr>\n",
       "    <tr>\n",
       "      <th>...</th>\n",
       "      <td>...</td>\n",
       "      <td>...</td>\n",
       "      <td>...</td>\n",
       "      <td>...</td>\n",
       "      <td>...</td>\n",
       "      <td>...</td>\n",
       "      <td>...</td>\n",
       "      <td>...</td>\n",
       "      <td>...</td>\n",
       "    </tr>\n",
       "    <tr>\n",
       "      <th>60465681</th>\n",
       "      <td>LQ_CLOSE</td>\n",
       "      <td>How can I align two flex boxes to follow each ...</td>\n",
       "      <td>87</td>\n",
       "      <td>align two flex box follow pi menu id like divr...</td>\n",
       "      <td>2</td>\n",
       "      <td>2</td>\n",
       "      <td>0.000000</td>\n",
       "      <td>3</td>\n",
       "      <td>Medium</td>\n",
       "    </tr>\n",
       "    <tr>\n",
       "      <th>60467932</th>\n",
       "      <td>LQ_CLOSE</td>\n",
       "      <td>C++ The correct way to multiply an integer and...</td>\n",
       "      <td>145</td>\n",
       "      <td>c correct way multiply integer double pi try m...</td>\n",
       "      <td>4</td>\n",
       "      <td>4</td>\n",
       "      <td>-0.100000</td>\n",
       "      <td>4</td>\n",
       "      <td>Extreme</td>\n",
       "    </tr>\n",
       "    <tr>\n",
       "      <th>60468378</th>\n",
       "      <td>LQ_EDIT</td>\n",
       "      <td>WHY DJANGO IS SHOWING ME THIS ERROR WHEN I TRY...</td>\n",
       "      <td>142</td>\n",
       "      <td>django show error try open new page hyperlink ...</td>\n",
       "      <td>2</td>\n",
       "      <td>2</td>\n",
       "      <td>0.068182</td>\n",
       "      <td>2</td>\n",
       "      <td>Small</td>\n",
       "    </tr>\n",
       "    <tr>\n",
       "      <th>60469392</th>\n",
       "      <td>LQ_CLOSE</td>\n",
       "      <td>PHP - getting the content of php page &lt;p&gt;I hav...</td>\n",
       "      <td>109</td>\n",
       "      <td>php get content php page pi controller inside ...</td>\n",
       "      <td>2</td>\n",
       "      <td>2</td>\n",
       "      <td>0.000000</td>\n",
       "      <td>3</td>\n",
       "      <td>Medium</td>\n",
       "    </tr>\n",
       "    <tr>\n",
       "      <th>60470323</th>\n",
       "      <td>LQ_CLOSE</td>\n",
       "      <td>Why can't overloaded functions vary only by re...</td>\n",
       "      <td>143</td>\n",
       "      <td>cant overload function vary return type pso re...</td>\n",
       "      <td>1</td>\n",
       "      <td>5</td>\n",
       "      <td>0.000000</td>\n",
       "      <td>3</td>\n",
       "      <td>High</td>\n",
       "    </tr>\n",
       "  </tbody>\n",
       "</table>\n",
       "<p>60000 rows × 9 columns</p>\n",
       "</div>"
      ],
      "text/plain": [
       "                 Y                                               Text  Words  \\\n",
       "Id                                                                             \n",
       "34552656  LQ_CLOSE  Java: Repeat Task Every Random Seconds <p>I'm ...     60   \n",
       "34553034        HQ  Why are Java Optionals immutable? <p>I'd like ...     23   \n",
       "34553174        HQ  Text Overlay Image with Darkened Opacity React...    408   \n",
       "34553318        HQ  Why ternary operator in swift is so picky? <p>...    116   \n",
       "34553755        HQ  hide/show fab with scale animation <p>I'm usin...     35   \n",
       "...            ...                                                ...    ...   \n",
       "60465681  LQ_CLOSE  How can I align two flex boxes to follow each ...     87   \n",
       "60467932  LQ_CLOSE  C++ The correct way to multiply an integer and...    145   \n",
       "60468378   LQ_EDIT  WHY DJANGO IS SHOWING ME THIS ERROR WHEN I TRY...    142   \n",
       "60469392  LQ_CLOSE  PHP - getting the content of php page <p>I hav...    109   \n",
       "60470323  LQ_CLOSE  Why can't overloaded functions vary only by re...    143   \n",
       "\n",
       "                                                    Cleaned  Cluster  \\\n",
       "Id                                                                     \n",
       "34552656  java repeat task every random second pim alrea...        3   \n",
       "34553034  java optionals immutable pid like understand j...        4   \n",
       "34553174  text overlay image darken opacity react native...        1   \n",
       "34553318  ternary operator swift picky pthe question sim...        3   \n",
       "34553755  hideshow fab scale animation pim use custom fl...        0   \n",
       "...                                                     ...      ...   \n",
       "60465681  align two flex box follow pi menu id like divr...        2   \n",
       "60467932  c correct way multiply integer double pi try m...        4   \n",
       "60468378  django show error try open new page hyperlink ...        2   \n",
       "60469392  php get content php page pi controller inside ...        2   \n",
       "60470323  cant overload function vary return type pso re...        1   \n",
       "\n",
       "          Likelihood  Sentiment  Severity Priority  \n",
       "Id                                                  \n",
       "34552656           3  -0.031250         4     High  \n",
       "34553034           4   0.000000         3     High  \n",
       "34553174           5   0.000000         3     High  \n",
       "34553318           3   0.000000         3     High  \n",
       "34553755           1   0.000000         3   Medium  \n",
       "...              ...        ...       ...      ...  \n",
       "60465681           2   0.000000         3   Medium  \n",
       "60467932           4  -0.100000         4  Extreme  \n",
       "60468378           2   0.068182         2    Small  \n",
       "60469392           2   0.000000         3   Medium  \n",
       "60470323           5   0.000000         3     High  \n",
       "\n",
       "[60000 rows x 9 columns]"
      ]
     },
     "execution_count": 89,
     "metadata": {},
     "output_type": "execute_result"
    }
   ],
   "source": [
    "df"
   ]
  },
  {
   "cell_type": "code",
   "execution_count": 90,
   "id": "8804a913",
   "metadata": {
    "execution": {
     "iopub.execute_input": "2022-08-06T14:36:19.322202Z",
     "iopub.status.busy": "2022-08-06T14:36:19.321755Z",
     "iopub.status.idle": "2022-08-06T14:36:19.333554Z",
     "shell.execute_reply": "2022-08-06T14:36:19.332253Z"
    },
    "id": "qhG9JgJlJ4vB",
    "outputId": "e5be620e-596c-4a76-ed48-c442f31082dc",
    "papermill": {
     "duration": 2.015959,
     "end_time": "2022-08-06T14:36:19.336403",
     "exception": false,
     "start_time": "2022-08-06T14:36:17.320444",
     "status": "completed"
    },
    "tags": []
   },
   "outputs": [
    {
     "name": "stdout",
     "output_type": "stream",
     "text": [
      "Index(['High', 'Medium', 'Extreme', 'Small'], dtype='object')\n"
     ]
    }
   ],
   "source": [
    "my_colors = ['#FFA500','#FFFF00','#FF0000','#00FF00']\n",
    "print(df['Priority'].value_counts().index)"
   ]
  },
  {
   "cell_type": "code",
   "execution_count": 91,
   "id": "cc5b248f",
   "metadata": {
    "execution": {
     "iopub.execute_input": "2022-08-06T14:36:23.692888Z",
     "iopub.status.busy": "2022-08-06T14:36:23.692419Z",
     "iopub.status.idle": "2022-08-06T14:36:24.543581Z",
     "shell.execute_reply": "2022-08-06T14:36:24.542408Z"
    },
    "id": "pPQNIS99Jtbd",
    "outputId": "182a8118-ec5f-4323-8d8d-feefd214fd17",
    "papermill": {
     "duration": 2.959903,
     "end_time": "2022-08-06T14:36:24.546580",
     "exception": false,
     "start_time": "2022-08-06T14:36:21.586677",
     "status": "completed"
    },
    "tags": []
   },
   "outputs": [
    {
     "data": {
      "image/png": "[encoded data removed]",
      "text/plain": [
       "<Figure size 864x360 with 2 Axes>"
      ]
     },
     "metadata": {},
     "output_type": "display_data"
    }
   ],
   "source": [
    "fig, (ax1, ax2)  = plt.subplots(nrows=1, ncols=2, figsize=(12,5))\n",
    "explode = [0.05, 0.05, 0.05, 0.1]\n",
    "sizes = df['Priority'].value_counts()[:]\n",
    "sns.set_palette(my_colors)\n",
    "\n",
    "ax2.pie(sizes, explode=explode, labels=PRIORITIES, startangle=60, autopct='%1.2f%%', pctdistance=0.8)\n",
    "ax2.add_artist(plt.Circle((0,0),0.4,fc='white'))\n",
    "sns.countplot(y='Priority', data=df, ax=ax1, order=df['Priority'].value_counts().index)\n",
    "ax1.grid(False)\n",
    "ax1.set_title(\"Count\")\n",
    "ax2.set_title(\"Percentage\")\n",
    "plt.savefig(f'EECSI_priority_chart.png', format='png', dpi=300)\n",
    "plt.show()"
   ]
  },
  {
   "cell_type": "markdown",
   "id": "a416e3cb",
   "metadata": {
    "id": "E685ZMNDbVT9",
    "papermill": {
     "duration": 1.901251,
     "end_time": "2022-08-06T14:36:28.451083",
     "exception": false,
     "start_time": "2022-08-06T14:36:26.549832",
     "status": "completed"
    },
    "tags": []
   },
   "source": [
    "# Compare to other research"
   ]
  },
  {
   "cell_type": "code",
   "execution_count": 92,
   "id": "08d3888a",
   "metadata": {
    "execution": {
     "iopub.execute_input": "2022-08-06T14:36:32.748356Z",
     "iopub.status.busy": "2022-08-06T14:36:32.747990Z",
     "iopub.status.idle": "2022-08-06T14:36:32.753670Z",
     "shell.execute_reply": "2022-08-06T14:36:32.752659Z"
    },
    "id": "Kf7uLP5YkW00",
    "papermill": {
     "duration": 2.201755,
     "end_time": "2022-08-06T14:36:32.755804",
     "exception": false,
     "start_time": "2022-08-06T14:36:30.554049",
     "status": "completed"
    },
    "tags": []
   },
   "outputs": [],
   "source": [
    "# prediction issue from (Hammad, 2018)\n",
    "# DOI:10.1109/FIT.2018.00035\n",
    "risks = [\n",
    "    ['exception handling', 'High'],\n",
    "    ['hardware failure risk', 'Medium'],\n",
    "    ['code consistency between development team', 'Small'],\n",
    "    ['Lack of team expertise', 'Medium'],\n",
    "    ['database security', 'Medium'],\n",
    "    ['storage media exposure', 'Medium'],\n",
    "    ['developer unavailability', 'Small'],\n",
    "    ['unauthorized login', 'Small'] \n",
    "    ]"
   ]
  },
  {
   "cell_type": "code",
   "execution_count": 93,
   "id": "69678385",
   "metadata": {
    "execution": {
     "iopub.execute_input": "2022-08-06T14:36:37.401361Z",
     "iopub.status.busy": "2022-08-06T14:36:37.401000Z",
     "iopub.status.idle": "2022-08-06T14:36:37.412885Z",
     "shell.execute_reply": "2022-08-06T14:36:37.411863Z"
    },
    "id": "Ublgs5TemXip",
    "outputId": "ee08d8f0-328c-4821-92a0-4434ca0fdb34",
    "papermill": {
     "duration": 2.129609,
     "end_time": "2022-08-06T14:36:37.415164",
     "exception": false,
     "start_time": "2022-08-06T14:36:35.285555",
     "status": "completed"
    },
    "tags": []
   },
   "outputs": [
    {
     "data": {
      "text/html": [
       "<div>\n",
       "<style scoped>\n",
       "    .dataframe tbody tr th:only-of-type {\n",
       "        vertical-align: middle;\n",
       "    }\n",
       "\n",
       "    .dataframe tbody tr th {\n",
       "        vertical-align: top;\n",
       "    }\n",
       "\n",
       "    .dataframe thead th {\n",
       "        text-align: right;\n",
       "    }\n",
       "</style>\n",
       "<table border=\"1\" class=\"dataframe\">\n",
       "  <thead>\n",
       "    <tr style=\"text-align: right;\">\n",
       "      <th></th>\n",
       "      <th>risk</th>\n",
       "      <th>priority</th>\n",
       "    </tr>\n",
       "  </thead>\n",
       "  <tbody>\n",
       "    <tr>\n",
       "      <th>0</th>\n",
       "      <td>exception handling</td>\n",
       "      <td>High</td>\n",
       "    </tr>\n",
       "    <tr>\n",
       "      <th>1</th>\n",
       "      <td>hardware failure risk</td>\n",
       "      <td>Medium</td>\n",
       "    </tr>\n",
       "    <tr>\n",
       "      <th>2</th>\n",
       "      <td>code consistency between development team</td>\n",
       "      <td>Small</td>\n",
       "    </tr>\n",
       "    <tr>\n",
       "      <th>3</th>\n",
       "      <td>Lack of team expertise</td>\n",
       "      <td>Medium</td>\n",
       "    </tr>\n",
       "    <tr>\n",
       "      <th>4</th>\n",
       "      <td>database security</td>\n",
       "      <td>Medium</td>\n",
       "    </tr>\n",
       "    <tr>\n",
       "      <th>5</th>\n",
       "      <td>storage media exposure</td>\n",
       "      <td>Medium</td>\n",
       "    </tr>\n",
       "    <tr>\n",
       "      <th>6</th>\n",
       "      <td>developer unavailability</td>\n",
       "      <td>Small</td>\n",
       "    </tr>\n",
       "    <tr>\n",
       "      <th>7</th>\n",
       "      <td>unauthorized login</td>\n",
       "      <td>Small</td>\n",
       "    </tr>\n",
       "  </tbody>\n",
       "</table>\n",
       "</div>"
      ],
      "text/plain": [
       "                                        risk priority\n",
       "0                         exception handling     High\n",
       "1                      hardware failure risk   Medium\n",
       "2  code consistency between development team    Small\n",
       "3                     Lack of team expertise   Medium\n",
       "4                          database security   Medium\n",
       "5                     storage media exposure   Medium\n",
       "6                   developer unavailability    Small\n",
       "7                         unauthorized login    Small"
      ]
     },
     "execution_count": 93,
     "metadata": {},
     "output_type": "execute_result"
    }
   ],
   "source": [
    "df_risk = pd.DataFrame(risks, columns=['risk', 'priority'])\n",
    "df_risk"
   ]
  },
  {
   "cell_type": "code",
   "execution_count": 94,
   "id": "fe297b91",
   "metadata": {
    "execution": {
     "iopub.execute_input": "2022-08-06T14:36:41.464713Z",
     "iopub.status.busy": "2022-08-06T14:36:41.464104Z",
     "iopub.status.idle": "2022-08-06T14:36:41.473738Z",
     "shell.execute_reply": "2022-08-06T14:36:41.472656Z"
    },
    "id": "uyzovnfTa8Iy",
    "papermill": {
     "duration": 2.150514,
     "end_time": "2022-08-06T14:36:41.476073",
     "exception": false,
     "start_time": "2022-08-06T14:36:39.325559",
     "status": "completed"
    },
    "tags": []
   },
   "outputs": [],
   "source": [
    "import warnings\n",
    "warnings.simplefilter(action='ignore', category=FutureWarning)\n",
    "\n",
    "class RiskMatrix:\n",
    "    def __init__(self, sentence):\n",
    "        self.sentence = sentence\n",
    "        self.cleaned = cleaned(self.sentence)\n",
    "        #tokenize\n",
    "        encd = tokenizer(\n",
    "            text=[self.cleaned],\n",
    "            add_special_tokens=True,\n",
    "            return_attention_mask=True,\n",
    "            max_length=MAX_LEN,\n",
    "            truncation=True,\n",
    "            pad_to_max_length=True,\n",
    "            return_tensors='tf',\n",
    "            verbose=True\n",
    "        )\n",
    "        # predict likelihood\n",
    "        token = encd['input_ids']\n",
    "        self.cluster = int(kmeans_model.predict(token))  \n",
    "        self.likelihood = likelihood(self.cluster, 5) # with 5 scale\n",
    "        # predict severity\n",
    "        sentiment = TextBlob(self.cleaned).sentiment.polarity\n",
    "        self.severity = serverity_impact(sentiment)\n",
    "    # risk prediction\n",
    "    def prediction():\n",
    "        return RiskMatrix()"
   ]
  },
  {
   "cell_type": "code",
   "execution_count": 95,
   "id": "cd2779dc",
   "metadata": {
    "execution": {
     "iopub.execute_input": "2022-08-06T14:36:45.602188Z",
     "iopub.status.busy": "2022-08-06T14:36:45.600576Z",
     "iopub.status.idle": "2022-08-06T14:36:45.607970Z",
     "shell.execute_reply": "2022-08-06T14:36:45.606931Z"
    },
    "id": "yj7p9Rb1ho3q",
    "papermill": {
     "duration": 1.993544,
     "end_time": "2022-08-06T14:36:45.610218",
     "exception": false,
     "start_time": "2022-08-06T14:36:43.616674",
     "status": "completed"
    },
    "tags": []
   },
   "outputs": [],
   "source": [
    "def get_cluster(sentence):\n",
    "    rm = RiskMatrix(sentence)\n",
    "    return rm.cluster"
   ]
  },
  {
   "cell_type": "code",
   "execution_count": 96,
   "id": "76648140",
   "metadata": {
    "execution": {
     "iopub.execute_input": "2022-08-06T14:36:49.778385Z",
     "iopub.status.busy": "2022-08-06T14:36:49.778019Z",
     "iopub.status.idle": "2022-08-06T14:36:49.783491Z",
     "shell.execute_reply": "2022-08-06T14:36:49.782435Z"
    },
    "id": "F6sk4wwiYT8X",
    "papermill": {
     "duration": 2.165237,
     "end_time": "2022-08-06T14:36:49.785485",
     "exception": false,
     "start_time": "2022-08-06T14:36:47.620248",
     "status": "completed"
    },
    "tags": []
   },
   "outputs": [],
   "source": [
    "def get_severity(sentence):\n",
    "    rm = RiskMatrix(sentence)\n",
    "    return rm.severity\n",
    "\n",
    "def get_likelihood(sentence):\n",
    "    rm = RiskMatrix(sentence)\n",
    "    return rm.likelihood\n",
    "  "
   ]
  },
  {
   "cell_type": "code",
   "execution_count": 97,
   "id": "18d80664",
   "metadata": {
    "execution": {
     "iopub.execute_input": "2022-08-06T14:36:53.738377Z",
     "iopub.status.busy": "2022-08-06T14:36:53.737839Z",
     "iopub.status.idle": "2022-08-06T14:36:53.742958Z",
     "shell.execute_reply": "2022-08-06T14:36:53.741997Z"
    },
    "id": "Pn7j748JgBf1",
    "papermill": {
     "duration": 1.942135,
     "end_time": "2022-08-06T14:36:53.745281",
     "exception": false,
     "start_time": "2022-08-06T14:36:51.803146",
     "status": "completed"
    },
    "tags": []
   },
   "outputs": [],
   "source": [
    "def get_priority(sentence):\n",
    "    rm = RiskMatrix(sentence)\n",
    "    return priority(rm.severity, rm.likelihood)"
   ]
  },
  {
   "cell_type": "code",
   "execution_count": 98,
   "id": "b43a2ea3",
   "metadata": {
    "execution": {
     "iopub.execute_input": "2022-08-06T14:36:58.038036Z",
     "iopub.status.busy": "2022-08-06T14:36:58.037669Z",
     "iopub.status.idle": "2022-08-06T14:36:58.478923Z",
     "shell.execute_reply": "2022-08-06T14:36:58.477698Z"
    },
    "id": "dJxMu9SKXpgP",
    "outputId": "6f6c232e-820a-4ac3-fa13-0ed00bcb3d85",
    "papermill": {
     "duration": 2.371026,
     "end_time": "2022-08-06T14:36:58.481648",
     "exception": false,
     "start_time": "2022-08-06T14:36:56.110622",
     "status": "completed"
    },
    "tags": []
   },
   "outputs": [
    {
     "data": {
      "text/html": [
       "<div>\n",
       "<style scoped>\n",
       "    .dataframe tbody tr th:only-of-type {\n",
       "        vertical-align: middle;\n",
       "    }\n",
       "\n",
       "    .dataframe tbody tr th {\n",
       "        vertical-align: top;\n",
       "    }\n",
       "\n",
       "    .dataframe thead th {\n",
       "        text-align: right;\n",
       "    }\n",
       "</style>\n",
       "<table border=\"1\" class=\"dataframe\">\n",
       "  <thead>\n",
       "    <tr style=\"text-align: right;\">\n",
       "      <th></th>\n",
       "      <th>risk</th>\n",
       "      <th>priority</th>\n",
       "      <th>cluster</th>\n",
       "      <th>severity</th>\n",
       "      <th>likelihood</th>\n",
       "      <th>prediction</th>\n",
       "    </tr>\n",
       "  </thead>\n",
       "  <tbody>\n",
       "    <tr>\n",
       "      <th>0</th>\n",
       "      <td>exception handling</td>\n",
       "      <td>High</td>\n",
       "      <td>1</td>\n",
       "      <td>3</td>\n",
       "      <td>5</td>\n",
       "      <td>High</td>\n",
       "    </tr>\n",
       "    <tr>\n",
       "      <th>1</th>\n",
       "      <td>hardware failure risk</td>\n",
       "      <td>Medium</td>\n",
       "      <td>1</td>\n",
       "      <td>5</td>\n",
       "      <td>5</td>\n",
       "      <td>Extreme</td>\n",
       "    </tr>\n",
       "    <tr>\n",
       "      <th>2</th>\n",
       "      <td>code consistency between development team</td>\n",
       "      <td>Small</td>\n",
       "      <td>1</td>\n",
       "      <td>3</td>\n",
       "      <td>5</td>\n",
       "      <td>High</td>\n",
       "    </tr>\n",
       "    <tr>\n",
       "      <th>3</th>\n",
       "      <td>Lack of team expertise</td>\n",
       "      <td>Medium</td>\n",
       "      <td>1</td>\n",
       "      <td>3</td>\n",
       "      <td>5</td>\n",
       "      <td>High</td>\n",
       "    </tr>\n",
       "    <tr>\n",
       "      <th>4</th>\n",
       "      <td>database security</td>\n",
       "      <td>Medium</td>\n",
       "      <td>1</td>\n",
       "      <td>3</td>\n",
       "      <td>5</td>\n",
       "      <td>High</td>\n",
       "    </tr>\n",
       "    <tr>\n",
       "      <th>5</th>\n",
       "      <td>storage media exposure</td>\n",
       "      <td>Medium</td>\n",
       "      <td>1</td>\n",
       "      <td>3</td>\n",
       "      <td>5</td>\n",
       "      <td>High</td>\n",
       "    </tr>\n",
       "    <tr>\n",
       "      <th>6</th>\n",
       "      <td>developer unavailability</td>\n",
       "      <td>Small</td>\n",
       "      <td>1</td>\n",
       "      <td>3</td>\n",
       "      <td>5</td>\n",
       "      <td>High</td>\n",
       "    </tr>\n",
       "    <tr>\n",
       "      <th>7</th>\n",
       "      <td>unauthorized login</td>\n",
       "      <td>Small</td>\n",
       "      <td>1</td>\n",
       "      <td>3</td>\n",
       "      <td>5</td>\n",
       "      <td>High</td>\n",
       "    </tr>\n",
       "  </tbody>\n",
       "</table>\n",
       "</div>"
      ],
      "text/plain": [
       "                                        risk priority  cluster  severity  \\\n",
       "0                         exception handling     High        1         3   \n",
       "1                      hardware failure risk   Medium        1         5   \n",
       "2  code consistency between development team    Small        1         3   \n",
       "3                     Lack of team expertise   Medium        1         3   \n",
       "4                          database security   Medium        1         3   \n",
       "5                     storage media exposure   Medium        1         3   \n",
       "6                   developer unavailability    Small        1         3   \n",
       "7                         unauthorized login    Small        1         3   \n",
       "\n",
       "   likelihood prediction  \n",
       "0           5       High  \n",
       "1           5    Extreme  \n",
       "2           5       High  \n",
       "3           5       High  \n",
       "4           5       High  \n",
       "5           5       High  \n",
       "6           5       High  \n",
       "7           5       High  "
      ]
     },
     "execution_count": 98,
     "metadata": {},
     "output_type": "execute_result"
    }
   ],
   "source": [
    "df_risk['cluster'] = df_risk['risk'].apply(get_cluster)\n",
    "df_risk['severity'] = df_risk['risk'].apply(get_severity)\n",
    "df_risk['likelihood'] = df_risk['risk'].apply(get_likelihood)\n",
    "df_risk['prediction'] = df_risk['risk'].apply(get_priority)\n",
    "df_risk"
   ]
  }
 ],
 "metadata": {
  "kernelspec": {
   "display_name": "Python 3",
   "language": "python",
   "name": "python3"
  },
  "language_info": {
   "codemirror_mode": {
    "name": "ipython",
    "version": 3
   },
   "file_extension": ".py",
   "mimetype": "text/x-python",
   "name": "python",
   "nbconvert_exporter": "python",
   "pygments_lexer": "ipython3",
   "version": "3.7.12"
  },
  "papermill": {
   "default_parameters": {},
   "duration": 9897.26853,
   "end_time": "2022-08-06T14:37:03.617185",
   "environment_variables": {},
   "exception": null,
   "input_path": "__notebook__.ipynb",
   "output_path": "__notebook__.ipynb",
   "parameters": {},
   "start_time": "2022-08-06T11:52:06.348655",
   "version": "2.3.4"
  },
  "widgets": {
   "application/vnd.jupyter.widget-state+json": {
    "state": {
     "016a078b33fe44a794a3868ebc32a433": {
      "model_module": "@jupyter-widgets/controls",
      "model_module_version": "1.5.0",
      "model_name": "FloatProgressModel",
      "state": {
       "_dom_classes": [],
       "_model_module": "@jupyter-widgets/controls",
       "_model_module_version": "1.5.0",
       "_model_name": "FloatProgressModel",
       "_view_count": null,
       "_view_module": "@jupyter-widgets/controls",
       "_view_module_version": "1.5.0",
       "_view_name": "ProgressView",
       "bar_style": "success",
       "description": "",
       "description_tooltip": null,
       "layout": "IPY_MODEL_21bc97bb262644e39fb9c1696e6ddbf6",
       "max": 91005696.0,
       "min": 0.0,
       "orientation": "horizontal",
       "style": "IPY_MODEL_5b7db513ee8b4a229672d4c9e1269e06",
       "value": 91005696.0
      }
     },
     "08e9cfdc4b514dcc9a1b78c150ec734a": {
      "model_module": "@jupyter-widgets/controls",
      "model_module_version": "1.5.0",
      "model_name": "ProgressStyleModel",
      "state": {
       "_model_module": "@jupyter-widgets/controls",
       "_model_module_version": "1.5.0",
       "_model_name": "ProgressStyleModel",
       "_view_count": null,
       "_view_module": "@jupyter-widgets/base",
       "_view_module_version": "1.2.0",
       "_view_name": "StyleView",
       "bar_color": null,
       "description_width": ""
      }
     },
     "0b25a58a9564466fa4a7541053c98e3e": {
      "model_module": "@jupyter-widgets/controls",
      "model_module_version": "1.5.0",
      "model_name": "DescriptionStyleModel",
      "state": {
       "_model_module": "@jupyter-widgets/controls",
       "_model_module_version": "1.5.0",
       "_model_name": "DescriptionStyleModel",
       "_view_count": null,
       "_view_module": "@jupyter-widgets/base",
       "_view_module_version": "1.2.0",
       "_view_name": "StyleView",
       "description_width": ""
      }
     },
     "0fdb9a0ce7374b24b1b9176e595d16ef": {
      "model_module": "@jupyter-widgets/base",
      "model_module_version": "1.2.0",
      "model_name": "LayoutModel",
      "state": {
       "_model_module": "@jupyter-widgets/base",
       "_model_module_version": "1.2.0",
       "_model_name": "LayoutModel",
       "_view_count": null,
       "_view_module": "@jupyter-widgets/base",
       "_view_module_version": "1.2.0",
       "_view_name": "LayoutView",
       "align_content": null,
       "align_items": null,
       "align_self": null,
       "border": null,
       "bottom": null,
       "display": null,
       "flex": null,
       "flex_flow": null,
       "grid_area": null,
       "grid_auto_columns": null,
       "grid_auto_flow": null,
       "grid_auto_rows": null,
       "grid_column": null,
       "grid_gap": null,
       "grid_row": null,
       "grid_template_areas": null,
       "grid_template_columns": null,
       "grid_template_rows": null,
       "height": null,
       "justify_content": null,
       "justify_items": null,
       "left": null,
       "margin": null,
       "max_height": null,
       "max_width": null,
       "min_height": null,
       "min_width": null,
       "object_fit": null,
       "object_position": null,
       "order": null,
       "overflow": null,
       "overflow_x": null,
       "overflow_y": null,
       "padding": null,
       "right": null,
       "top": null,
       "visibility": null,
       "width": null
      }
     },
     "145f1c6cff3a4b0c8a3ccfd5794697f9": {
      "model_module": "@jupyter-widgets/controls",
      "model_module_version": "1.5.0",
      "model_name": "HTMLModel",
      "state": {
       "_dom_classes": [],
       "_model_module": "@jupyter-widgets/controls",
       "_model_module_version": "1.5.0",
       "_model_name": "HTMLModel",
       "_view_count": null,
       "_view_module": "@jupyter-widgets/controls",
       "_view_module_version": "1.5.0",
       "_view_name": "HTMLView",
       "description": "",
       "description_tooltip": null,
       "layout": "IPY_MODEL_47cd061995484f74a24c737774e25e32",
       "placeholder": "​",
       "style": "IPY_MODEL_33852e3d32954d40b6caecfc77cd2c02",
       "value": " 455k/455k [00:00&lt;00:00, 3.10MB/s]"
      }
     },
     "1925be7daae04dad8e1903a6cf1cff53": {
      "model_module": "@jupyter-widgets/controls",
      "model_module_version": "1.5.0",
      "model_name": "ProgressStyleModel",
      "state": {
       "_model_module": "@jupyter-widgets/controls",
       "_model_module_version": "1.5.0",
       "_model_name": "ProgressStyleModel",
       "_view_count": null,
       "_view_module": "@jupyter-widgets/base",
       "_view_module_version": "1.2.0",
       "_view_name": "StyleView",
       "bar_color": null,
       "description_width": ""
      }
     },
     "1cd8463d2e6a403fa833662ecc24d222": {
      "model_module": "@jupyter-widgets/base",
      "model_module_version": "1.2.0",
      "model_name": "LayoutModel",
      "state": {
       "_model_module": "@jupyter-widgets/base",
       "_model_module_version": "1.2.0",
       "_model_name": "LayoutModel",
       "_view_count": null,
       "_view_module": "@jupyter-widgets/base",
       "_view_module_version": "1.2.0",
       "_view_name": "LayoutView",
       "align_content": null,
       "align_items": null,
       "align_self": null,
       "border": null,
       "bottom": null,
       "display": null,
       "flex": null,
       "flex_flow": null,
       "grid_area": null,
       "grid_auto_columns": null,
       "grid_auto_flow": null,
       "grid_auto_rows": null,
       "grid_column": null,
       "grid_gap": null,
       "grid_row": null,
       "grid_template_areas": null,
       "grid_template_columns": null,
       "grid_template_rows": null,
       "height": null,
       "justify_content": null,
       "justify_items": null,
       "left": null,
       "margin": null,
       "max_height": null,
       "max_width": null,
       "min_height": null,
       "min_width": null,
       "object_fit": null,
       "object_position": null,
       "order": null,
       "overflow": null,
       "overflow_x": null,
       "overflow_y": null,
       "padding": null,
       "right": null,
       "top": null,
       "visibility": null,
       "width": null
      }
     },
     "2066a93ba92b42bb8bb8a50320d5b891": {
      "model_module": "@jupyter-widgets/controls",
      "model_module_version": "1.5.0",
      "model_name": "HTMLModel",
      "state": {
       "_dom_classes": [],
       "_model_module": "@jupyter-widgets/controls",
       "_model_module_version": "1.5.0",
       "_model_name": "HTMLModel",
       "_view_count": null,
       "_view_module": "@jupyter-widgets/controls",
       "_view_module_version": "1.5.0",
       "_view_name": "HTMLView",
       "description": "",
       "description_tooltip": null,
       "layout": "IPY_MODEL_64f1f086ed5f4767880d963603cb5091",
       "placeholder": "​",
       "style": "IPY_MODEL_9bbf30baaa2a40c59bdbc0d7676188f3",
       "value": " 226k/226k [00:00&lt;00:00, 2.29MB/s]"
      }
     },
     "20ca52d610e549d7ba882b4d7129a1b0": {
      "model_module": "@jupyter-widgets/controls",
      "model_module_version": "1.5.0",
      "model_name": "DescriptionStyleModel",
      "state": {
       "_model_module": "@jupyter-widgets/controls",
       "_model_module_version": "1.5.0",
       "_model_name": "DescriptionStyleModel",
       "_view_count": null,
       "_view_module": "@jupyter-widgets/base",
       "_view_module_version": "1.2.0",
       "_view_name": "StyleView",
       "description_width": ""
      }
     },
     "21bc97bb262644e39fb9c1696e6ddbf6": {
      "model_module": "@jupyter-widgets/base",
      "model_module_version": "1.2.0",
      "model_name": "LayoutModel",
      "state": {
       "_model_module": "@jupyter-widgets/base",
       "_model_module_version": "1.2.0",
       "_model_name": "LayoutModel",
       "_view_count": null,
       "_view_module": "@jupyter-widgets/base",
       "_view_module_version": "1.2.0",
       "_view_name": "LayoutView",
       "align_content": null,
       "align_items": null,
       "align_self": null,
       "border": null,
       "bottom": null,
       "display": null,
       "flex": null,
       "flex_flow": null,
       "grid_area": null,
       "grid_auto_columns": null,
       "grid_auto_flow": null,
       "grid_auto_rows": null,
       "grid_column": null,
       "grid_gap": null,
       "grid_row": null,
       "grid_template_areas": null,
       "grid_template_columns": null,
       "grid_template_rows": null,
       "height": null,
       "justify_content": null,
       "justify_items": null,
       "left": null,
       "margin": null,
       "max_height": null,
       "max_width": null,
       "min_height": null,
       "min_width": null,
       "object_fit": null,
       "object_position": null,
       "order": null,
       "overflow": null,
       "overflow_x": null,
       "overflow_y": null,
       "padding": null,
       "right": null,
       "top": null,
       "visibility": null,
       "width": null
      }
     },
     "281eebf0f9754f9892609f1ac898078a": {
      "model_module": "@jupyter-widgets/base",
      "model_module_version": "1.2.0",
      "model_name": "LayoutModel",
      "state": {
       "_model_module": "@jupyter-widgets/base",
       "_model_module_version": "1.2.0",
       "_model_name": "LayoutModel",
       "_view_count": null,
       "_view_module": "@jupyter-widgets/base",
       "_view_module_version": "1.2.0",
       "_view_name": "LayoutView",
       "align_content": null,
       "align_items": null,
       "align_self": null,
       "border": null,
       "bottom": null,
       "display": null,
       "flex": null,
       "flex_flow": null,
       "grid_area": null,
       "grid_auto_columns": null,
       "grid_auto_flow": null,
       "grid_auto_rows": null,
       "grid_column": null,
       "grid_gap": null,
       "grid_row": null,
       "grid_template_areas": null,
       "grid_template_columns": null,
       "grid_template_rows": null,
       "height": null,
       "justify_content": null,
       "justify_items": null,
       "left": null,
       "margin": null,
       "max_height": null,
       "max_width": null,
       "min_height": null,
       "min_width": null,
       "object_fit": null,
       "object_position": null,
       "order": null,
       "overflow": null,
       "overflow_x": null,
       "overflow_y": null,
       "padding": null,
       "right": null,
       "top": null,
       "visibility": null,
       "width": null
      }
     },
     "33852e3d32954d40b6caecfc77cd2c02": {
      "model_module": "@jupyter-widgets/controls",
      "model_module_version": "1.5.0",
      "model_name": "DescriptionStyleModel",
      "state": {
       "_model_module": "@jupyter-widgets/controls",
       "_model_module_version": "1.5.0",
       "_model_name": "DescriptionStyleModel",
       "_view_count": null,
       "_view_module": "@jupyter-widgets/base",
       "_view_module_version": "1.2.0",
       "_view_name": "StyleView",
       "description_width": ""
      }
     },
     "3ae0df15ce4d4a74904e5c8b575785d5": {
      "model_module": "@jupyter-widgets/base",
      "model_module_version": "1.2.0",
      "model_name": "LayoutModel",
      "state": {
       "_model_module": "@jupyter-widgets/base",
       "_model_module_version": "1.2.0",
       "_model_name": "LayoutModel",
       "_view_count": null,
       "_view_module": "@jupyter-widgets/base",
       "_view_module_version": "1.2.0",
       "_view_name": "LayoutView",
       "align_content": null,
       "align_items": null,
       "align_self": null,
       "border": null,
       "bottom": null,
       "display": null,
       "flex": null,
       "flex_flow": null,
       "grid_area": null,
       "grid_auto_columns": null,
       "grid_auto_flow": null,
       "grid_auto_rows": null,
       "grid_column": null,
       "grid_gap": null,
       "grid_row": null,
       "grid_template_areas": null,
       "grid_template_columns": null,
       "grid_template_rows": null,
       "height": null,
       "justify_content": null,
       "justify_items": null,
       "left": null,
       "margin": null,
       "max_height": null,
       "max_width": null,
       "min_height": null,
       "min_width": null,
       "object_fit": null,
       "object_position": null,
       "order": null,
       "overflow": null,
       "overflow_x": null,
       "overflow_y": null,
       "padding": null,
       "right": null,
       "top": null,
       "visibility": null,
       "width": null
      }
     },
     "426da1d9f9824fa39d285e74fea47b22": {
      "model_module": "@jupyter-widgets/controls",
      "model_module_version": "1.5.0",
      "model_name": "HBoxModel",
      "state": {
       "_dom_classes": [],
       "_model_module": "@jupyter-widgets/controls",
       "_model_module_version": "1.5.0",
       "_model_name": "HBoxModel",
       "_view_count": null,
       "_view_module": "@jupyter-widgets/controls",
       "_view_module_version": "1.5.0",
       "_view_name": "HBoxView",
       "box_style": "",
       "children": [
        "IPY_MODEL_7552574c99a24a74b4b9ca540295059f",
        "IPY_MODEL_83d7cfad9724400994ca695947c65de4",
        "IPY_MODEL_cb3dec451fd84880be23085a13a5970e"
       ],
       "layout": "IPY_MODEL_b7aaffa53d134e6db861f4409eaf0d45"
      }
     },
     "42aca57880a84fc0abddf34d9801c897": {
      "model_module": "@jupyter-widgets/controls",
      "model_module_version": "1.5.0",
      "model_name": "ProgressStyleModel",
      "state": {
       "_model_module": "@jupyter-widgets/controls",
       "_model_module_version": "1.5.0",
       "_model_name": "ProgressStyleModel",
       "_view_count": null,
       "_view_module": "@jupyter-widgets/base",
       "_view_module_version": "1.2.0",
       "_view_name": "StyleView",
       "bar_color": null,
       "description_width": ""
      }
     },
     "47149caa31c24288850fcef4790c8460": {
      "model_module": "@jupyter-widgets/controls",
      "model_module_version": "1.5.0",
      "model_name": "FloatProgressModel",
      "state": {
       "_dom_classes": [],
       "_model_module": "@jupyter-widgets/controls",
       "_model_module_version": "1.5.0",
       "_model_name": "FloatProgressModel",
       "_view_count": null,
       "_view_module": "@jupyter-widgets/controls",
       "_view_module_version": "1.5.0",
       "_view_name": "ProgressView",
       "bar_style": "success",
       "description": "",
       "description_tooltip": null,
       "layout": "IPY_MODEL_ef650a4fdc5b4d849bd680e631f7f5cd",
       "max": 112.0,
       "min": 0.0,
       "orientation": "horizontal",
       "style": "IPY_MODEL_08e9cfdc4b514dcc9a1b78c150ec734a",
       "value": 112.0
      }
     },
     "47cd061995484f74a24c737774e25e32": {
      "model_module": "@jupyter-widgets/base",
      "model_module_version": "1.2.0",
      "model_name": "LayoutModel",
      "state": {
       "_model_module": "@jupyter-widgets/base",
       "_model_module_version": "1.2.0",
       "_model_name": "LayoutModel",
       "_view_count": null,
       "_view_module": "@jupyter-widgets/base",
       "_view_module_version": "1.2.0",
       "_view_name": "LayoutView",
       "align_content": null,
       "align_items": null,
       "align_self": null,
       "border": null,
       "bottom": null,
       "display": null,
       "flex": null,
       "flex_flow": null,
       "grid_area": null,
       "grid_auto_columns": null,
       "grid_auto_flow": null,
       "grid_auto_rows": null,
       "grid_column": null,
       "grid_gap": null,
       "grid_row": null,
       "grid_template_areas": null,
       "grid_template_columns": null,
       "grid_template_rows": null,
       "height": null,
       "justify_content": null,
       "justify_items": null,
       "left": null,
       "margin": null,
       "max_height": null,
       "max_width": null,
       "min_height": null,
       "min_width": null,
       "object_fit": null,
       "object_position": null,
       "order": null,
       "overflow": null,
       "overflow_x": null,
       "overflow_y": null,
       "padding": null,
       "right": null,
       "top": null,
       "visibility": null,
       "width": null
      }
     },
     "49a44d64029f45bbb2e8fcb71ecaa460": {
      "model_module": "@jupyter-widgets/base",
      "model_module_version": "1.2.0",
      "model_name": "LayoutModel",
      "state": {
       "_model_module": "@jupyter-widgets/base",
       "_model_module_version": "1.2.0",
       "_model_name": "LayoutModel",
       "_view_count": null,
       "_view_module": "@jupyter-widgets/base",
       "_view_module_version": "1.2.0",
       "_view_name": "LayoutView",
       "align_content": null,
       "align_items": null,
       "align_self": null,
       "border": null,
       "bottom": null,
       "display": null,
       "flex": null,
       "flex_flow": null,
       "grid_area": null,
       "grid_auto_columns": null,
       "grid_auto_flow": null,
       "grid_auto_rows": null,
       "grid_column": null,
       "grid_gap": null,
       "grid_row": null,
       "grid_template_areas": null,
       "grid_template_columns": null,
       "grid_template_rows": null,
       "height": null,
       "justify_content": null,
       "justify_items": null,
       "left": null,
       "margin": null,
       "max_height": null,
       "max_width": null,
       "min_height": null,
       "min_width": null,
       "object_fit": null,
       "object_position": null,
       "order": null,
       "overflow": null,
       "overflow_x": null,
       "overflow_y": null,
       "padding": null,
       "right": null,
       "top": null,
       "visibility": null,
       "width": null
      }
     },
     "4d4369490ed842d68496ec57035a90c0": {
      "model_module": "@jupyter-widgets/base",
      "model_module_version": "1.2.0",
      "model_name": "LayoutModel",
      "state": {
       "_model_module": "@jupyter-widgets/base",
       "_model_module_version": "1.2.0",
       "_model_name": "LayoutModel",
       "_view_count": null,
       "_view_module": "@jupyter-widgets/base",
       "_view_module_version": "1.2.0",
       "_view_name": "LayoutView",
       "align_content": null,
       "align_items": null,
       "align_self": null,
       "border": null,
       "bottom": null,
       "display": null,
       "flex": null,
       "flex_flow": null,
       "grid_area": null,
       "grid_auto_columns": null,
       "grid_auto_flow": null,
       "grid_auto_rows": null,
       "grid_column": null,
       "grid_gap": null,
       "grid_row": null,
       "grid_template_areas": null,
       "grid_template_columns": null,
       "grid_template_rows": null,
       "height": null,
       "justify_content": null,
       "justify_items": null,
       "left": null,
       "margin": null,
       "max_height": null,
       "max_width": null,
       "min_height": null,
       "min_width": null,
       "object_fit": null,
       "object_position": null,
       "order": null,
       "overflow": null,
       "overflow_x": null,
       "overflow_y": null,
       "padding": null,
       "right": null,
       "top": null,
       "visibility": null,
       "width": null
      }
     },
     "4e0829e6af634559956d499701f16ef7": {
      "model_module": "@jupyter-widgets/controls",
      "model_module_version": "1.5.0",
      "model_name": "HTMLModel",
      "state": {
       "_dom_classes": [],
       "_model_module": "@jupyter-widgets/controls",
       "_model_module_version": "1.5.0",
       "_model_name": "HTMLModel",
       "_view_count": null,
       "_view_module": "@jupyter-widgets/controls",
       "_view_module_version": "1.5.0",
       "_view_name": "HTMLView",
       "description": "",
       "description_tooltip": null,
       "layout": "IPY_MODEL_80cb0030108b426ba4010922d9b4db79",
       "placeholder": "​",
       "style": "IPY_MODEL_adf32fa6008145baabf7f1fc88462eef",
       "value": "Downloading: 100%"
      }
     },
     "4fd353f95abc42d880d172bbf5f7ae17": {
      "model_module": "@jupyter-widgets/base",
      "model_module_version": "1.2.0",
      "model_name": "LayoutModel",
      "state": {
       "_model_module": "@jupyter-widgets/base",
       "_model_module_version": "1.2.0",
       "_model_name": "LayoutModel",
       "_view_count": null,
       "_view_module": "@jupyter-widgets/base",
       "_view_module_version": "1.2.0",
       "_view_name": "LayoutView",
       "align_content": null,
       "align_items": null,
       "align_self": null,
       "border": null,
       "bottom": null,
       "display": null,
       "flex": null,
       "flex_flow": null,
       "grid_area": null,
       "grid_auto_columns": null,
       "grid_auto_flow": null,
       "grid_auto_rows": null,
       "grid_column": null,
       "grid_gap": null,
       "grid_row": null,
       "grid_template_areas": null,
       "grid_template_columns": null,
       "grid_template_rows": null,
       "height": null,
       "justify_content": null,
       "justify_items": null,
       "left": null,
       "margin": null,
       "max_height": null,
       "max_width": null,
       "min_height": null,
       "min_width": null,
       "object_fit": null,
       "object_position": null,
       "order": null,
       "overflow": null,
       "overflow_x": null,
       "overflow_y": null,
       "padding": null,
       "right": null,
       "top": null,
       "visibility": null,
       "width": null
      }
     },
     "520020f3367b488d8dec36c6fb9eb594": {
      "model_module": "@jupyter-widgets/controls",
      "model_module_version": "1.5.0",
      "model_name": "HTMLModel",
      "state": {
       "_dom_classes": [],
       "_model_module": "@jupyter-widgets/controls",
       "_model_module_version": "1.5.0",
       "_model_name": "HTMLModel",
       "_view_count": null,
       "_view_module": "@jupyter-widgets/controls",
       "_view_module_version": "1.5.0",
       "_view_name": "HTMLView",
       "description": "",
       "description_tooltip": null,
       "layout": "IPY_MODEL_d461516ad5c8489b8ec3cee57c0213bc",
       "placeholder": "​",
       "style": "IPY_MODEL_20ca52d610e549d7ba882b4d7129a1b0",
       "value": "Downloading: 100%"
      }
     },
     "5b7db513ee8b4a229672d4c9e1269e06": {
      "model_module": "@jupyter-widgets/controls",
      "model_module_version": "1.5.0",
      "model_name": "ProgressStyleModel",
      "state": {
       "_model_module": "@jupyter-widgets/controls",
       "_model_module_version": "1.5.0",
       "_model_name": "ProgressStyleModel",
       "_view_count": null,
       "_view_module": "@jupyter-widgets/base",
       "_view_module_version": "1.2.0",
       "_view_name": "StyleView",
       "bar_color": null,
       "description_width": ""
      }
     },
     "5ca8e15207f74f77ad6b213f60c9b956": {
      "model_module": "@jupyter-widgets/base",
      "model_module_version": "1.2.0",
      "model_name": "LayoutModel",
      "state": {
       "_model_module": "@jupyter-widgets/base",
       "_model_module_version": "1.2.0",
       "_model_name": "LayoutModel",
       "_view_count": null,
       "_view_module": "@jupyter-widgets/base",
       "_view_module_version": "1.2.0",
       "_view_name": "LayoutView",
       "align_content": null,
       "align_items": null,
       "align_self": null,
       "border": null,
       "bottom": null,
       "display": null,
       "flex": null,
       "flex_flow": null,
       "grid_area": null,
       "grid_auto_columns": null,
       "grid_auto_flow": null,
       "grid_auto_rows": null,
       "grid_column": null,
       "grid_gap": null,
       "grid_row": null,
       "grid_template_areas": null,
       "grid_template_columns": null,
       "grid_template_rows": null,
       "height": null,
       "justify_content": null,
       "justify_items": null,
       "left": null,
       "margin": null,
       "max_height": null,
       "max_width": null,
       "min_height": null,
       "min_width": null,
       "object_fit": null,
       "object_position": null,
       "order": null,
       "overflow": null,
       "overflow_x": null,
       "overflow_y": null,
       "padding": null,
       "right": null,
       "top": null,
       "visibility": null,
       "width": null
      }
     },
     "5f0f4c7e458445428afefe19c4403445": {
      "model_module": "@jupyter-widgets/controls",
      "model_module_version": "1.5.0",
      "model_name": "DescriptionStyleModel",
      "state": {
       "_model_module": "@jupyter-widgets/controls",
       "_model_module_version": "1.5.0",
       "_model_name": "DescriptionStyleModel",
       "_view_count": null,
       "_view_module": "@jupyter-widgets/base",
       "_view_module_version": "1.2.0",
       "_view_name": "StyleView",
       "description_width": ""
      }
     },
     "64f1f086ed5f4767880d963603cb5091": {
      "model_module": "@jupyter-widgets/base",
      "model_module_version": "1.2.0",
      "model_name": "LayoutModel",
      "state": {
       "_model_module": "@jupyter-widgets/base",
       "_model_module_version": "1.2.0",
       "_model_name": "LayoutModel",
       "_view_count": null,
       "_view_module": "@jupyter-widgets/base",
       "_view_module_version": "1.2.0",
       "_view_name": "LayoutView",
       "align_content": null,
       "align_items": null,
       "align_self": null,
       "border": null,
       "bottom": null,
       "display": null,
       "flex": null,
       "flex_flow": null,
       "grid_area": null,
       "grid_auto_columns": null,
       "grid_auto_flow": null,
       "grid_auto_rows": null,
       "grid_column": null,
       "grid_gap": null,
       "grid_row": null,
       "grid_template_areas": null,
       "grid_template_columns": null,
       "grid_template_rows": null,
       "height": null,
       "justify_content": null,
       "justify_items": null,
       "left": null,
       "margin": null,
       "max_height": null,
       "max_width": null,
       "min_height": null,
       "min_width": null,
       "object_fit": null,
       "object_position": null,
       "order": null,
       "overflow": null,
       "overflow_x": null,
       "overflow_y": null,
       "padding": null,
       "right": null,
       "top": null,
       "visibility": null,
       "width": null
      }
     },
     "671cb4cd4dbc477e8435c2a739a490af": {
      "model_module": "@jupyter-widgets/controls",
      "model_module_version": "1.5.0",
      "model_name": "HTMLModel",
      "state": {
       "_dom_classes": [],
       "_model_module": "@jupyter-widgets/controls",
       "_model_module_version": "1.5.0",
       "_model_name": "HTMLModel",
       "_view_count": null,
       "_view_module": "@jupyter-widgets/controls",
       "_view_module_version": "1.5.0",
       "_view_name": "HTMLView",
       "description": "",
       "description_tooltip": null,
       "layout": "IPY_MODEL_1cd8463d2e6a403fa833662ecc24d222",
       "placeholder": "​",
       "style": "IPY_MODEL_aac086b43a0c4d86b986774063ae74fb",
       "value": " 629/629 [00:00&lt;00:00, 22.0kB/s]"
      }
     },
     "6cd6d1b1a9294010a684e012497f73c9": {
      "model_module": "@jupyter-widgets/controls",
      "model_module_version": "1.5.0",
      "model_name": "HBoxModel",
      "state": {
       "_dom_classes": [],
       "_model_module": "@jupyter-widgets/controls",
       "_model_module_version": "1.5.0",
       "_model_name": "HBoxModel",
       "_view_count": null,
       "_view_module": "@jupyter-widgets/controls",
       "_view_module_version": "1.5.0",
       "_view_name": "HBoxView",
       "box_style": "",
       "children": [
        "IPY_MODEL_adc5f531d94d4ad5a2fc421e668f7b34",
        "IPY_MODEL_016a078b33fe44a794a3868ebc32a433",
        "IPY_MODEL_7bab4d4814e742a3a78529425c5b00f4"
       ],
       "layout": "IPY_MODEL_cb58fc2253064e88a158055f10309bf8"
      }
     },
     "6f3400024bc5417db14dc54032b6dcb3": {
      "model_module": "@jupyter-widgets/controls",
      "model_module_version": "1.5.0",
      "model_name": "HTMLModel",
      "state": {
       "_dom_classes": [],
       "_model_module": "@jupyter-widgets/controls",
       "_model_module_version": "1.5.0",
       "_model_name": "HTMLModel",
       "_view_count": null,
       "_view_module": "@jupyter-widgets/controls",
       "_view_module_version": "1.5.0",
       "_view_name": "HTMLView",
       "description": "",
       "description_tooltip": null,
       "layout": "IPY_MODEL_49a44d64029f45bbb2e8fcb71ecaa460",
       "placeholder": "​",
       "style": "IPY_MODEL_0b25a58a9564466fa4a7541053c98e3e",
       "value": "Downloading: 100%"
      }
     },
     "7552574c99a24a74b4b9ca540295059f": {
      "model_module": "@jupyter-widgets/controls",
      "model_module_version": "1.5.0",
      "model_name": "HTMLModel",
      "state": {
       "_dom_classes": [],
       "_model_module": "@jupyter-widgets/controls",
       "_model_module_version": "1.5.0",
       "_model_name": "HTMLModel",
       "_view_count": null,
       "_view_module": "@jupyter-widgets/controls",
       "_view_module_version": "1.5.0",
       "_view_name": "HTMLView",
       "description": "",
       "description_tooltip": null,
       "layout": "IPY_MODEL_7a6cec812f2e4022aab7a60cb68b387c",
       "placeholder": "​",
       "style": "IPY_MODEL_bb628d8a3a3c4ec8bf69798d5a8519a1",
       "value": "Downloading: 100%"
      }
     },
     "7619a3e5a5f6435a90674f64e6291679": {
      "model_module": "@jupyter-widgets/controls",
      "model_module_version": "1.5.0",
      "model_name": "HBoxModel",
      "state": {
       "_dom_classes": [],
       "_model_module": "@jupyter-widgets/controls",
       "_model_module_version": "1.5.0",
       "_model_name": "HBoxModel",
       "_view_count": null,
       "_view_module": "@jupyter-widgets/controls",
       "_view_module_version": "1.5.0",
       "_view_name": "HBoxView",
       "box_style": "",
       "children": [
        "IPY_MODEL_d943f567d4ec4858958b4cad0976072e",
        "IPY_MODEL_47149caa31c24288850fcef4790c8460",
        "IPY_MODEL_a955d4b2143f4565a9bacaf5df6bcc0b"
       ],
       "layout": "IPY_MODEL_3ae0df15ce4d4a74904e5c8b575785d5"
      }
     },
     "7a6cec812f2e4022aab7a60cb68b387c": {
      "model_module": "@jupyter-widgets/base",
      "model_module_version": "1.2.0",
      "model_name": "LayoutModel",
      "state": {
       "_model_module": "@jupyter-widgets/base",
       "_model_module_version": "1.2.0",
       "_model_name": "LayoutModel",
       "_view_count": null,
       "_view_module": "@jupyter-widgets/base",
       "_view_module_version": "1.2.0",
       "_view_name": "LayoutView",
       "align_content": null,
       "align_items": null,
       "align_self": null,
       "border": null,
       "bottom": null,
       "display": null,
       "flex": null,
       "flex_flow": null,
       "grid_area": null,
       "grid_auto_columns": null,
       "grid_auto_flow": null,
       "grid_auto_rows": null,
       "grid_column": null,
       "grid_gap": null,
       "grid_row": null,
       "grid_template_areas": null,
       "grid_template_columns": null,
       "grid_template_rows": null,
       "height": null,
       "justify_content": null,
       "justify_items": null,
       "left": null,
       "margin": null,
       "max_height": null,
       "max_width": null,
       "min_height": null,
       "min_width": null,
       "object_fit": null,
       "object_position": null,
       "order": null,
       "overflow": null,
       "overflow_x": null,
       "overflow_y": null,
       "padding": null,
       "right": null,
       "top": null,
       "visibility": null,
       "width": null
      }
     },
     "7bab4d4814e742a3a78529425c5b00f4": {
      "model_module": "@jupyter-widgets/controls",
      "model_module_version": "1.5.0",
      "model_name": "HTMLModel",
      "state": {
       "_dom_classes": [],
       "_model_module": "@jupyter-widgets/controls",
       "_model_module_version": "1.5.0",
       "_model_name": "HTMLModel",
       "_view_count": null,
       "_view_module": "@jupyter-widgets/controls",
       "_view_module_version": "1.5.0",
       "_view_name": "HTMLView",
       "description": "",
       "description_tooltip": null,
       "layout": "IPY_MODEL_af012771eef9463dabd3bd454edb4b4a",
       "placeholder": "​",
       "style": "IPY_MODEL_f5ab97f29e724428babcd10be22c704d",
       "value": " 86.8M/86.8M [00:07&lt;00:00, 15.3MB/s]"
      }
     },
     "80cb0030108b426ba4010922d9b4db79": {
      "model_module": "@jupyter-widgets/base",
      "model_module_version": "1.2.0",
      "model_name": "LayoutModel",
      "state": {
       "_model_module": "@jupyter-widgets/base",
       "_model_module_version": "1.2.0",
       "_model_name": "LayoutModel",
       "_view_count": null,
       "_view_module": "@jupyter-widgets/base",
       "_view_module_version": "1.2.0",
       "_view_name": "LayoutView",
       "align_content": null,
       "align_items": null,
       "align_self": null,
       "border": null,
       "bottom": null,
       "display": null,
       "flex": null,
       "flex_flow": null,
       "grid_area": null,
       "grid_auto_columns": null,
       "grid_auto_flow": null,
       "grid_auto_rows": null,
       "grid_column": null,
       "grid_gap": null,
       "grid_row": null,
       "grid_template_areas": null,
       "grid_template_columns": null,
       "grid_template_rows": null,
       "height": null,
       "justify_content": null,
       "justify_items": null,
       "left": null,
       "margin": null,
       "max_height": null,
       "max_width": null,
       "min_height": null,
       "min_width": null,
       "object_fit": null,
       "object_position": null,
       "order": null,
       "overflow": null,
       "overflow_x": null,
       "overflow_y": null,
       "padding": null,
       "right": null,
       "top": null,
       "visibility": null,
       "width": null
      }
     },
     "83d7cfad9724400994ca695947c65de4": {
      "model_module": "@jupyter-widgets/controls",
      "model_module_version": "1.5.0",
      "model_name": "FloatProgressModel",
      "state": {
       "_dom_classes": [],
       "_model_module": "@jupyter-widgets/controls",
       "_model_module_version": "1.5.0",
       "_model_name": "FloatProgressModel",
       "_view_count": null,
       "_view_module": "@jupyter-widgets/controls",
       "_view_module_version": "1.5.0",
       "_view_name": "ProgressView",
       "bar_style": "success",
       "description": "",
       "description_tooltip": null,
       "layout": "IPY_MODEL_c91837ddc0194cdca5d499279fd3a8a9",
       "max": 314.0,
       "min": 0.0,
       "orientation": "horizontal",
       "style": "IPY_MODEL_1925be7daae04dad8e1903a6cf1cff53",
       "value": 314.0
      }
     },
     "8dbded84477c4fca9553dd44cbac8474": {
      "model_module": "@jupyter-widgets/controls",
      "model_module_version": "1.5.0",
      "model_name": "DescriptionStyleModel",
      "state": {
       "_model_module": "@jupyter-widgets/controls",
       "_model_module_version": "1.5.0",
       "_model_name": "DescriptionStyleModel",
       "_view_count": null,
       "_view_module": "@jupyter-widgets/base",
       "_view_module_version": "1.2.0",
       "_view_name": "StyleView",
       "description_width": ""
      }
     },
     "9a1ca8cc764b42edb6a0e99e740d806c": {
      "model_module": "@jupyter-widgets/controls",
      "model_module_version": "1.5.0",
      "model_name": "ProgressStyleModel",
      "state": {
       "_model_module": "@jupyter-widgets/controls",
       "_model_module_version": "1.5.0",
       "_model_name": "ProgressStyleModel",
       "_view_count": null,
       "_view_module": "@jupyter-widgets/base",
       "_view_module_version": "1.2.0",
       "_view_name": "StyleView",
       "bar_color": null,
       "description_width": ""
      }
     },
     "9bbf30baaa2a40c59bdbc0d7676188f3": {
      "model_module": "@jupyter-widgets/controls",
      "model_module_version": "1.5.0",
      "model_name": "DescriptionStyleModel",
      "state": {
       "_model_module": "@jupyter-widgets/controls",
       "_model_module_version": "1.5.0",
       "_model_name": "DescriptionStyleModel",
       "_view_count": null,
       "_view_module": "@jupyter-widgets/base",
       "_view_module_version": "1.2.0",
       "_view_name": "StyleView",
       "description_width": ""
      }
     },
     "9c9957bb16f548d0a163bd6aacd63a1e": {
      "model_module": "@jupyter-widgets/controls",
      "model_module_version": "1.5.0",
      "model_name": "FloatProgressModel",
      "state": {
       "_dom_classes": [],
       "_model_module": "@jupyter-widgets/controls",
       "_model_module_version": "1.5.0",
       "_model_name": "FloatProgressModel",
       "_view_count": null,
       "_view_module": "@jupyter-widgets/controls",
       "_view_module_version": "1.5.0",
       "_view_name": "ProgressView",
       "bar_style": "success",
       "description": "",
       "description_tooltip": null,
       "layout": "IPY_MODEL_a25032096aea44238537ce05ef04e752",
       "max": 629.0,
       "min": 0.0,
       "orientation": "horizontal",
       "style": "IPY_MODEL_9a1ca8cc764b42edb6a0e99e740d806c",
       "value": 629.0
      }
     },
     "a25032096aea44238537ce05ef04e752": {
      "model_module": "@jupyter-widgets/base",
      "model_module_version": "1.2.0",
      "model_name": "LayoutModel",
      "state": {
       "_model_module": "@jupyter-widgets/base",
       "_model_module_version": "1.2.0",
       "_model_name": "LayoutModel",
       "_view_count": null,
       "_view_module": "@jupyter-widgets/base",
       "_view_module_version": "1.2.0",
       "_view_name": "LayoutView",
       "align_content": null,
       "align_items": null,
       "align_self": null,
       "border": null,
       "bottom": null,
       "display": null,
       "flex": null,
       "flex_flow": null,
       "grid_area": null,
       "grid_auto_columns": null,
       "grid_auto_flow": null,
       "grid_auto_rows": null,
       "grid_column": null,
       "grid_gap": null,
       "grid_row": null,
       "grid_template_areas": null,
       "grid_template_columns": null,
       "grid_template_rows": null,
       "height": null,
       "justify_content": null,
       "justify_items": null,
       "left": null,
       "margin": null,
       "max_height": null,
       "max_width": null,
       "min_height": null,
       "min_width": null,
       "object_fit": null,
       "object_position": null,
       "order": null,
       "overflow": null,
       "overflow_x": null,
       "overflow_y": null,
       "padding": null,
       "right": null,
       "top": null,
       "visibility": null,
       "width": null
      }
     },
     "a955d4b2143f4565a9bacaf5df6bcc0b": {
      "model_module": "@jupyter-widgets/controls",
      "model_module_version": "1.5.0",
      "model_name": "HTMLModel",
      "state": {
       "_dom_classes": [],
       "_model_module": "@jupyter-widgets/controls",
       "_model_module_version": "1.5.0",
       "_model_name": "HTMLModel",
       "_view_count": null,
       "_view_module": "@jupyter-widgets/controls",
       "_view_module_version": "1.5.0",
       "_view_name": "HTMLView",
       "description": "",
       "description_tooltip": null,
       "layout": "IPY_MODEL_bcff5042240c45439c1c8894b6621034",
       "placeholder": "​",
       "style": "IPY_MODEL_5f0f4c7e458445428afefe19c4403445",
       "value": " 112/112 [00:00&lt;00:00, 4.41kB/s]"
      }
     },
     "aac086b43a0c4d86b986774063ae74fb": {
      "model_module": "@jupyter-widgets/controls",
      "model_module_version": "1.5.0",
      "model_name": "DescriptionStyleModel",
      "state": {
       "_model_module": "@jupyter-widgets/controls",
       "_model_module_version": "1.5.0",
       "_model_name": "DescriptionStyleModel",
       "_view_count": null,
       "_view_module": "@jupyter-widgets/base",
       "_view_module_version": "1.2.0",
       "_view_name": "StyleView",
       "description_width": ""
      }
     },
     "ac4d3218971844a78184a41a92f83480": {
      "model_module": "@jupyter-widgets/base",
      "model_module_version": "1.2.0",
      "model_name": "LayoutModel",
      "state": {
       "_model_module": "@jupyter-widgets/base",
       "_model_module_version": "1.2.0",
       "_model_name": "LayoutModel",
       "_view_count": null,
       "_view_module": "@jupyter-widgets/base",
       "_view_module_version": "1.2.0",
       "_view_name": "LayoutView",
       "align_content": null,
       "align_items": null,
       "align_self": null,
       "border": null,
       "bottom": null,
       "display": null,
       "flex": null,
       "flex_flow": null,
       "grid_area": null,
       "grid_auto_columns": null,
       "grid_auto_flow": null,
       "grid_auto_rows": null,
       "grid_column": null,
       "grid_gap": null,
       "grid_row": null,
       "grid_template_areas": null,
       "grid_template_columns": null,
       "grid_template_rows": null,
       "height": null,
       "justify_content": null,
       "justify_items": null,
       "left": null,
       "margin": null,
       "max_height": null,
       "max_width": null,
       "min_height": null,
       "min_width": null,
       "object_fit": null,
       "object_position": null,
       "order": null,
       "overflow": null,
       "overflow_x": null,
       "overflow_y": null,
       "padding": null,
       "right": null,
       "top": null,
       "visibility": null,
       "width": null
      }
     },
     "ac63ea64c27644bbbde7f23f0e4fc19b": {
      "model_module": "@jupyter-widgets/controls",
      "model_module_version": "1.5.0",
      "model_name": "HBoxModel",
      "state": {
       "_dom_classes": [],
       "_model_module": "@jupyter-widgets/controls",
       "_model_module_version": "1.5.0",
       "_model_name": "HBoxModel",
       "_view_count": null,
       "_view_module": "@jupyter-widgets/controls",
       "_view_module_version": "1.5.0",
       "_view_name": "HBoxView",
       "box_style": "",
       "children": [
        "IPY_MODEL_520020f3367b488d8dec36c6fb9eb594",
        "IPY_MODEL_9c9957bb16f548d0a163bd6aacd63a1e",
        "IPY_MODEL_671cb4cd4dbc477e8435c2a739a490af"
       ],
       "layout": "IPY_MODEL_4d4369490ed842d68496ec57035a90c0"
      }
     },
     "adc5f531d94d4ad5a2fc421e668f7b34": {
      "model_module": "@jupyter-widgets/controls",
      "model_module_version": "1.5.0",
      "model_name": "HTMLModel",
      "state": {
       "_dom_classes": [],
       "_model_module": "@jupyter-widgets/controls",
       "_model_module_version": "1.5.0",
       "_model_name": "HTMLModel",
       "_view_count": null,
       "_view_module": "@jupyter-widgets/controls",
       "_view_module_version": "1.5.0",
       "_view_name": "HTMLView",
       "description": "",
       "description_tooltip": null,
       "layout": "IPY_MODEL_4fd353f95abc42d880d172bbf5f7ae17",
       "placeholder": "​",
       "style": "IPY_MODEL_df66b15375174a05b4b4e6a4bbbf21c9",
       "value": "Downloading: 100%"
      }
     },
     "adf32fa6008145baabf7f1fc88462eef": {
      "model_module": "@jupyter-widgets/controls",
      "model_module_version": "1.5.0",
      "model_name": "DescriptionStyleModel",
      "state": {
       "_model_module": "@jupyter-widgets/controls",
       "_model_module_version": "1.5.0",
       "_model_name": "DescriptionStyleModel",
       "_view_count": null,
       "_view_module": "@jupyter-widgets/base",
       "_view_module_version": "1.2.0",
       "_view_name": "StyleView",
       "description_width": ""
      }
     },
     "af012771eef9463dabd3bd454edb4b4a": {
      "model_module": "@jupyter-widgets/base",
      "model_module_version": "1.2.0",
      "model_name": "LayoutModel",
      "state": {
       "_model_module": "@jupyter-widgets/base",
       "_model_module_version": "1.2.0",
       "_model_name": "LayoutModel",
       "_view_count": null,
       "_view_module": "@jupyter-widgets/base",
       "_view_module_version": "1.2.0",
       "_view_name": "LayoutView",
       "align_content": null,
       "align_items": null,
       "align_self": null,
       "border": null,
       "bottom": null,
       "display": null,
       "flex": null,
       "flex_flow": null,
       "grid_area": null,
       "grid_auto_columns": null,
       "grid_auto_flow": null,
       "grid_auto_rows": null,
       "grid_column": null,
       "grid_gap": null,
       "grid_row": null,
       "grid_template_areas": null,
       "grid_template_columns": null,
       "grid_template_rows": null,
       "height": null,
       "justify_content": null,
       "justify_items": null,
       "left": null,
       "margin": null,
       "max_height": null,
       "max_width": null,
       "min_height": null,
       "min_width": null,
       "object_fit": null,
       "object_position": null,
       "order": null,
       "overflow": null,
       "overflow_x": null,
       "overflow_y": null,
       "padding": null,
       "right": null,
       "top": null,
       "visibility": null,
       "width": null
      }
     },
     "b7aaffa53d134e6db861f4409eaf0d45": {
      "model_module": "@jupyter-widgets/base",
      "model_module_version": "1.2.0",
      "model_name": "LayoutModel",
      "state": {
       "_model_module": "@jupyter-widgets/base",
       "_model_module_version": "1.2.0",
       "_model_name": "LayoutModel",
       "_view_count": null,
       "_view_module": "@jupyter-widgets/base",
       "_view_module_version": "1.2.0",
       "_view_name": "LayoutView",
       "align_content": null,
       "align_items": null,
       "align_self": null,
       "border": null,
       "bottom": null,
       "display": null,
       "flex": null,
       "flex_flow": null,
       "grid_area": null,
       "grid_auto_columns": null,
       "grid_auto_flow": null,
       "grid_auto_rows": null,
       "grid_column": null,
       "grid_gap": null,
       "grid_row": null,
       "grid_template_areas": null,
       "grid_template_columns": null,
       "grid_template_rows": null,
       "height": null,
       "justify_content": null,
       "justify_items": null,
       "left": null,
       "margin": null,
       "max_height": null,
       "max_width": null,
       "min_height": null,
       "min_width": null,
       "object_fit": null,
       "object_position": null,
       "order": null,
       "overflow": null,
       "overflow_x": null,
       "overflow_y": null,
       "padding": null,
       "right": null,
       "top": null,
       "visibility": null,
       "width": null
      }
     },
     "b9d7f9b398cc4c8fbcebd3ac1d49c0bf": {
      "model_module": "@jupyter-widgets/base",
      "model_module_version": "1.2.0",
      "model_name": "LayoutModel",
      "state": {
       "_model_module": "@jupyter-widgets/base",
       "_model_module_version": "1.2.0",
       "_model_name": "LayoutModel",
       "_view_count": null,
       "_view_module": "@jupyter-widgets/base",
       "_view_module_version": "1.2.0",
       "_view_name": "LayoutView",
       "align_content": null,
       "align_items": null,
       "align_self": null,
       "border": null,
       "bottom": null,
       "display": null,
       "flex": null,
       "flex_flow": null,
       "grid_area": null,
       "grid_auto_columns": null,
       "grid_auto_flow": null,
       "grid_auto_rows": null,
       "grid_column": null,
       "grid_gap": null,
       "grid_row": null,
       "grid_template_areas": null,
       "grid_template_columns": null,
       "grid_template_rows": null,
       "height": null,
       "justify_content": null,
       "justify_items": null,
       "left": null,
       "margin": null,
       "max_height": null,
       "max_width": null,
       "min_height": null,
       "min_width": null,
       "object_fit": null,
       "object_position": null,
       "order": null,
       "overflow": null,
       "overflow_x": null,
       "overflow_y": null,
       "padding": null,
       "right": null,
       "top": null,
       "visibility": null,
       "width": null
      }
     },
     "bb628d8a3a3c4ec8bf69798d5a8519a1": {
      "model_module": "@jupyter-widgets/controls",
      "model_module_version": "1.5.0",
      "model_name": "DescriptionStyleModel",
      "state": {
       "_model_module": "@jupyter-widgets/controls",
       "_model_module_version": "1.5.0",
       "_model_name": "DescriptionStyleModel",
       "_view_count": null,
       "_view_module": "@jupyter-widgets/base",
       "_view_module_version": "1.2.0",
       "_view_name": "StyleView",
       "description_width": ""
      }
     },
     "bcff5042240c45439c1c8894b6621034": {
      "model_module": "@jupyter-widgets/base",
      "model_module_version": "1.2.0",
      "model_name": "LayoutModel",
      "state": {
       "_model_module": "@jupyter-widgets/base",
       "_model_module_version": "1.2.0",
       "_model_name": "LayoutModel",
       "_view_count": null,
       "_view_module": "@jupyter-widgets/base",
       "_view_module_version": "1.2.0",
       "_view_name": "LayoutView",
       "align_content": null,
       "align_items": null,
       "align_self": null,
       "border": null,
       "bottom": null,
       "display": null,
       "flex": null,
       "flex_flow": null,
       "grid_area": null,
       "grid_auto_columns": null,
       "grid_auto_flow": null,
       "grid_auto_rows": null,
       "grid_column": null,
       "grid_gap": null,
       "grid_row": null,
       "grid_template_areas": null,
       "grid_template_columns": null,
       "grid_template_rows": null,
       "height": null,
       "justify_content": null,
       "justify_items": null,
       "left": null,
       "margin": null,
       "max_height": null,
       "max_width": null,
       "min_height": null,
       "min_width": null,
       "object_fit": null,
       "object_position": null,
       "order": null,
       "overflow": null,
       "overflow_x": null,
       "overflow_y": null,
       "padding": null,
       "right": null,
       "top": null,
       "visibility": null,
       "width": null
      }
     },
     "c2f53157db864b06ac71308c687b3f4c": {
      "model_module": "@jupyter-widgets/controls",
      "model_module_version": "1.5.0",
      "model_name": "ProgressStyleModel",
      "state": {
       "_model_module": "@jupyter-widgets/controls",
       "_model_module_version": "1.5.0",
       "_model_name": "ProgressStyleModel",
       "_view_count": null,
       "_view_module": "@jupyter-widgets/base",
       "_view_module_version": "1.2.0",
       "_view_name": "StyleView",
       "bar_color": null,
       "description_width": ""
      }
     },
     "c50021d447f14d98907cfbe5ec16ec76": {
      "model_module": "@jupyter-widgets/base",
      "model_module_version": "1.2.0",
      "model_name": "LayoutModel",
      "state": {
       "_model_module": "@jupyter-widgets/base",
       "_model_module_version": "1.2.0",
       "_model_name": "LayoutModel",
       "_view_count": null,
       "_view_module": "@jupyter-widgets/base",
       "_view_module_version": "1.2.0",
       "_view_name": "LayoutView",
       "align_content": null,
       "align_items": null,
       "align_self": null,
       "border": null,
       "bottom": null,
       "display": null,
       "flex": null,
       "flex_flow": null,
       "grid_area": null,
       "grid_auto_columns": null,
       "grid_auto_flow": null,
       "grid_auto_rows": null,
       "grid_column": null,
       "grid_gap": null,
       "grid_row": null,
       "grid_template_areas": null,
       "grid_template_columns": null,
       "grid_template_rows": null,
       "height": null,
       "justify_content": null,
       "justify_items": null,
       "left": null,
       "margin": null,
       "max_height": null,
       "max_width": null,
       "min_height": null,
       "min_width": null,
       "object_fit": null,
       "object_position": null,
       "order": null,
       "overflow": null,
       "overflow_x": null,
       "overflow_y": null,
       "padding": null,
       "right": null,
       "top": null,
       "visibility": null,
       "width": null
      }
     },
     "c91837ddc0194cdca5d499279fd3a8a9": {
      "model_module": "@jupyter-widgets/base",
      "model_module_version": "1.2.0",
      "model_name": "LayoutModel",
      "state": {
       "_model_module": "@jupyter-widgets/base",
       "_model_module_version": "1.2.0",
       "_model_name": "LayoutModel",
       "_view_count": null,
       "_view_module": "@jupyter-widgets/base",
       "_view_module_version": "1.2.0",
       "_view_name": "LayoutView",
       "align_content": null,
       "align_items": null,
       "align_self": null,
       "border": null,
       "bottom": null,
       "display": null,
       "flex": null,
       "flex_flow": null,
       "grid_area": null,
       "grid_auto_columns": null,
       "grid_auto_flow": null,
       "grid_auto_rows": null,
       "grid_column": null,
       "grid_gap": null,
       "grid_row": null,
       "grid_template_areas": null,
       "grid_template_columns": null,
       "grid_template_rows": null,
       "height": null,
       "justify_content": null,
       "justify_items": null,
       "left": null,
       "margin": null,
       "max_height": null,
       "max_width": null,
       "min_height": null,
       "min_width": null,
       "object_fit": null,
       "object_position": null,
       "order": null,
       "overflow": null,
       "overflow_x": null,
       "overflow_y": null,
       "padding": null,
       "right": null,
       "top": null,
       "visibility": null,
       "width": null
      }
     },
     "cb3dec451fd84880be23085a13a5970e": {
      "model_module": "@jupyter-widgets/controls",
      "model_module_version": "1.5.0",
      "model_name": "HTMLModel",
      "state": {
       "_dom_classes": [],
       "_model_module": "@jupyter-widgets/controls",
       "_model_module_version": "1.5.0",
       "_model_name": "HTMLModel",
       "_view_count": null,
       "_view_module": "@jupyter-widgets/controls",
       "_view_module_version": "1.5.0",
       "_view_name": "HTMLView",
       "description": "",
       "description_tooltip": null,
       "layout": "IPY_MODEL_ac4d3218971844a78184a41a92f83480",
       "placeholder": "​",
       "style": "IPY_MODEL_8dbded84477c4fca9553dd44cbac8474",
       "value": " 314/314 [00:00&lt;00:00, 11.2kB/s]"
      }
     },
     "cb58fc2253064e88a158055f10309bf8": {
      "model_module": "@jupyter-widgets/base",
      "model_module_version": "1.2.0",
      "model_name": "LayoutModel",
      "state": {
       "_model_module": "@jupyter-widgets/base",
       "_model_module_version": "1.2.0",
       "_model_name": "LayoutModel",
       "_view_count": null,
       "_view_module": "@jupyter-widgets/base",
       "_view_module_version": "1.2.0",
       "_view_name": "LayoutView",
       "align_content": null,
       "align_items": null,
       "align_self": null,
       "border": null,
       "bottom": null,
       "display": null,
       "flex": null,
       "flex_flow": null,
       "grid_area": null,
       "grid_auto_columns": null,
       "grid_auto_flow": null,
       "grid_auto_rows": null,
       "grid_column": null,
       "grid_gap": null,
       "grid_row": null,
       "grid_template_areas": null,
       "grid_template_columns": null,
       "grid_template_rows": null,
       "height": null,
       "justify_content": null,
       "justify_items": null,
       "left": null,
       "margin": null,
       "max_height": null,
       "max_width": null,
       "min_height": null,
       "min_width": null,
       "object_fit": null,
       "object_position": null,
       "order": null,
       "overflow": null,
       "overflow_x": null,
       "overflow_y": null,
       "padding": null,
       "right": null,
       "top": null,
       "visibility": null,
       "width": null
      }
     },
     "d461516ad5c8489b8ec3cee57c0213bc": {
      "model_module": "@jupyter-widgets/base",
      "model_module_version": "1.2.0",
      "model_name": "LayoutModel",
      "state": {
       "_model_module": "@jupyter-widgets/base",
       "_model_module_version": "1.2.0",
       "_model_name": "LayoutModel",
       "_view_count": null,
       "_view_module": "@jupyter-widgets/base",
       "_view_module_version": "1.2.0",
       "_view_name": "LayoutView",
       "align_content": null,
       "align_items": null,
       "align_self": null,
       "border": null,
       "bottom": null,
       "display": null,
       "flex": null,
       "flex_flow": null,
       "grid_area": null,
       "grid_auto_columns": null,
       "grid_auto_flow": null,
       "grid_auto_rows": null,
       "grid_column": null,
       "grid_gap": null,
       "grid_row": null,
       "grid_template_areas": null,
       "grid_template_columns": null,
       "grid_template_rows": null,
       "height": null,
       "justify_content": null,
       "justify_items": null,
       "left": null,
       "margin": null,
       "max_height": null,
       "max_width": null,
       "min_height": null,
       "min_width": null,
       "object_fit": null,
       "object_position": null,
       "order": null,
       "overflow": null,
       "overflow_x": null,
       "overflow_y": null,
       "padding": null,
       "right": null,
       "top": null,
       "visibility": null,
       "width": null
      }
     },
     "d943f567d4ec4858958b4cad0976072e": {
      "model_module": "@jupyter-widgets/controls",
      "model_module_version": "1.5.0",
      "model_name": "HTMLModel",
      "state": {
       "_dom_classes": [],
       "_model_module": "@jupyter-widgets/controls",
       "_model_module_version": "1.5.0",
       "_model_name": "HTMLModel",
       "_view_count": null,
       "_view_module": "@jupyter-widgets/controls",
       "_view_module_version": "1.5.0",
       "_view_name": "HTMLView",
       "description": "",
       "description_tooltip": null,
       "layout": "IPY_MODEL_0fdb9a0ce7374b24b1b9176e595d16ef",
       "placeholder": "​",
       "style": "IPY_MODEL_f244e1d7b1fa4909904e4c23feaec461",
       "value": "Downloading: 100%"
      }
     },
     "db9ca7c36e05464db98c46bc7ceca03e": {
      "model_module": "@jupyter-widgets/controls",
      "model_module_version": "1.5.0",
      "model_name": "HBoxModel",
      "state": {
       "_dom_classes": [],
       "_model_module": "@jupyter-widgets/controls",
       "_model_module_version": "1.5.0",
       "_model_name": "HBoxModel",
       "_view_count": null,
       "_view_module": "@jupyter-widgets/controls",
       "_view_module_version": "1.5.0",
       "_view_name": "HBoxView",
       "box_style": "",
       "children": [
        "IPY_MODEL_4e0829e6af634559956d499701f16ef7",
        "IPY_MODEL_e2fb634fbfb0463d94fa94e6b81d22fc",
        "IPY_MODEL_2066a93ba92b42bb8bb8a50320d5b891"
       ],
       "layout": "IPY_MODEL_b9d7f9b398cc4c8fbcebd3ac1d49c0bf"
      }
     },
     "df66b15375174a05b4b4e6a4bbbf21c9": {
      "model_module": "@jupyter-widgets/controls",
      "model_module_version": "1.5.0",
      "model_name": "DescriptionStyleModel",
      "state": {
       "_model_module": "@jupyter-widgets/controls",
       "_model_module_version": "1.5.0",
       "_model_name": "DescriptionStyleModel",
       "_view_count": null,
       "_view_module": "@jupyter-widgets/base",
       "_view_module_version": "1.2.0",
       "_view_name": "StyleView",
       "description_width": ""
      }
     },
     "e2fb634fbfb0463d94fa94e6b81d22fc": {
      "model_module": "@jupyter-widgets/controls",
      "model_module_version": "1.5.0",
      "model_name": "FloatProgressModel",
      "state": {
       "_dom_classes": [],
       "_model_module": "@jupyter-widgets/controls",
       "_model_module_version": "1.5.0",
       "_model_name": "FloatProgressModel",
       "_view_count": null,
       "_view_module": "@jupyter-widgets/controls",
       "_view_module_version": "1.5.0",
       "_view_name": "ProgressView",
       "bar_style": "success",
       "description": "",
       "description_tooltip": null,
       "layout": "IPY_MODEL_281eebf0f9754f9892609f1ac898078a",
       "max": 231508.0,
       "min": 0.0,
       "orientation": "horizontal",
       "style": "IPY_MODEL_42aca57880a84fc0abddf34d9801c897",
       "value": 231508.0
      }
     },
     "ee3e4523f38b43428949203f9effc148": {
      "model_module": "@jupyter-widgets/controls",
      "model_module_version": "1.5.0",
      "model_name": "FloatProgressModel",
      "state": {
       "_dom_classes": [],
       "_model_module": "@jupyter-widgets/controls",
       "_model_module_version": "1.5.0",
       "_model_name": "FloatProgressModel",
       "_view_count": null,
       "_view_module": "@jupyter-widgets/controls",
       "_view_module_version": "1.5.0",
       "_view_name": "ProgressView",
       "bar_style": "success",
       "description": "",
       "description_tooltip": null,
       "layout": "IPY_MODEL_5ca8e15207f74f77ad6b213f60c9b956",
       "max": 466081.0,
       "min": 0.0,
       "orientation": "horizontal",
       "style": "IPY_MODEL_c2f53157db864b06ac71308c687b3f4c",
       "value": 466081.0
      }
     },
     "ef650a4fdc5b4d849bd680e631f7f5cd": {
      "model_module": "@jupyter-widgets/base",
      "model_module_version": "1.2.0",
      "model_name": "LayoutModel",
      "state": {
       "_model_module": "@jupyter-widgets/base",
       "_model_module_version": "1.2.0",
       "_model_name": "LayoutModel",
       "_view_count": null,
       "_view_module": "@jupyter-widgets/base",
       "_view_module_version": "1.2.0",
       "_view_name": "LayoutView",
       "align_content": null,
       "align_items": null,
       "align_self": null,
       "border": null,
       "bottom": null,
       "display": null,
       "flex": null,
       "flex_flow": null,
       "grid_area": null,
       "grid_auto_columns": null,
       "grid_auto_flow": null,
       "grid_auto_rows": null,
       "grid_column": null,
       "grid_gap": null,
       "grid_row": null,
       "grid_template_areas": null,
       "grid_template_columns": null,
       "grid_template_rows": null,
       "height": null,
       "justify_content": null,
       "justify_items": null,
       "left": null,
       "margin": null,
       "max_height": null,
       "max_width": null,
       "min_height": null,
       "min_width": null,
       "object_fit": null,
       "object_position": null,
       "order": null,
       "overflow": null,
       "overflow_x": null,
       "overflow_y": null,
       "padding": null,
       "right": null,
       "top": null,
       "visibility": null,
       "width": null
      }
     },
     "f244e1d7b1fa4909904e4c23feaec461": {
      "model_module": "@jupyter-widgets/controls",
      "model_module_version": "1.5.0",
      "model_name": "DescriptionStyleModel",
      "state": {
       "_model_module": "@jupyter-widgets/controls",
       "_model_module_version": "1.5.0",
       "_model_name": "DescriptionStyleModel",
       "_view_count": null,
       "_view_module": "@jupyter-widgets/base",
       "_view_module_version": "1.2.0",
       "_view_name": "StyleView",
       "description_width": ""
      }
     },
     "f5ab97f29e724428babcd10be22c704d": {
      "model_module": "@jupyter-widgets/controls",
      "model_module_version": "1.5.0",
      "model_name": "DescriptionStyleModel",
      "state": {
       "_model_module": "@jupyter-widgets/controls",
       "_model_module_version": "1.5.0",
       "_model_name": "DescriptionStyleModel",
       "_view_count": null,
       "_view_module": "@jupyter-widgets/base",
       "_view_module_version": "1.2.0",
       "_view_name": "StyleView",
       "description_width": ""
      }
     },
     "fbab76d0ba234d89a246f6fd62a894b9": {
      "model_module": "@jupyter-widgets/controls",
      "model_module_version": "1.5.0",
      "model_name": "HBoxModel",
      "state": {
       "_dom_classes": [],
       "_model_module": "@jupyter-widgets/controls",
       "_model_module_version": "1.5.0",
       "_model_name": "HBoxModel",
       "_view_count": null,
       "_view_module": "@jupyter-widgets/controls",
       "_view_module_version": "1.5.0",
       "_view_name": "HBoxView",
       "box_style": "",
       "children": [
        "IPY_MODEL_6f3400024bc5417db14dc54032b6dcb3",
        "IPY_MODEL_ee3e4523f38b43428949203f9effc148",
        "IPY_MODEL_145f1c6cff3a4b0c8a3ccfd5794697f9"
       ],
       "layout": "IPY_MODEL_c50021d447f14d98907cfbe5ec16ec76"
      }
     }
    },
    "version_major": 2,
    "version_minor": 0
   }
  }
 },
 "nbformat": 4,
 "nbformat_minor": 5
}
